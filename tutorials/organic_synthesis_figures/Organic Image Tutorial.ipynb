{
 "cells": [
  {
   "cell_type": "markdown",
   "metadata": {},
   "source": [
    "# Tutorial for iteratively develop knowledge base"
   ]
  },
  {
   "cell_type": "code",
   "execution_count": 1,
   "metadata": {},
   "outputs": [],
   "source": [
    "%load_ext autoreload\n",
    "%autoreload 2"
   ]
  },
  {
   "cell_type": "code",
   "execution_count": 5,
   "metadata": {},
   "outputs": [],
   "source": [
    "import matplotlib\n",
    "import matplotlib.pyplot as plt\n",
    "%matplotlib inline"
   ]
  },
  {
   "cell_type": "markdown",
   "metadata": {},
   "source": [
    "## Change fonduer home directory"
   ]
  },
  {
   "cell_type": "code",
   "execution_count": 6,
   "metadata": {},
   "outputs": [],
   "source": [
    "import os\n",
    "ATTRIBUTE = \"organic_figure\"\n",
    "os.environ['FONDUERHOME'] = '/Users/liwei/BoxSync/s2016/Dropbox/839_fonduer'\n",
    "os.environ['FONDUERDBNAME'] = ATTRIBUTE\n",
    "os.environ['SNORKELDB'] = 'postgres://localhost:5432/' + os.environ['FONDUERDBNAME']\n",
    "docs_path = os.environ['FONDUERHOME'] + '/tutorials/organic_synthesis_figures/data/html/'\n",
    "pdf_path = os.environ['FONDUERHOME'] + '/tutorials/organic_synthesis_figures/data/pdf/'"
   ]
  },
  {
   "cell_type": "code",
   "execution_count": 7,
   "metadata": {},
   "outputs": [],
   "source": [
    "from scipy import sparse\n",
    "from fonduer import SnorkelSession, candidate_subclass \n",
    "from fonduer import HTMLPreprocessor, OmniParser"
   ]
  },
  {
   "cell_type": "code",
   "execution_count": 8,
   "metadata": {},
   "outputs": [],
   "source": [
    "session = SnorkelSession()\n",
    "Org_Fig = candidate_subclass('Org_Fig', ['organic','figure'])"
   ]
  },
  {
   "cell_type": "markdown",
   "metadata": {},
   "source": [
    "## Parse the documents"
   ]
  },
  {
   "cell_type": "code",
   "execution_count": 9,
   "metadata": {},
   "outputs": [],
   "source": [
    "max_docs = 24\n",
    "doc_preprocessor = HTMLPreprocessor(docs_path, max_docs=max_docs)\n",
    "corpus_parser = OmniParser(structural=True, lingual=True, visual=True, \n",
    "                           pdf_path=pdf_path,\n",
    "                           blacklist=['style', 'script', 'meta', 'noscript'])"
   ]
  },
  {
   "cell_type": "markdown",
   "metadata": {},
   "source": [
    "Run this to get the document parsed"
   ]
  },
  {
   "cell_type": "code",
   "execution_count": null,
   "metadata": {},
   "outputs": [],
   "source": [
    "corpus_parser.apply(doc_preprocessor, parallelism=PARALLEL)"
   ]
  },
  {
   "cell_type": "markdown",
   "metadata": {},
   "source": [
    "## Split the documents"
   ]
  },
  {
   "cell_type": "code",
   "execution_count": 10,
   "metadata": {},
   "outputs": [],
   "source": [
    "from fonduer import Document\n",
    "\n",
    "docs = session.query(Document).order_by(Document.name).all()\n",
    "ld   = len(docs)"
   ]
  },
  {
   "cell_type": "code",
   "execution_count": 19,
   "metadata": {
    "collapsed": true
   },
   "outputs": [
    {
     "name": "stdout",
     "output_type": "stream",
     "text": [
      "['Organocatalytic asymmetric synthesis of cornolactones A and B, and formal synthesis of brasoside and littoralisone - Organic Chemistry Frontiers (RSC Publishing) DOI_10.1039_C7QO00843K', 'Domino cyclization_trifluoromethylation of 2-alkynylanilines using fluoroform-derived CuCF 3 _ synthesis of 3-(trifluoromethyl)indoles - Organic Chemistry Frontiers (RSC Publishing) DOI_10.1039_C8QO00191J', 'Bottom-up chemical synthesis of three-dimensional conjugated carbon nanostructures_ from carbon nanocages to carbon nanotubes - Organic Chemistry Frontiers (RSC Publishing) DOI_10.1039_C4QO00181H', 'Recent synthetic studies towards natural products via [5 + 2] cycloaddition reactions - Organic Chemistry Frontiers (RSC Publishing) DOI_10.1039_C7QO01123G', 'A problem solving approach for the diastereoselective synthesis of (5′ S )- and (5′ R )-5′,8-cyclopurine lesions - Organic Chemistry Frontiers (RSC Publishing) DOI_10.1039_C4QO00133H', 'Lewis acid catalyzed Nazarov type cyclization for the synthesis of a substituted indane framework_ total synthesis of (±)-mutisianthol - Organic Chemistry Frontiers (RSC Publishing) DOI_10.1039_C5QO00005J', 'Approach to the synthesis of the C1–C11 and C14–C18 portion of Leucascandrolide A - Organic Chemistry Frontiers (RSC Publishing) DOI_10.1039_C6QO00284F', 'Concise asymmetric total synthesis of bruceolline J - Organic Chemistry Frontiers (RSC Publishing) DOI_10.1039_C5QO00030K', 'Recent advances in the intramolecular Mannich reaction in natural products total synthesis - Organic Chemistry Frontiers (RSC Publishing) DOI_10.1039_C7QO01079F', 'Photoredox-catalyzed cascade annulation of methyl(2-(phenylethynyl)phenyl)sulfanes and methyl(2-(phenylethynyl)phenyl)selanes with sulfonyl chlorides_ ... - Organic Chemistry Frontiers (RSC Publishing) DOI_10.1039_C8QO00147B', 'Stereoconvergent synthesis of 1-deoxynojirimycin isomers by using the 3 component 4 centred Ugi reaction - Organic Chemistry Frontiers (RSC Publishing) DOI_10.1039_C5QO00019J', 'Silylative coupling of olefins with vinylsilanes in the synthesis of functionalized alkenes - Organic Chemistry Frontiers (RSC Publishing) DOI_10.1039_C5QO00018A', 'Synthesis and characterization of a doubly spin-labelled electrochemically driven molecular shuttle - Organic Chemistry Frontiers (RSC Publishing) DOI_10.1039_C8QO00187A', 'Brønsted acid-catalyzed synthesis of carbazoles from 2-substituted indoles - Organic Chemistry Frontiers (RSC Publishing) DOI_10.1039_C4QO00242C', 'Formal synthesis of (−)-platensimycin - Organic Chemistry Frontiers (RSC Publishing) DOI_10.1039_C5QO00109A', 'Annulation based on 8-aminoquinoline assisted C–H activation_ an emerging tool in N-heterocycle construction - Organic Chemistry Frontiers (RSC Publishing) DOI_10.1039_C6QO00077K', 'Efficient synthesis of 2-nitroimidazole derivatives and the bioreductive clinical candidate Evofosfamide (TH-302) - Organic Chemistry Frontiers (RSC Publishing) DOI_10.1039_C5QO00211G', 'Metal-mediated C–O bond forming reactions in natural product synthesis - Organic Chemistry Frontiers (RSC Publishing) DOI_10.1039_C7QO00671C', 'Syntheses and structures of [7]helicene and double helicene based on dithieno[2,3- b _2′,3′- d ]thiophene - Organic Chemistry Frontiers (RSC Publishing) DOI_10.1039_C7QO01049D', 'A room-temperature synthesis of 2,2′-bisoxazoles through palladium-catalyzed oxidative coupling of α-isocyanoacetamides - Organic Chemistry Frontiers (RSC Publishing) DOI_10.1039_C4QO00250D']\n"
     ]
    }
   ],
   "source": [
    "train_docs = set()\n",
    "test_docs  = set()\n",
    "splits = 5 / 6\n",
    "data = [(doc.name, doc) for doc in docs]\n",
    "data.sort(key=lambda x: x[0])\n",
    "for i, (doc_name, doc) in enumerate(data):\n",
    "    if i < splits * ld:\n",
    "        train_docs.add(doc)\n",
    "    else:\n",
    "        test_docs.add(doc)\n",
    "print([x.name for x in train_docs])"
   ]
  },
  {
   "cell_type": "code",
   "execution_count": 21,
   "metadata": {},
   "outputs": [],
   "source": [
    "from fonduer.snorkel.matchers import LambdaFunctionMatcher, Intersect, Union\n",
    "from fonduer.snorkel.matchers import RegexMatchSpan\n",
    "from regex_matcher import get_rgx_matcher"
   ]
  },
  {
   "cell_type": "code",
   "execution_count": 22,
   "metadata": {},
   "outputs": [],
   "source": [
    "org_rgx = get_rgx_matcher()\n",
    "\n",
    "rgx_matcher = RegexMatchSpan(rgx=org_rgx, longest_match_only=True, ignore_case=False)\n",
    "blacklist = ['CAS', 'PDF', 'RSC', 'SAR', 'TEM']\n",
    "prod_blacklist_lambda_matcher = LambdaFunctionMatcher(func=lambda x: x.text not in blacklist, ignore_case=False)\n",
    "blacklist_rgx = ['methods?.?']\n",
    "prod_blacklist_rgx_lambda_matcher = LambdaFunctionMatcher(\n",
    "    func=lambda x: all([re.match(r, x.text) is None for r in blacklist_rgx]), ignore_case=False)\n",
    "\n",
    "#prod_matcher = rgx_matcher\n",
    "prod_matcher = Intersect(rgx_matcher, prod_blacklist_lambda_matcher, prod_blacklist_rgx_lambda_matcher)"
   ]
  },
  {
   "cell_type": "code",
   "execution_count": 23,
   "metadata": {},
   "outputs": [],
   "source": [
    "from fonduer import CandidateExtractor\n",
    "from fonduer.lf_helpers import *\n",
    "import re\n",
    "\n",
    "def candidate_filter(c):\n",
    "    (organic, figure) = c\n",
    "    if same_file(organic, figure):\n",
    "        if mentionsFig(organic, figure) or mentionsOrg(figure, organic):\n",
    "            return True\n",
    "\n",
    "\n",
    "from organic_spaces import OmniNgramsProd\n",
    "prod_ngrams = OmniNgramsProd(parts_by_doc=None, n_max=3)\n",
    "\n",
    "from fonduer.matchers import LambdaFunctionFigureMatcher\n",
    "\n",
    "def white_black_list_matcher(fig):\n",
    "    white_list = ['synthesis', 'plausible']\n",
    "    black_list = ['spectra', 'x-ray', 'copyright', 'structur', 'application']\n",
    "\n",
    "    fig_desc = fig.figure.description.lower()\n",
    "    in_white = in_black = False\n",
    "    if any(fig_desc.find(v) >= 0 for v in white_list): in_white = True\n",
    "    if any(fig_desc.find(v) >= 0 for v in black_list): in_black = True\n",
    "    if in_black and (not in_white):\n",
    "        return False\n",
    "    return True\n",
    "\n",
    "def contain_organic_matcher(fig):\n",
    "    # filter 2\n",
    "    desc_wordlist = fig.figure.description.lower().split(' ')\n",
    "    if any(re.search(org_rgx, w) for w in desc_wordlist): return True\n",
    "    if not fig.figure.text == '':\n",
    "        orc_wordlist = fig.figure.text.lower().split('\\n')\n",
    "        orc_wordlist = [w for w in orc_wordlist if not w == '']\n",
    "        if any(re.search(org_rgx, w) for w in orc_wordlist): return True\n",
    "    return False\n",
    "\n",
    "fig_matcher1 = LambdaFunctionFigureMatcher(func=white_black_list_matcher)\n",
    "fig_matcher2 = LambdaFunctionFigureMatcher(func=contain_organic_matcher)\n",
    "fig_matcher = Union(fig_matcher1, fig_matcher2)"
   ]
  },
  {
   "cell_type": "code",
   "execution_count": null,
   "metadata": {},
   "outputs": [],
   "source": [
    "from fonduer.candidates import OmniDetailedFigures\n",
    "\n",
    "figs = OmniDetailedFigures()\n",
    "\n",
    "candidate_extractor = CandidateExtractor(Org_Fig,\n",
    "                        [prod_ngrams, figs],\n",
    "                        [prod_matcher, fig_matcher],\n",
    "                        candidate_filter=candidate_filter)\n",
    "\n",
    "candidate_extractor.apply(train_docs, split=0, parallelism=PARALLEL)\n",
    "candidate_extractor.apply(test_docs, split=1, parallelism=PARALLEL)"
   ]
  },
  {
   "cell_type": "markdown",
   "metadata": {},
   "source": [
    "## Run this to get the training and testing candidates"
   ]
  },
  {
   "cell_type": "code",
   "execution_count": 24,
   "metadata": {},
   "outputs": [
    {
     "name": "stdout",
     "output_type": "stream",
     "text": [
      "Number of train candidates: 3790\n",
      "Number of test candidates: 472\n"
     ]
    }
   ],
   "source": [
    "train_cands = session.query(Org_Fig).filter(Org_Fig.split == 0).all()\n",
    "test_cands = session.query(Org_Fig).filter(Org_Fig.split == 1).all()\n",
    "print(\"Number of train candidates: {}\\nNumber of test candidates: {}\".format(len(train_cands), len(test_cands)))"
   ]
  },
  {
   "cell_type": "markdown",
   "metadata": {},
   "source": [
    "## Generate features"
   ]
  },
  {
   "cell_type": "code",
   "execution_count": 25,
   "metadata": {},
   "outputs": [
    {
     "name": "stderr",
     "output_type": "stream",
     "text": [
      "Using TensorFlow backend.\n"
     ]
    }
   ],
   "source": [
    "from fonduer import BatchFeatureAnnotator\n",
    "from fonduer.features.features import get_organic_image_feats\n",
    "from fonduer.features.read_images import gen_image_features"
   ]
  },
  {
   "cell_type": "code",
   "execution_count": null,
   "metadata": {},
   "outputs": [],
   "source": [
    "# Only need to do this once\n",
    "print('Generating image features')\n",
    "# session.execute(\"delete from context where stable_id like '%feature%'\")\n",
    "gen_image_features(docs_path=docs_path)"
   ]
  },
  {
   "cell_type": "code",
   "execution_count": 28,
   "metadata": {},
   "outputs": [],
   "source": [
    "featurizer = BatchFeatureAnnotator(Org_Fig, f=get_organic_image_feats)"
   ]
  },
  {
   "cell_type": "markdown",
   "metadata": {},
   "source": [
    "### Run this to re-generate the features"
   ]
  },
  {
   "cell_type": "code",
   "execution_count": null,
   "metadata": {},
   "outputs": [],
   "source": [
    "print('Generating other features')\n",
    "F_train = featurizer.apply(split=0, replace_key_set=True, parallelism=PARALLEL) # generate sparse features\n",
    "F_test = featurizer.apply(split=1, replace_key_set=False, parallelism=PARALLEL) # generate sparse features\n",
    "print('Merging image features')"
   ]
  },
  {
   "cell_type": "markdown",
   "metadata": {},
   "source": [
    "### Run this to reload the features"
   ]
  },
  {
   "cell_type": "code",
   "execution_count": 29,
   "metadata": {},
   "outputs": [],
   "source": [
    "F_train = sparse.hstack(featurizer.load_matrix_and_image_features(split=0)).toarray()  # concatenate dense with sparse matrix\n",
    "F_test = sparse.hstack(featurizer.load_matrix_and_image_features(split=1), format=\"csr\").toarray()  # concatenate dense with sparse matrix"
   ]
  },
  {
   "cell_type": "code",
   "execution_count": 26,
   "metadata": {},
   "outputs": [],
   "source": [
    "from fonduer import BatchLabelAnnotator\n",
    "from organic_lfs import *"
   ]
  },
  {
   "cell_type": "markdown",
   "metadata": {},
   "source": [
    "put more labeling functions in ```organic_lfs```"
   ]
  },
  {
   "cell_type": "markdown",
   "metadata": {},
   "source": [
    "## Add more labeling functions here"
   ]
  },
  {
   "cell_type": "code",
   "execution_count": 34,
   "metadata": {},
   "outputs": [],
   "source": [
    "org_fig_lfs = [\n",
    "    LF_fig_name_match,\n",
    "    LF_text_desc_match,\n",
    "    LF_ocr_text_match,\n",
    "    LF_text_length_match,\n",
    "    LF_match_whitelist,\n",
    "    LF_match_blacklist,\n",
    "    LF_match_page,\n",
    "    LF_pos_near,\n",
    "    LF_organic_compound,\n",
    "    LF_synthesis_of,\n",
    "    LF_product_of,\n",
    "    LF_first_period,\n",
    "]"
   ]
  },
  {
   "cell_type": "code",
   "execution_count": 35,
   "metadata": {},
   "outputs": [],
   "source": [
    "labeler = BatchLabelAnnotator(Org_Fig, lfs=org_fig_lfs)"
   ]
  },
  {
   "cell_type": "code",
   "execution_count": null,
   "metadata": {},
   "outputs": [],
   "source": []
  },
  {
   "cell_type": "code",
   "execution_count": null,
   "metadata": {},
   "outputs": [],
   "source": [
    "L_train = labeler.apply(split=0, clear=True, parallelism=PARALLEL)"
   ]
  },
  {
   "cell_type": "code",
   "execution_count": 36,
   "metadata": {},
   "outputs": [],
   "source": [
    "L_train = labeler.load_matrix(split=0)"
   ]
  },
  {
   "cell_type": "code",
   "execution_count": 37,
   "metadata": {},
   "outputs": [
    {
     "data": {
      "text/plain": [
       "(3790, 13)"
      ]
     },
     "execution_count": 37,
     "metadata": {},
     "output_type": "execute_result"
    }
   ],
   "source": [
    "L_train.shape"
   ]
  },
  {
   "cell_type": "code",
   "execution_count": 38,
   "metadata": {},
   "outputs": [
    {
     "data": {
      "text/plain": [
       "Org_Fig(ImplicitSpan(\"b'trifluoroacetic'\", sentence=86309, words=[19,19], position=[0]), DetailedImage(Doc: b'Syntheses and structures of [7]helicene and double helicene based on dithieno[2,3- b _2\\xe2\\x80\\xb2,3\\xe2\\x80\\xb2- d ]thiophene - Organic Chemistry Frontiers (RSC Publishing) DOI_10.1039_C7QO01049D', Position: 3, Url: ./Syntheses and structures of [7]helicene and double helicene based on dithieno[2,3- b _2′,3′- d ]thiophene - Organic Chemistry Frontiers (RSC Publishing) DOI_10.1039_C7QO01049D_files/c7qo01049d-s2.gif, Figure_description: Synthetic route to rac-3 and 4. Reagents and conditions: (a) (i) n-BuLi (1.05 equiv.), THF, −78 °C; (ii) DMF (2.0 equiv.), −78 °C; (b) TiCl4 (5.0 equiv.), Zn (10.0 equiv.), pyridine (5.0 equiv.); (c) hv, iodine (0.5 equiv.), toluene; (d) trifluoroacetic acid, r.t.; (e) 2-(4,4,5,5-tetramethyl-1,3,2-dioxaborolane)-5-trimethylsilyl-thiophene (1.05 equiv.), K2CO3 (2.5 equiv.), Pd(PPh3)4 (0.06 equiv.), water (0.85 mL, 2 M), THF; (f) LDA (1.0 equiv.), THF, −78 °C; (ii) DMF (2.0 equiv.), −78 °C.))"
      ]
     },
     "execution_count": 38,
     "metadata": {},
     "output_type": "execute_result"
    }
   ],
   "source": [
    "L_train.get_candidate(session, 0)"
   ]
  },
  {
   "cell_type": "code",
   "execution_count": 46,
   "metadata": {},
   "outputs": [],
   "source": [
    "from fonduer import GenerativeModel"
   ]
  },
  {
   "cell_type": "code",
   "execution_count": 47,
   "metadata": {},
   "outputs": [
    {
     "name": "stdout",
     "output_type": "stream",
     "text": [
      "Inferred cardinality: 2\n"
     ]
    }
   ],
   "source": [
    "gen_model = GenerativeModel()\n",
    "gen_model.train(L_train, epochs=500, decay=0.9, step_size=0.001/L_train.shape[0], reg_param=0)\n",
    "train_marginals = gen_model.marginals(L_train)"
   ]
  },
  {
   "cell_type": "code",
   "execution_count": 50,
   "metadata": {},
   "outputs": [
    {
     "name": "stdout",
     "output_type": "stream",
     "text": [
      "[0.98873934 1.00105026 0.99423868 0.99357394 0.99136393 0.98849675\n",
      " 0.98902209 0.99090307 0.99299184 0.98845059 0.9928555  0.99598775\n",
      " 0.9881982 ]\n"
     ]
    }
   ],
   "source": [
    "print(gen_model.weights.lf_accuracy)"
   ]
  },
  {
   "cell_type": "code",
   "execution_count": 52,
   "metadata": {},
   "outputs": [
    {
     "name": "stdout",
     "output_type": "stream",
     "text": [
      "[========================================] 100%\n",
      "Copying org_fig_label_updates to postgres\n",
      "b'COPY 472\\n'\n"
     ]
    }
   ],
   "source": [
    "L_test = labeler.apply_existing(split = 1)"
   ]
  },
  {
   "cell_type": "code",
   "execution_count": 30,
   "metadata": {},
   "outputs": [
    {
     "data": {
      "text/plain": [
       "(3790, 54597)"
      ]
     },
     "execution_count": 30,
     "metadata": {},
     "output_type": "execute_result"
    }
   ],
   "source": [
    "F_train.shape"
   ]
  },
  {
   "cell_type": "code",
   "execution_count": 31,
   "metadata": {},
   "outputs": [
    {
     "data": {
      "text/plain": [
       "(472, 54597)"
      ]
     },
     "execution_count": 31,
     "metadata": {},
     "output_type": "execute_result"
    }
   ],
   "source": [
    "F_test.shape"
   ]
  },
  {
   "cell_type": "code",
   "execution_count": null,
   "metadata": {},
   "outputs": [],
   "source": [
    "from fonduer import LogisticRegression\n",
    "\n",
    "disc_model = LogisticRegression()\n",
    "disc_model.train(F_train, train_marginals, n_epochs=200, lr=0.001)\n",
    "test_candidates = [F_test.get_candidate(session, i) for i in range(F_test.shape[0])]\n",
    "test_score = disc_model.predictions(F_test)\n",
    "true_pred = [test_candidates[_] for _ in np.nditer(np.where(test_score > 0))]\n",
    "train_score = disc_model.predictions(F_train)"
   ]
  },
  {
   "cell_type": "code",
   "execution_count": 32,
   "metadata": {},
   "outputs": [],
   "source": [
    "F_train_sparse = featurizer.load_matrix(split = 0)"
   ]
  },
  {
   "cell_type": "code",
   "execution_count": 55,
   "metadata": {},
   "outputs": [],
   "source": [
    "F_test_sparse = featurizer.load_matrix(split = 1)"
   ]
  },
  {
   "cell_type": "code",
   "execution_count": 56,
   "metadata": {},
   "outputs": [
    {
     "data": {
      "text/plain": [
       "Org_Fig(ImplicitSpan(\"b'benzothiazoles'\", sentence=80303, words=[10,10], position=[0]), DetailedImage(Doc: b'Visible light photoredox catalysis_ conversion of a mixture of thiophenols and nitriles into 2-substituted benzothiazoles via consecutive C\\xe2\\x80\\x93S and C\\xe2\\x80\\x93N ... - Organic Chemistry Frontiers (RSC Publishing) DOI_10.1039_C8QO00219C', Position: 1, Url: ./Visible light photoredox catalysis_ conversion of a mixture of thiophenols and nitriles into 2-substituted benzothiazoles via consecutive C–S and C–N ... - Organic Chemistry Frontiers (RSC Publishing) DOI_10.1039_C8QO00219C_files/c8qo00219c-s2.gif, Figure_description: Visible-light-induced synthesis of 2-substituted benzothiazoles from the mixture of thiophenols and nitriles reported in this work.))"
      ]
     },
     "execution_count": 56,
     "metadata": {},
     "output_type": "execute_result"
    }
   ],
   "source": [
    "F_test_sparse.get_candidate(session,0)"
   ]
  },
  {
   "cell_type": "code",
   "execution_count": 39,
   "metadata": {},
   "outputs": [],
   "source": [
    "# load gold label\n",
    "from tutorials.organic_synthesis_figures.organic_utils import load_organic_labels"
   ]
  },
  {
   "cell_type": "code",
   "execution_count": 41,
   "metadata": {},
   "outputs": [
    {
     "name": "stdout",
     "output_type": "stream",
     "text": [
      "Loading 4262 candidate labels\n",
      "[========================================] 100%\n",
      "AnnotatorLabels created: 4262\n"
     ]
    }
   ],
   "source": [
    "gold_file = os.environ['FONDUERHOME'] + '/tutorials/organic_synthesis_figures/organic_gold.csv'\n",
    "\n",
    "load_organic_labels(session, Org_Fig, gold_file, ATTRIBUTE ,\n",
    "                    annotator_name='gold')"
   ]
  },
  {
   "cell_type": "code",
   "execution_count": 42,
   "metadata": {},
   "outputs": [],
   "source": [
    "from fonduer import load_gold_labels"
   ]
  },
  {
   "cell_type": "code",
   "execution_count": 43,
   "metadata": {},
   "outputs": [
    {
     "name": "stdout",
     "output_type": "stream",
     "text": [
      "                       j  Coverage  Overlaps  Conflicts   TP    FP  FN    TN  \\\n",
      "LF_match_blacklist     0  0.010290  0.010290   0.010290    0     0   0    39   \n",
      "LF_text_desc_match     1  0.884169  0.884169   0.751979  109  2260   0   982   \n",
      "LF_organic_compound    2  0.845119  0.845119   0.806596  101  3102   0     0   \n",
      "LF_match_whitelist     3  0.296570  0.296570   0.246174   74  1050   0     0   \n",
      "LF_ocr_text_match      4  1.000000  1.000000   0.861741   58   947  51  2734   \n",
      "LF_product_of          5  0.000528  0.000528   0.000528    0     0   0     2   \n",
      "LF_text_length_match   6  0.323219  0.323219   0.323219    0     0   0  1225   \n",
      "LF_fig_name_match      7  0.118734  0.118734   0.063325    0     0   0   450   \n",
      "LF_pos_near            8  0.262005  0.262005   0.202111   45   948   0     0   \n",
      "LF_match_keywords      9  0.000000  0.000000   0.000000    0     0   0     0   \n",
      "LF_match_page         10  1.000000  1.000000   0.861741   56  1118  53  2563   \n",
      "LF_first_period       11  0.502902  0.502902   0.436148  105  1801   0     0   \n",
      "LF_synthesis_of       12  0.121108  0.121108   0.111082   33    96  24   306   \n",
      "\n",
      "                      Empirical Acc.  \n",
      "LF_match_blacklist          1.000000  \n",
      "LF_text_desc_match          0.325574  \n",
      "LF_organic_compound         0.031533  \n",
      "LF_match_whitelist          0.065836  \n",
      "LF_ocr_text_match           0.736675  \n",
      "LF_product_of               1.000000  \n",
      "LF_text_length_match        1.000000  \n",
      "LF_fig_name_match           1.000000  \n",
      "LF_pos_near                 0.045317  \n",
      "LF_match_keywords                NaN  \n",
      "LF_match_page               0.691029  \n",
      "LF_first_period             0.055089  \n",
      "LF_synthesis_of             0.738562  \n"
     ]
    },
    {
     "name": "stderr",
     "output_type": "stream",
     "text": [
      "/Users/liwei/BoxSync/s2016/Dropbox/839_fonduer/fonduer/async_annotations.py:106: RuntimeWarning: invalid value encountered in true_divide\n",
      "  ac = (tp+tn) / (tp+tn+fp+fn)\n"
     ]
    }
   ],
   "source": [
    "L_gold_train = load_gold_labels(session, annotator_name=\"gold\", split=0)\n",
    "print(L_train.lf_stats(L_gold_train))"
   ]
  },
  {
   "cell_type": "code",
   "execution_count": 44,
   "metadata": {},
   "outputs": [],
   "source": [
    "L_gold_test = load_gold_labels(session, annotator_name=\"gold\", split=1)"
   ]
  },
  {
   "cell_type": "code",
   "execution_count": 53,
   "metadata": {},
   "outputs": [],
   "source": [
    "prec, rec, f1 = gen_model.score(L_test, L_gold_test)"
   ]
  },
  {
   "cell_type": "code",
   "execution_count": 54,
   "metadata": {},
   "outputs": [
    {
     "name": "stdout",
     "output_type": "stream",
     "text": [
      "precision  0.057971014492753624  recall  0.9090909090909091  f1  0.10899182561307902\n"
     ]
    }
   ],
   "source": [
    "print(\"precision \", prec, \" recall \", rec, \" f1 \", f1)"
   ]
  },
  {
   "cell_type": "code",
   "execution_count": null,
   "metadata": {},
   "outputs": [],
   "source": []
  }
 ],
 "metadata": {
  "kernelspec": {
   "display_name": "Python 3",
   "language": "python",
   "name": "python3"
  },
  "language_info": {
   "codemirror_mode": {
    "name": "ipython",
    "version": 3
   },
   "file_extension": ".py",
   "mimetype": "text/x-python",
   "name": "python",
   "nbconvert_exporter": "python",
   "pygments_lexer": "ipython3",
   "version": "3.6.4"
  }
 },
 "nbformat": 4,
 "nbformat_minor": 2
}
