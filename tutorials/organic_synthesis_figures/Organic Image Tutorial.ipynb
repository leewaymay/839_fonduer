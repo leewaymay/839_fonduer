{
 "cells": [
  {
   "cell_type": "markdown",
   "metadata": {},
   "source": [
    "# Tutorial for iteratively develop knowledge base"
   ]
  },
  {
   "cell_type": "code",
   "execution_count": 1,
   "metadata": {},
   "outputs": [],
   "source": [
    "%load_ext autoreload\n",
    "%autoreload 2"
   ]
  },
  {
   "cell_type": "code",
   "execution_count": 2,
   "metadata": {},
   "outputs": [],
   "source": [
    "import matplotlib\n",
    "import matplotlib.pyplot as plt\n",
    "%matplotlib inline"
   ]
  },
  {
   "cell_type": "markdown",
   "metadata": {},
   "source": [
    "## Change fonduer home directory"
   ]
  },
  {
   "cell_type": "code",
   "execution_count": 3,
   "metadata": {},
   "outputs": [],
   "source": [
    "import os\n",
    "ATTRIBUTE = \"organic_figure\"\n",
    "os.environ['FONDUERHOME'] = '/Users/liwei/BoxSync/s2016/Dropbox/839_fonduer'\n",
    "os.environ['FONDUERDBNAME'] = ATTRIBUTE\n",
    "os.environ['SNORKELDB'] = 'postgres://localhost:5432/' + os.environ['FONDUERDBNAME']\n",
    "docs_path = os.environ['FONDUERHOME'] + '/tutorials/organic_synthesis_figures/data/html/'\n",
    "pdf_path = os.environ['FONDUERHOME'] + '/tutorials/organic_synthesis_figures/data/pdf/'"
   ]
  },
  {
   "cell_type": "code",
   "execution_count": 4,
   "metadata": {},
   "outputs": [
    {
     "name": "stderr",
     "output_type": "stream",
     "text": [
      "/Users/liwei/anaconda3/envs/fonduer/lib/python3.6/site-packages/h5py/__init__.py:36: FutureWarning: Conversion of the second argument of issubdtype from `float` to `np.floating` is deprecated. In future, it will be treated as `np.float64 == np.dtype(float).type`.\n",
      "  from ._conv import register_converters as _register_converters\n"
     ]
    }
   ],
   "source": [
    "from scipy import sparse\n",
    "from fonduer import SnorkelSession, candidate_subclass \n",
    "from fonduer import HTMLPreprocessor, OmniParser"
   ]
  },
  {
   "cell_type": "code",
   "execution_count": 5,
   "metadata": {},
   "outputs": [],
   "source": [
    "session = SnorkelSession()\n",
    "Org_Fig = candidate_subclass('Org_Fig', ['organic','figure'])"
   ]
  },
  {
   "cell_type": "markdown",
   "metadata": {},
   "source": [
    "## Parse the documents"
   ]
  },
  {
   "cell_type": "code",
   "execution_count": 6,
   "metadata": {},
   "outputs": [],
   "source": [
    "max_docs = 24\n",
    "doc_preprocessor = HTMLPreprocessor(docs_path, max_docs=max_docs)\n",
    "corpus_parser = OmniParser(structural=True, lingual=True, visual=True, \n",
    "                           pdf_path=pdf_path,\n",
    "                           blacklist=['style', 'script', 'meta', 'noscript'])"
   ]
  },
  {
   "cell_type": "markdown",
   "metadata": {},
   "source": [
    "Run this to get the document parsed"
   ]
  },
  {
   "cell_type": "code",
   "execution_count": null,
   "metadata": {},
   "outputs": [],
   "source": [
    "corpus_parser.apply(doc_preprocessor, parallelism=PARALLEL)"
   ]
  },
  {
   "cell_type": "markdown",
   "metadata": {},
   "source": [
    "## Split the documents"
   ]
  },
  {
   "cell_type": "code",
   "execution_count": 7,
   "metadata": {},
   "outputs": [],
   "source": [
    "from fonduer import Document\n",
    "\n",
    "docs = session.query(Document).order_by(Document.name).all()\n",
    "ld   = len(docs)"
   ]
  },
  {
   "cell_type": "code",
   "execution_count": 8,
   "metadata": {},
   "outputs": [
    {
     "data": {
      "text/plain": [
       "24"
      ]
     },
     "execution_count": 8,
     "metadata": {},
     "output_type": "execute_result"
    }
   ],
   "source": [
    "ld"
   ]
  },
  {
   "cell_type": "code",
   "execution_count": 9,
   "metadata": {},
   "outputs": [
    {
     "name": "stdout",
     "output_type": "stream",
     "text": [
      "['Annulation based on 8-aminoquinoline assisted C–H activation_ an emerging tool in N-heterocycle construction - Organic Chemistry Frontiers (RSC Publishing) DOI_10.1039_C6QO00077K', 'Efficient synthesis of 2-nitroimidazole derivatives and the bioreductive clinical candidate Evofosfamide (TH-302) - Organic Chemistry Frontiers (RSC Publishing) DOI_10.1039_C5QO00211G', 'Formal synthesis of (−)-platensimycin - Organic Chemistry Frontiers (RSC Publishing) DOI_10.1039_C5QO00109A', 'Lewis acid catalyzed Nazarov type cyclization for the synthesis of a substituted indane framework_ total synthesis of (±)-mutisianthol - Organic Chemistry Frontiers (RSC Publishing) DOI_10.1039_C5QO00005J', 'Brønsted acid-catalyzed synthesis of carbazoles from 2-substituted indoles - Organic Chemistry Frontiers (RSC Publishing) DOI_10.1039_C4QO00242C', 'Photoredox-catalyzed cascade annulation of methyl(2-(phenylethynyl)phenyl)sulfanes and methyl(2-(phenylethynyl)phenyl)selanes with sulfonyl chlorides_ ... - Organic Chemistry Frontiers (RSC Publishing) DOI_10.1039_C8QO00147B', 'Silylative coupling of olefins with vinylsilanes in the synthesis of functionalized alkenes - Organic Chemistry Frontiers (RSC Publishing) DOI_10.1039_C5QO00018A', 'Metal-mediated C–O bond forming reactions in natural product synthesis - Organic Chemistry Frontiers (RSC Publishing) DOI_10.1039_C7QO00671C', 'A room-temperature synthesis of 2,2′-bisoxazoles through palladium-catalyzed oxidative coupling of α-isocyanoacetamides - Organic Chemistry Frontiers (RSC Publishing) DOI_10.1039_C4QO00250D', 'Organocatalytic asymmetric synthesis of cornolactones A and B, and formal synthesis of brasoside and littoralisone - Organic Chemistry Frontiers (RSC Publishing) DOI_10.1039_C7QO00843K', 'Recent synthetic studies towards natural products via [5 + 2] cycloaddition reactions - Organic Chemistry Frontiers (RSC Publishing) DOI_10.1039_C7QO01123G', 'Bottom-up chemical synthesis of three-dimensional conjugated carbon nanostructures_ from carbon nanocages to carbon nanotubes - Organic Chemistry Frontiers (RSC Publishing) DOI_10.1039_C4QO00181H', 'Domino cyclization_trifluoromethylation of 2-alkynylanilines using fluoroform-derived CuCF 3 _ synthesis of 3-(trifluoromethyl)indoles - Organic Chemistry Frontiers (RSC Publishing) DOI_10.1039_C8QO00191J', 'Stereoconvergent synthesis of 1-deoxynojirimycin isomers by using the 3 component 4 centred Ugi reaction - Organic Chemistry Frontiers (RSC Publishing) DOI_10.1039_C5QO00019J', 'Syntheses and structures of [7]helicene and double helicene based on dithieno[2,3- b _2′,3′- d ]thiophene - Organic Chemistry Frontiers (RSC Publishing) DOI_10.1039_C7QO01049D', 'A problem solving approach for the diastereoselective synthesis of (5′ S )- and (5′ R )-5′,8-cyclopurine lesions - Organic Chemistry Frontiers (RSC Publishing) DOI_10.1039_C4QO00133H', 'Concise asymmetric total synthesis of bruceolline J - Organic Chemistry Frontiers (RSC Publishing) DOI_10.1039_C5QO00030K', 'Recent advances in the intramolecular Mannich reaction in natural products total synthesis - Organic Chemistry Frontiers (RSC Publishing) DOI_10.1039_C7QO01079F', 'Approach to the synthesis of the C1–C11 and C14–C18 portion of Leucascandrolide A - Organic Chemistry Frontiers (RSC Publishing) DOI_10.1039_C6QO00284F', 'Synthesis and characterization of a doubly spin-labelled electrochemically driven molecular shuttle - Organic Chemistry Frontiers (RSC Publishing) DOI_10.1039_C8QO00187A']\n"
     ]
    }
   ],
   "source": [
    "train_docs = set()\n",
    "test_docs  = set()\n",
    "splits = 5 / 6\n",
    "data = [(doc.name, doc) for doc in docs]\n",
    "data.sort(key=lambda x: x[0])\n",
    "for i, (doc_name, doc) in enumerate(data):\n",
    "    if i < splits * ld:\n",
    "        train_docs.add(doc)\n",
    "    else:\n",
    "        test_docs.add(doc)\n",
    "print([x.name for x in train_docs])"
   ]
  },
  {
   "cell_type": "code",
   "execution_count": 10,
   "metadata": {},
   "outputs": [],
   "source": [
    "from fonduer.snorkel.matchers import LambdaFunctionMatcher, Intersect, Union\n",
    "from fonduer.snorkel.matchers import RegexMatchSpan\n",
    "from regex_matcher import get_rgx_matcher"
   ]
  },
  {
   "cell_type": "code",
   "execution_count": 22,
   "metadata": {},
   "outputs": [],
   "source": [
    "org_rgx = get_rgx_matcher()\n",
    "\n",
    "rgx_matcher = RegexMatchSpan(rgx=org_rgx, longest_match_only=True, ignore_case=False)\n",
    "blacklist = ['CAS', 'PDF', 'RSC', 'SAR', 'TEM']\n",
    "prod_blacklist_lambda_matcher = LambdaFunctionMatcher(func=lambda x: x.text not in blacklist, ignore_case=False)\n",
    "blacklist_rgx = ['methods?.?']\n",
    "prod_blacklist_rgx_lambda_matcher = LambdaFunctionMatcher(\n",
    "    func=lambda x: all([re.match(r, x.text) is None for r in blacklist_rgx]), ignore_case=False)\n",
    "\n",
    "#prod_matcher = rgx_matcher\n",
    "prod_matcher = Intersect(rgx_matcher, prod_blacklist_lambda_matcher, prod_blacklist_rgx_lambda_matcher)"
   ]
  },
  {
   "cell_type": "code",
   "execution_count": 23,
   "metadata": {},
   "outputs": [],
   "source": [
    "from fonduer import CandidateExtractor\n",
    "from fonduer.lf_helpers import *\n",
    "import re\n",
    "\n",
    "def candidate_filter(c):\n",
    "    (organic, figure) = c\n",
    "    if same_file(organic, figure):\n",
    "        if mentionsFig(organic, figure) or mentionsOrg(figure, organic):\n",
    "            return True\n",
    "\n",
    "\n",
    "from organic_spaces import OmniNgramsProd\n",
    "prod_ngrams = OmniNgramsProd(parts_by_doc=None, n_max=3)\n",
    "\n",
    "from fonduer.matchers import LambdaFunctionFigureMatcher\n",
    "\n",
    "def white_black_list_matcher(fig):\n",
    "    white_list = ['synthesis', 'plausible']\n",
    "    black_list = ['spectra', 'x-ray', 'copyright', 'structur', 'application']\n",
    "\n",
    "    fig_desc = fig.figure.description.lower()\n",
    "    in_white = in_black = False\n",
    "    if any(fig_desc.find(v) >= 0 for v in white_list): in_white = True\n",
    "    if any(fig_desc.find(v) >= 0 for v in black_list): in_black = True\n",
    "    if in_black and (not in_white):\n",
    "        return False\n",
    "    return True\n",
    "\n",
    "def contain_organic_matcher(fig):\n",
    "    # filter 2\n",
    "    desc_wordlist = fig.figure.description.lower().split(' ')\n",
    "    if any(re.search(org_rgx, w) for w in desc_wordlist): return True\n",
    "    if not fig.figure.text == '':\n",
    "        orc_wordlist = fig.figure.text.lower().split('\\n')\n",
    "        orc_wordlist = [w for w in orc_wordlist if not w == '']\n",
    "        if any(re.search(org_rgx, w) for w in orc_wordlist): return True\n",
    "    return False\n",
    "\n",
    "fig_matcher1 = LambdaFunctionFigureMatcher(func=white_black_list_matcher)\n",
    "fig_matcher2 = LambdaFunctionFigureMatcher(func=contain_organic_matcher)\n",
    "fig_matcher = Union(fig_matcher1, fig_matcher2)"
   ]
  },
  {
   "cell_type": "code",
   "execution_count": null,
   "metadata": {},
   "outputs": [],
   "source": [
    "from fonduer.candidates import OmniDetailedFigures\n",
    "\n",
    "figs = OmniDetailedFigures()\n",
    "\n",
    "candidate_extractor = CandidateExtractor(Org_Fig,\n",
    "                        [prod_ngrams, figs],\n",
    "                        [prod_matcher, fig_matcher],\n",
    "                        candidate_filter=candidate_filter)\n",
    "\n",
    "candidate_extractor.apply(train_docs, split=0, parallelism=PARALLEL)\n",
    "candidate_extractor.apply(test_docs, split=1, parallelism=PARALLEL)"
   ]
  },
  {
   "cell_type": "markdown",
   "metadata": {},
   "source": [
    "## Run this to get the training and testing candidates"
   ]
  },
  {
   "cell_type": "code",
   "execution_count": 24,
   "metadata": {},
   "outputs": [
    {
     "name": "stdout",
     "output_type": "stream",
     "text": [
      "Number of train candidates: 3790\n",
      "Number of test candidates: 472\n"
     ]
    }
   ],
   "source": [
    "train_cands = session.query(Org_Fig).filter(Org_Fig.split == 0).all()\n",
    "test_cands = session.query(Org_Fig).filter(Org_Fig.split == 1).all()\n",
    "print(\"Number of train candidates: {}\\nNumber of test candidates: {}\".format(len(train_cands), len(test_cands)))"
   ]
  },
  {
   "cell_type": "markdown",
   "metadata": {},
   "source": [
    "## Generate features"
   ]
  },
  {
   "cell_type": "code",
   "execution_count": 13,
   "metadata": {},
   "outputs": [
    {
     "name": "stderr",
     "output_type": "stream",
     "text": [
      "Using TensorFlow backend.\n"
     ]
    }
   ],
   "source": [
    "from fonduer import BatchFeatureAnnotator\n",
    "from fonduer.features.features import get_organic_image_feats\n",
    "from fonduer.features.read_images import gen_image_features"
   ]
  },
  {
   "cell_type": "code",
   "execution_count": null,
   "metadata": {},
   "outputs": [],
   "source": [
    "# Only need to do this once\n",
    "print('Generating image features')\n",
    "# session.execute(\"delete from context where stable_id like '%feature%'\")\n",
    "gen_image_features(docs_path=docs_path)"
   ]
  },
  {
   "cell_type": "code",
   "execution_count": 14,
   "metadata": {},
   "outputs": [],
   "source": [
    "featurizer = BatchFeatureAnnotator(Org_Fig, f=get_organic_image_feats)"
   ]
  },
  {
   "cell_type": "markdown",
   "metadata": {},
   "source": [
    "### Run this to re-generate the features"
   ]
  },
  {
   "cell_type": "code",
   "execution_count": null,
   "metadata": {},
   "outputs": [],
   "source": [
    "print('Generating other features')\n",
    "F_train = featurizer.apply(split=0, replace_key_set=True, parallelism=PARALLEL) # generate sparse features\n",
    "F_test = featurizer.apply(split=1, replace_key_set=False, parallelism=PARALLEL) # generate sparse features\n",
    "print('Merging image features')"
   ]
  },
  {
   "cell_type": "markdown",
   "metadata": {},
   "source": [
    "### Run this to reload the features"
   ]
  },
  {
   "cell_type": "code",
   "execution_count": 15,
   "metadata": {},
   "outputs": [],
   "source": [
    "F_train = sparse.hstack(featurizer.load_matrix_and_image_features(split=0)).toarray()  # concatenate dense with sparse matrix\n",
    "F_test = sparse.hstack(featurizer.load_matrix_and_image_features(split=1), format=\"csr\").toarray()  # concatenate dense with sparse matrix"
   ]
  },
  {
   "cell_type": "code",
   "execution_count": 16,
   "metadata": {},
   "outputs": [],
   "source": [
    "from fonduer import BatchLabelAnnotator\n",
    "from organic_lfs import *"
   ]
  },
  {
   "cell_type": "markdown",
   "metadata": {},
   "source": [
    "put more labeling functions in ```organic_lfs```"
   ]
  },
  {
   "cell_type": "markdown",
   "metadata": {},
   "source": [
    "## Add more labeling functions here"
   ]
  },
  {
   "cell_type": "code",
   "execution_count": 17,
   "metadata": {},
   "outputs": [],
   "source": [
    "org_fig_lfs = [\n",
    "    LF_fig_name_match,\n",
    "    LF_text_desc_match,\n",
    "    LF_ocr_text_match,\n",
    "    LF_text_length_match,\n",
    "    LF_match_whitelist,\n",
    "    LF_match_blacklist,\n",
    "    LF_match_page,\n",
    "    LF_pos_near,\n",
    "    LF_organic_compound,\n",
    "    LF_synthesis_of,\n",
    "    LF_product_of,\n",
    "    LF_first_period,\n",
    "]"
   ]
  },
  {
   "cell_type": "code",
   "execution_count": 18,
   "metadata": {},
   "outputs": [],
   "source": [
    "labeler = BatchLabelAnnotator(Org_Fig, lfs=org_fig_lfs)"
   ]
  },
  {
   "cell_type": "code",
   "execution_count": null,
   "metadata": {},
   "outputs": [],
   "source": [
    "L_train = labeler.apply(split=0, clear=True, parallelism=PARALLEL)"
   ]
  },
  {
   "cell_type": "code",
   "execution_count": 19,
   "metadata": {},
   "outputs": [],
   "source": [
    "L_train = labeler.load_matrix(split=0)"
   ]
  },
  {
   "cell_type": "code",
   "execution_count": 20,
   "metadata": {},
   "outputs": [
    {
     "data": {
      "text/plain": [
       "(3790, 13)"
      ]
     },
     "execution_count": 20,
     "metadata": {},
     "output_type": "execute_result"
    }
   ],
   "source": [
    "L_train.shape"
   ]
  },
  {
   "cell_type": "code",
   "execution_count": 38,
   "metadata": {},
   "outputs": [
    {
     "data": {
      "text/plain": [
       "Org_Fig(ImplicitSpan(\"b'trifluoroacetic'\", sentence=86309, words=[19,19], position=[0]), DetailedImage(Doc: b'Syntheses and structures of [7]helicene and double helicene based on dithieno[2,3- b _2\\xe2\\x80\\xb2,3\\xe2\\x80\\xb2- d ]thiophene - Organic Chemistry Frontiers (RSC Publishing) DOI_10.1039_C7QO01049D', Position: 3, Url: ./Syntheses and structures of [7]helicene and double helicene based on dithieno[2,3- b _2′,3′- d ]thiophene - Organic Chemistry Frontiers (RSC Publishing) DOI_10.1039_C7QO01049D_files/c7qo01049d-s2.gif, Figure_description: Synthetic route to rac-3 and 4. Reagents and conditions: (a) (i) n-BuLi (1.05 equiv.), THF, −78 °C; (ii) DMF (2.0 equiv.), −78 °C; (b) TiCl4 (5.0 equiv.), Zn (10.0 equiv.), pyridine (5.0 equiv.); (c) hv, iodine (0.5 equiv.), toluene; (d) trifluoroacetic acid, r.t.; (e) 2-(4,4,5,5-tetramethyl-1,3,2-dioxaborolane)-5-trimethylsilyl-thiophene (1.05 equiv.), K2CO3 (2.5 equiv.), Pd(PPh3)4 (0.06 equiv.), water (0.85 mL, 2 M), THF; (f) LDA (1.0 equiv.), THF, −78 °C; (ii) DMF (2.0 equiv.), −78 °C.))"
      ]
     },
     "execution_count": 38,
     "metadata": {},
     "output_type": "execute_result"
    }
   ],
   "source": [
    "L_train.get_candidate(session, 0)"
   ]
  },
  {
   "cell_type": "code",
   "execution_count": 46,
   "metadata": {},
   "outputs": [],
   "source": [
    "from fonduer import GenerativeModel"
   ]
  },
  {
   "cell_type": "code",
   "execution_count": 47,
   "metadata": {},
   "outputs": [
    {
     "name": "stdout",
     "output_type": "stream",
     "text": [
      "Inferred cardinality: 2\n"
     ]
    }
   ],
   "source": [
    "gen_model = GenerativeModel()\n",
    "gen_model.train(L_train, epochs=500, decay=0.9, step_size=0.001/L_train.shape[0], reg_param=0)\n",
    "train_marginals = gen_model.marginals(L_train)"
   ]
  },
  {
   "cell_type": "code",
   "execution_count": 50,
   "metadata": {},
   "outputs": [
    {
     "name": "stdout",
     "output_type": "stream",
     "text": [
      "[0.98873934 1.00105026 0.99423868 0.99357394 0.99136393 0.98849675\n",
      " 0.98902209 0.99090307 0.99299184 0.98845059 0.9928555  0.99598775\n",
      " 0.9881982 ]\n"
     ]
    }
   ],
   "source": [
    "print(gen_model.weights.lf_accuracy)"
   ]
  },
  {
   "cell_type": "code",
   "execution_count": 52,
   "metadata": {},
   "outputs": [
    {
     "name": "stdout",
     "output_type": "stream",
     "text": [
      "[========================================] 100%\n",
      "Copying org_fig_label_updates to postgres\n",
      "b'COPY 472\\n'\n"
     ]
    }
   ],
   "source": [
    "L_test = labeler.apply_existing(split = 1)"
   ]
  },
  {
   "cell_type": "code",
   "execution_count": 22,
   "metadata": {},
   "outputs": [
    {
     "name": "stdout",
     "output_type": "stream",
     "text": [
      "Loading 4262 candidate labels\n",
      "[========================================] 100%\n",
      "AnnotatorLabels created: 4262\n"
     ]
    }
   ],
   "source": [
    "gold_file = os.environ['FONDUERHOME'] + '/tutorials/organic_synthesis_figures/organic_gold.csv'\n",
    "\n",
    "load_organic_labels(session, Org_Fig, gold_file, ATTRIBUTE ,\n",
    "                    annotator_name='gold')\n",
    "from fonduer import load_gold_labels"
   ]
  },
  {
   "cell_type": "code",
   "execution_count": 23,
   "metadata": {},
   "outputs": [
    {
     "name": "stdout",
     "output_type": "stream",
     "text": [
      "                       j  Coverage  Overlaps  Conflicts   TP    FP   FN    TN  \\\n",
      "LF_match_blacklist     0  0.010290  0.010290   0.010290    0     0    0    39   \n",
      "LF_organic_compound    1  0.845119  0.845119   0.809499  368  2835    0     0   \n",
      "LF_ocr_text_match      2  1.000000  1.000000   0.863061  358   632  196  2604   \n",
      "LF_first_period        3  0.502902  0.502902   0.437995  512  1394    0     0   \n",
      "LF_synthesis_of        4  0.121108  0.121108   0.111346   72    57   95   235   \n",
      "LF_product_of          5  0.000528  0.000528   0.000528    0     0    0     2   \n",
      "LF_text_desc_match     6  0.880475  0.880475   0.750396  496  1859    0   982   \n",
      "LF_match_whitelist     7  0.296570  0.296570   0.247493  352   772    0     0   \n",
      "LF_text_length_match   8  0.394723  0.394723   0.394723    0     0    0  1496   \n",
      "LF_match_keywords      9  0.000000  0.000000   0.000000    0     0    0     0   \n",
      "LF_pos_near           10  0.262005  0.262005   0.204222  197   796    0     0   \n",
      "LF_fig_name_match     11  0.118734  0.118734   0.063325    0     0    0   450   \n",
      "LF_match_page         12  0.690237  0.690237   0.633773    0     0  297  2319   \n",
      "\n",
      "                      Empirical Acc.  \n",
      "LF_match_blacklist          1.000000  \n",
      "LF_organic_compound         0.114892  \n",
      "LF_ocr_text_match           0.781530  \n",
      "LF_first_period             0.268625  \n",
      "LF_synthesis_of             0.668845  \n",
      "LF_product_of               1.000000  \n",
      "LF_text_desc_match          0.442913  \n",
      "LF_match_whitelist          0.313167  \n",
      "LF_text_length_match        1.000000  \n",
      "LF_match_keywords                NaN  \n",
      "LF_pos_near                 0.198389  \n",
      "LF_fig_name_match           1.000000  \n",
      "LF_match_page               0.886468  \n"
     ]
    },
    {
     "name": "stderr",
     "output_type": "stream",
     "text": [
      "/Users/liwei/BoxSync/s2016/Dropbox/839_fonduer/fonduer/async_annotations.py:106: RuntimeWarning: invalid value encountered in true_divide\n",
      "  ac = (tp+tn) / (tp+tn+fp+fn)\n"
     ]
    }
   ],
   "source": [
    "# load gold label\n",
    "from tutorials.organic_synthesis_figures.organic_utils import load_organic_labels\n",
    "L_gold_train = load_gold_labels(session, annotator_name=\"gold\", split=0)\n",
    "print(L_train.lf_stats(L_gold_train))"
   ]
  },
  {
   "cell_type": "code",
   "execution_count": 24,
   "metadata": {},
   "outputs": [],
   "source": [
    "gold_marginals = (L_gold_train.toarray().reshape(-1)+1)/2"
   ]
  },
  {
   "cell_type": "code",
   "execution_count": 25,
   "metadata": {},
   "outputs": [
    {
     "name": "stdout",
     "output_type": "stream",
     "text": [
      "[LogisticRegression] Training model\n",
      "[LogisticRegression] n_train=3790  #epochs=200  batch size=256\n",
      "[LogisticRegression] Epoch 0 (3.73s)\tAverage loss=3216.047607\n",
      "[LogisticRegression] Epoch 5 (15.34s)\tAverage loss=373.735413\n",
      "[LogisticRegression] Epoch 10 (25.37s)\tAverage loss=106.666229\n",
      "[LogisticRegression] Epoch 15 (36.61s)\tAverage loss=88.809669\n",
      "[LogisticRegression] Epoch 20 (47.18s)\tAverage loss=68.708054\n",
      "[LogisticRegression] Epoch 25 (56.60s)\tAverage loss=46.641628\n",
      "[LogisticRegression] Epoch 30 (66.82s)\tAverage loss=28.681437\n",
      "[LogisticRegression] Epoch 35 (76.90s)\tAverage loss=19.645073\n",
      "[LogisticRegression] Epoch 40 (86.64s)\tAverage loss=12.058932\n",
      "[LogisticRegression] Epoch 45 (96.09s)\tAverage loss=7.091141\n",
      "[LogisticRegression] Epoch 50 (105.38s)\tAverage loss=4.600522\n",
      "[LogisticRegression] Epoch 55 (114.72s)\tAverage loss=3.445296\n",
      "[LogisticRegression] Epoch 60 (124.00s)\tAverage loss=2.838413\n",
      "[LogisticRegression] Epoch 65 (133.34s)\tAverage loss=2.284145\n",
      "[LogisticRegression] Epoch 70 (142.67s)\tAverage loss=1.861591\n",
      "[LogisticRegression] Epoch 75 (152.97s)\tAverage loss=1.423011\n",
      "[LogisticRegression] Epoch 80 (163.83s)\tAverage loss=1.081283\n",
      "[LogisticRegression] Epoch 85 (173.14s)\tAverage loss=0.857535\n",
      "[LogisticRegression] Epoch 90 (182.78s)\tAverage loss=0.683305\n",
      "[LogisticRegression] Epoch 95 (193.53s)\tAverage loss=0.563849\n",
      "[LogisticRegression] Epoch 100 (203.15s)\tAverage loss=0.480320\n",
      "[LogisticRegression] Epoch 105 (212.60s)\tAverage loss=0.409712\n",
      "[LogisticRegression] Epoch 110 (222.09s)\tAverage loss=0.358772\n",
      "[LogisticRegression] Epoch 115 (232.75s)\tAverage loss=0.343350\n",
      "[LogisticRegression] Epoch 120 (241.96s)\tAverage loss=0.292521\n",
      "[LogisticRegression] Epoch 125 (251.18s)\tAverage loss=0.268181\n",
      "[LogisticRegression] Epoch 130 (260.31s)\tAverage loss=0.222862\n",
      "[LogisticRegression] Epoch 135 (269.54s)\tAverage loss=0.197824\n",
      "[LogisticRegression] Epoch 140 (279.22s)\tAverage loss=0.175597\n",
      "[LogisticRegression] Epoch 145 (288.50s)\tAverage loss=0.158630\n",
      "[LogisticRegression] Epoch 150 (297.83s)\tAverage loss=0.135534\n",
      "[LogisticRegression] Epoch 155 (307.14s)\tAverage loss=0.115592\n",
      "[LogisticRegression] Epoch 160 (316.29s)\tAverage loss=0.098268\n",
      "[LogisticRegression] Epoch 165 (325.51s)\tAverage loss=0.087059\n",
      "[LogisticRegression] Epoch 170 (335.27s)\tAverage loss=0.078389\n",
      "[LogisticRegression] Epoch 175 (344.72s)\tAverage loss=0.069454\n",
      "[LogisticRegression] Epoch 180 (354.25s)\tAverage loss=0.061934\n",
      "[LogisticRegression] Epoch 185 (363.42s)\tAverage loss=0.053539\n",
      "[LogisticRegression] Epoch 190 (372.51s)\tAverage loss=0.047414\n",
      "[LogisticRegression] Epoch 195 (381.69s)\tAverage loss=0.036308\n",
      "[LogisticRegression] Epoch 199 (389.13s)\tAverage loss=0.030231\n",
      "[LogisticRegression] Training done (389.13s)\n"
     ]
    }
   ],
   "source": [
    "from fonduer import LogisticRegression\n",
    "\n",
    "disc_model = LogisticRegression()\n",
    "disc_model.train(F_train, gold_marginals, n_epochs=200, lr=0.001)"
   ]
  },
  {
   "cell_type": "code",
   "execution_count": 57,
   "metadata": {},
   "outputs": [
    {
     "name": "stdout",
     "output_type": "stream",
     "text": [
      "[LogisticRegression] Training model\n",
      "[LogisticRegression] n_train=3790  #epochs=200  batch size=256\n",
      "[LogisticRegression] Epoch 0 (4.69s)\tAverage loss=786.551453\n",
      "[LogisticRegression] Epoch 5 (16.63s)\tAverage loss=200.050262\n",
      "[LogisticRegression] Epoch 10 (30.37s)\tAverage loss=20.253096\n",
      "[LogisticRegression] Epoch 15 (41.90s)\tAverage loss=9.881211\n",
      "[LogisticRegression] Epoch 20 (52.79s)\tAverage loss=7.248130\n",
      "[LogisticRegression] Epoch 25 (63.44s)\tAverage loss=5.610738\n",
      "[LogisticRegression] Epoch 30 (73.28s)\tAverage loss=4.317004\n",
      "[LogisticRegression] Epoch 35 (83.19s)\tAverage loss=3.471728\n",
      "[LogisticRegression] Epoch 40 (92.91s)\tAverage loss=2.830765\n",
      "[LogisticRegression] Epoch 45 (102.57s)\tAverage loss=2.343040\n",
      "[LogisticRegression] Epoch 50 (112.67s)\tAverage loss=2.009864\n",
      "[LogisticRegression] Epoch 55 (123.48s)\tAverage loss=1.731251\n",
      "[LogisticRegression] Epoch 60 (134.00s)\tAverage loss=1.408390\n",
      "[LogisticRegression] Epoch 65 (143.95s)\tAverage loss=1.486427\n",
      "[LogisticRegression] Epoch 70 (154.07s)\tAverage loss=1.080916\n",
      "[LogisticRegression] Epoch 75 (164.27s)\tAverage loss=0.939021\n",
      "[LogisticRegression] Epoch 80 (174.42s)\tAverage loss=0.966209\n",
      "[LogisticRegression] Epoch 85 (184.32s)\tAverage loss=0.790232\n",
      "[LogisticRegression] Epoch 90 (194.45s)\tAverage loss=0.761401\n",
      "[LogisticRegression] Epoch 95 (204.58s)\tAverage loss=0.795551\n",
      "[LogisticRegression] Epoch 100 (214.97s)\tAverage loss=0.651511\n",
      "[LogisticRegression] Epoch 105 (225.35s)\tAverage loss=0.874286\n",
      "[LogisticRegression] Epoch 110 (234.98s)\tAverage loss=0.719709\n",
      "[LogisticRegression] Epoch 115 (245.21s)\tAverage loss=0.667980\n",
      "[LogisticRegression] Epoch 120 (255.24s)\tAverage loss=0.617659\n",
      "[LogisticRegression] Epoch 125 (265.36s)\tAverage loss=0.545332\n",
      "[LogisticRegression] Epoch 130 (275.76s)\tAverage loss=0.821103\n",
      "[LogisticRegression] Epoch 135 (285.18s)\tAverage loss=0.518049\n",
      "[LogisticRegression] Epoch 140 (295.02s)\tAverage loss=0.495644\n",
      "[LogisticRegression] Epoch 145 (304.52s)\tAverage loss=0.525235\n",
      "[LogisticRegression] Epoch 150 (313.68s)\tAverage loss=0.528080\n",
      "[LogisticRegression] Epoch 155 (322.95s)\tAverage loss=0.506687\n",
      "[LogisticRegression] Epoch 160 (332.13s)\tAverage loss=0.548568\n",
      "[LogisticRegression] Epoch 165 (341.47s)\tAverage loss=0.797008\n",
      "[LogisticRegression] Epoch 170 (350.97s)\tAverage loss=0.461504\n",
      "[LogisticRegression] Epoch 175 (360.83s)\tAverage loss=0.519936\n",
      "[LogisticRegression] Epoch 180 (370.32s)\tAverage loss=0.557829\n",
      "[LogisticRegression] Epoch 185 (380.25s)\tAverage loss=0.425665\n",
      "[LogisticRegression] Epoch 190 (389.46s)\tAverage loss=0.442214\n",
      "[LogisticRegression] Epoch 195 (398.85s)\tAverage loss=0.411240\n",
      "[LogisticRegression] Epoch 199 (406.17s)\tAverage loss=0.432803\n",
      "[LogisticRegression] Training done (406.17s)\n"
     ]
    },
    {
     "ename": "AttributeError",
     "evalue": "'numpy.ndarray' object has no attribute 'get_candidate'",
     "output_type": "error",
     "traceback": [
      "\u001b[0;31m---------------------------------------------------------------------------\u001b[0m",
      "\u001b[0;31mAttributeError\u001b[0m                            Traceback (most recent call last)",
      "\u001b[0;32m<ipython-input-57-649ad6f10748>\u001b[0m in \u001b[0;36m<module>\u001b[0;34m()\u001b[0m\n\u001b[1;32m      3\u001b[0m \u001b[0mdisc_model\u001b[0m \u001b[0;34m=\u001b[0m \u001b[0mLogisticRegression\u001b[0m\u001b[0;34m(\u001b[0m\u001b[0;34m)\u001b[0m\u001b[0;34m\u001b[0m\u001b[0m\n\u001b[1;32m      4\u001b[0m \u001b[0mdisc_model\u001b[0m\u001b[0;34m.\u001b[0m\u001b[0mtrain\u001b[0m\u001b[0;34m(\u001b[0m\u001b[0mF_train\u001b[0m\u001b[0;34m,\u001b[0m \u001b[0mtrain_marginals\u001b[0m\u001b[0;34m,\u001b[0m \u001b[0mn_epochs\u001b[0m\u001b[0;34m=\u001b[0m\u001b[0;36m200\u001b[0m\u001b[0;34m,\u001b[0m \u001b[0mlr\u001b[0m\u001b[0;34m=\u001b[0m\u001b[0;36m0.001\u001b[0m\u001b[0;34m)\u001b[0m\u001b[0;34m\u001b[0m\u001b[0m\n\u001b[0;32m----> 5\u001b[0;31m \u001b[0mtest_candidates\u001b[0m \u001b[0;34m=\u001b[0m \u001b[0;34m[\u001b[0m\u001b[0mF_test\u001b[0m\u001b[0;34m.\u001b[0m\u001b[0mget_candidate\u001b[0m\u001b[0;34m(\u001b[0m\u001b[0msession\u001b[0m\u001b[0;34m,\u001b[0m \u001b[0mi\u001b[0m\u001b[0;34m)\u001b[0m \u001b[0;32mfor\u001b[0m \u001b[0mi\u001b[0m \u001b[0;32min\u001b[0m \u001b[0mrange\u001b[0m\u001b[0;34m(\u001b[0m\u001b[0mF_test\u001b[0m\u001b[0;34m.\u001b[0m\u001b[0mshape\u001b[0m\u001b[0;34m[\u001b[0m\u001b[0;36m0\u001b[0m\u001b[0;34m]\u001b[0m\u001b[0;34m)\u001b[0m\u001b[0;34m]\u001b[0m\u001b[0;34m\u001b[0m\u001b[0m\n\u001b[0m\u001b[1;32m      6\u001b[0m \u001b[0mtest_score\u001b[0m \u001b[0;34m=\u001b[0m \u001b[0mdisc_model\u001b[0m\u001b[0;34m.\u001b[0m\u001b[0mpredictions\u001b[0m\u001b[0;34m(\u001b[0m\u001b[0mF_test\u001b[0m\u001b[0;34m)\u001b[0m\u001b[0;34m\u001b[0m\u001b[0m\n\u001b[1;32m      7\u001b[0m \u001b[0mtrue_pred\u001b[0m \u001b[0;34m=\u001b[0m \u001b[0;34m[\u001b[0m\u001b[0mtest_candidates\u001b[0m\u001b[0;34m[\u001b[0m\u001b[0m_\u001b[0m\u001b[0;34m]\u001b[0m \u001b[0;32mfor\u001b[0m \u001b[0m_\u001b[0m \u001b[0;32min\u001b[0m \u001b[0mnp\u001b[0m\u001b[0;34m.\u001b[0m\u001b[0mnditer\u001b[0m\u001b[0;34m(\u001b[0m\u001b[0mnp\u001b[0m\u001b[0;34m.\u001b[0m\u001b[0mwhere\u001b[0m\u001b[0;34m(\u001b[0m\u001b[0mtest_score\u001b[0m \u001b[0;34m>\u001b[0m \u001b[0;36m0\u001b[0m\u001b[0;34m)\u001b[0m\u001b[0;34m)\u001b[0m\u001b[0;34m]\u001b[0m\u001b[0;34m\u001b[0m\u001b[0m\n",
      "\u001b[0;32m<ipython-input-57-649ad6f10748>\u001b[0m in \u001b[0;36m<listcomp>\u001b[0;34m(.0)\u001b[0m\n\u001b[1;32m      3\u001b[0m \u001b[0mdisc_model\u001b[0m \u001b[0;34m=\u001b[0m \u001b[0mLogisticRegression\u001b[0m\u001b[0;34m(\u001b[0m\u001b[0;34m)\u001b[0m\u001b[0;34m\u001b[0m\u001b[0m\n\u001b[1;32m      4\u001b[0m \u001b[0mdisc_model\u001b[0m\u001b[0;34m.\u001b[0m\u001b[0mtrain\u001b[0m\u001b[0;34m(\u001b[0m\u001b[0mF_train\u001b[0m\u001b[0;34m,\u001b[0m \u001b[0mtrain_marginals\u001b[0m\u001b[0;34m,\u001b[0m \u001b[0mn_epochs\u001b[0m\u001b[0;34m=\u001b[0m\u001b[0;36m200\u001b[0m\u001b[0;34m,\u001b[0m \u001b[0mlr\u001b[0m\u001b[0;34m=\u001b[0m\u001b[0;36m0.001\u001b[0m\u001b[0;34m)\u001b[0m\u001b[0;34m\u001b[0m\u001b[0m\n\u001b[0;32m----> 5\u001b[0;31m \u001b[0mtest_candidates\u001b[0m \u001b[0;34m=\u001b[0m \u001b[0;34m[\u001b[0m\u001b[0mF_test\u001b[0m\u001b[0;34m.\u001b[0m\u001b[0mget_candidate\u001b[0m\u001b[0;34m(\u001b[0m\u001b[0msession\u001b[0m\u001b[0;34m,\u001b[0m \u001b[0mi\u001b[0m\u001b[0;34m)\u001b[0m \u001b[0;32mfor\u001b[0m \u001b[0mi\u001b[0m \u001b[0;32min\u001b[0m \u001b[0mrange\u001b[0m\u001b[0;34m(\u001b[0m\u001b[0mF_test\u001b[0m\u001b[0;34m.\u001b[0m\u001b[0mshape\u001b[0m\u001b[0;34m[\u001b[0m\u001b[0;36m0\u001b[0m\u001b[0;34m]\u001b[0m\u001b[0;34m)\u001b[0m\u001b[0;34m]\u001b[0m\u001b[0;34m\u001b[0m\u001b[0m\n\u001b[0m\u001b[1;32m      6\u001b[0m \u001b[0mtest_score\u001b[0m \u001b[0;34m=\u001b[0m \u001b[0mdisc_model\u001b[0m\u001b[0;34m.\u001b[0m\u001b[0mpredictions\u001b[0m\u001b[0;34m(\u001b[0m\u001b[0mF_test\u001b[0m\u001b[0;34m)\u001b[0m\u001b[0;34m\u001b[0m\u001b[0m\n\u001b[1;32m      7\u001b[0m \u001b[0mtrue_pred\u001b[0m \u001b[0;34m=\u001b[0m \u001b[0;34m[\u001b[0m\u001b[0mtest_candidates\u001b[0m\u001b[0;34m[\u001b[0m\u001b[0m_\u001b[0m\u001b[0;34m]\u001b[0m \u001b[0;32mfor\u001b[0m \u001b[0m_\u001b[0m \u001b[0;32min\u001b[0m \u001b[0mnp\u001b[0m\u001b[0;34m.\u001b[0m\u001b[0mnditer\u001b[0m\u001b[0;34m(\u001b[0m\u001b[0mnp\u001b[0m\u001b[0;34m.\u001b[0m\u001b[0mwhere\u001b[0m\u001b[0;34m(\u001b[0m\u001b[0mtest_score\u001b[0m \u001b[0;34m>\u001b[0m \u001b[0;36m0\u001b[0m\u001b[0;34m)\u001b[0m\u001b[0;34m)\u001b[0m\u001b[0;34m]\u001b[0m\u001b[0;34m\u001b[0m\u001b[0m\n",
      "\u001b[0;31mAttributeError\u001b[0m: 'numpy.ndarray' object has no attribute 'get_candidate'"
     ]
    }
   ],
   "source": [
    "from fonduer import LogisticRegression\n",
    "\n",
    "disc_model = LogisticRegression()\n",
    "disc_model.train(F_train, train_marginals, n_epochs=200, lr=0.001)"
   ]
  },
  {
   "cell_type": "code",
   "execution_count": 26,
   "metadata": {},
   "outputs": [
    {
     "data": {
      "text/plain": [
       "Org_Fig(ImplicitSpan(\"b'p-QMs'\", sentence=108706, words=[15,15], position=[0]), DetailedImage(Doc: b'Synthesis of trans -disubstituted-2,3-dihydrobenzofurans by a formal [4 + 1] annulation between para -quinone methides and sulfonium salts - Organic Chemistry Frontiers (RSC Publishing) DOI_10.1039_C8QO00008E', Position: 0, Url: ./Synthesis of trans -disubstituted-2,3-dihydrobenzofurans by a formal [4 + 1] annulation between para -quinone methides and sulfonium salts - Organic Chemistry Frontiers (RSC Publishing) DOI_10.1039_C8QO00008E_files/c8qo00008e-s1.gif, Figure_description: Reported reactions based on p-QMs and our design.))"
      ]
     },
     "execution_count": 26,
     "metadata": {},
     "output_type": "execute_result"
    }
   ],
   "source": [
    "F_train_sparse = featurizer.load_matrix(split = 0)\n",
    "F_test_sparse = featurizer.load_matrix(split = 1)\n",
    "F_test_sparse.get_candidate(session,0)"
   ]
  },
  {
   "cell_type": "code",
   "execution_count": 27,
   "metadata": {},
   "outputs": [],
   "source": [
    "test_candidates = [F_test_sparse.get_candidate(session, i) for i in range(F_test_sparse.shape[0])]\n",
    "test_score = disc_model.predictions(F_test)\n",
    "true_pred = [test_candidates[_] for _ in np.nditer(np.where(test_score > 0))]\n",
    "train_score = disc_model.predictions(F_train)"
   ]
  },
  {
   "cell_type": "code",
   "execution_count": 28,
   "metadata": {},
   "outputs": [],
   "source": [
    "L_gold_test = load_gold_labels(session, annotator_name=\"gold\", split=1)"
   ]
  },
  {
   "cell_type": "code",
   "execution_count": 53,
   "metadata": {},
   "outputs": [],
   "source": [
    "prec, rec, f1 = gen_model.score(L_test, L_gold_test)"
   ]
  },
  {
   "cell_type": "code",
   "execution_count": 54,
   "metadata": {},
   "outputs": [
    {
     "name": "stdout",
     "output_type": "stream",
     "text": [
      "precision  0.057971014492753624  recall  0.9090909090909091  f1  0.10899182561307902\n"
     ]
    }
   ],
   "source": [
    "print(\"precision \", prec, \" recall \", rec, \" f1 \", f1)"
   ]
  },
  {
   "cell_type": "code",
   "execution_count": 29,
   "metadata": {},
   "outputs": [],
   "source": [
    "from organic_utils import entity_level_f1"
   ]
  },
  {
   "cell_type": "code",
   "execution_count": 30,
   "metadata": {},
   "outputs": [],
   "source": [
    "test_score = disc_model.predictions(F_test)\n",
    "true_pred = [test_candidates[_] for _ in np.nditer(np.where(test_score > 0))]"
   ]
  },
  {
   "cell_type": "code",
   "execution_count": 31,
   "metadata": {},
   "outputs": [
    {
     "name": "stdout",
     "output_type": "stream",
     "text": [
      "Preparing candidates...\n",
      "[========================================] 100%\n",
      "56\n",
      "========================================\n",
      "Scoring on Entity-Level Gold Data\n",
      "========================================\n",
      "Total Gold labels      16\n",
      "Total Predicted labels 56\n",
      "Corpus Precision 0.214\n",
      "Corpus Recall    0.25\n",
      "Corpus F1        0.231\n",
      "----------------------------------------\n",
      "TP: 4(gold),12(pred) | FP: 44 | FN: 12\n",
      "========================================\n",
      "\n",
      "CPU times: user 1.49 s, sys: 109 ms, total: 1.6 s\n",
      "Wall time: 1.87 s\n"
     ]
    }
   ],
   "source": [
    "%time (TP, FP, FN) = entity_level_f1(true_pred, gold_file, ATTRIBUTE, test_docs)"
   ]
  },
  {
   "cell_type": "code",
   "execution_count": 192,
   "metadata": {},
   "outputs": [
    {
     "data": {
      "text/plain": [
       "{Document b'Synthesis of trans -disubstituted-2,3-dihydrobenzofurans by a formal [4 + 1] annulation between para -quinone methides and sulfonium salts - Organic Chemistry Frontiers (RSC Publishing) DOI_10.1039_C8QO00008E',\n",
       " Document b'Total synthesis of strictamine_ a tutorial for novel and efficient synthesis - Organic Chemistry Frontiers (RSC Publishing) DOI_10.1039_C7QO00837F',\n",
       " Document b'Total synthesis of teixobactin and its stereoisomers - Organic Chemistry Frontiers (RSC Publishing) DOI_10.1039_C8QO00145F',\n",
       " Document b'Visible light photoredox catalysis_ conversion of a mixture of thiophenols and nitriles into 2-substituted benzothiazoles via consecutive C\\xe2\\x80\\x93S and C\\xe2\\x80\\x93N ... - Organic Chemistry Frontiers (RSC Publishing) DOI_10.1039_C8QO00219C'}"
      ]
     },
     "execution_count": 192,
     "metadata": {},
     "output_type": "execute_result"
    }
   ],
   "source": [
    "test_docs"
   ]
  },
  {
   "cell_type": "code",
   "execution_count": 164,
   "metadata": {
    "scrolled": false
   },
   "outputs": [],
   "source": [
    "def plot_tp_entity(e):\n",
    "    fig = plt.Figure(figsize=(20,20))\n",
    "    im = plt.imread(docs_path+e[0])\n",
    "    plt.imshow(im, cmap='gray')\n",
    "    plt.title(\"Gold: {}, Extracted: {}\".format(e[2], e[1]))\n",
    "    print(e[0])"
   ]
  },
  {
   "cell_type": "code",
   "execution_count": 193,
   "metadata": {},
   "outputs": [
    {
     "name": "stdout",
     "output_type": "stream",
     "text": [
      "./Visible light photoredox catalysis_ conversion of a mixture of thiophenols and nitriles into 2-substituted benzothiazoles via consecutive C–S and C–N ... - Organic Chemistry Frontiers (RSC Publishing) DOI_10.1039_C8QO00219C_files/c8qo00219c-s2.gif\n"
     ]
    },
    {
     "data": {
      "image/png": "[encoded data removed]",
      "text/plain": [
       "<Figure size 432x288 with 1 Axes>"
      ]
     },
     "metadata": {},
     "output_type": "display_data"
    }
   ],
   "source": [
    "plot_tp_entity(TP[3])"
   ]
  },
  {
   "cell_type": "code",
   "execution_count": 195,
   "metadata": {},
   "outputs": [],
   "source": [
    "pred1 = true_pred[1]"
   ]
  },
  {
   "cell_type": "code",
   "execution_count": null,
   "metadata": {},
   "outputs": [],
   "source": [
    "print(\"Organic name: \" pred1[0].text)\n",
    "print(\"Image title: \" pred1[1].description)\n",
    "print()"
   ]
  },
  {
   "cell_type": "code",
   "execution_count": 32,
   "metadata": {},
   "outputs": [],
   "source": [
    "def view_pred(pred1):\n",
    "    fig = plt.figure(figsize=(10,10))\n",
    "    im = plt.imread(docs_path+pred1[1].url)\n",
    "    plt.imshow(im, cmap='gray')\n",
    "    print(\"Organic name: \", pred1[0].text)\n",
    "    print(\"Image title: \", pred1[1].description)\n",
    "    print(\"Document: \", pred1[1].document.name)"
   ]
  },
  {
   "cell_type": "code",
   "execution_count": 33,
   "metadata": {},
   "outputs": [
    {
     "data": {
      "text/plain": [
       "269"
      ]
     },
     "execution_count": 33,
     "metadata": {},
     "output_type": "execute_result"
    }
   ],
   "source": [
    "len(true_pred)"
   ]
  },
  {
   "cell_type": "code",
   "execution_count": 34,
   "metadata": {},
   "outputs": [
    {
     "name": "stdout",
     "output_type": "stream",
     "text": [
      "Organic name:  benzothiazoles\n",
      "Image title:  Visible-light-induced synthesis of 2-substituted benzothiazoles from the mixture of thiophenols and nitriles reported in this work.\n",
      "Document:  Visible light photoredox catalysis_ conversion of a mixture of thiophenols and nitriles into 2-substituted benzothiazoles via consecutive C–S and C–N ... - Organic Chemistry Frontiers (RSC Publishing) DOI_10.1039_C8QO00219C\n"
     ]
    },
    {
     "data": {
      "image/png": "[encoded data removed]",
      "text/plain": [
       "<Figure size 720x720 with 1 Axes>"
      ]
     },
     "metadata": {},
     "output_type": "display_data"
    }
   ],
   "source": [
    "view_pred(true_pred[118])"
   ]
  },
  {
   "cell_type": "code",
   "execution_count": 35,
   "metadata": {},
   "outputs": [],
   "source": [
    "from fonduer.visualizer import *\n",
    "vis = Visualizer(pdf_path)"
   ]
  },
  {
   "cell_type": "code",
   "execution_count": 38,
   "metadata": {
    "collapsed": true
   },
   "outputs": [
    {
     "name": "stdout",
     "output_type": "stream",
     "text": [
      "read pdf /Users/liwei/BoxSync/s2016/Dropbox/839_fonduer/tutorials/organic_synthesis_figures/data/pdf/Synthesis of trans -disubstituted-2,3-dihydrobenzofurans by a formal [4 + 1] annulation between para -quinone methides and sulfonium salts - Organic Chemistry Frontiers (RSC Publishing) DOI_10.1039_C8QO00008E.pdf\n"
     ]
    },
    {
     "ename": "CorruptImageError",
     "evalue": "unable to read image data `/var/folders/95/p3kphc190fb4ptvxhh5wdzsh0000gn/T/magick-55965lParPjCnSpOV1' @ error/pnm.c/ReadPNMImage/1337",
     "output_type": "error",
     "traceback": [
      "\u001b[0;31m---------------------------------------------------------------------------\u001b[0m",
      "\u001b[0;31mCorruptImageError\u001b[0m                         Traceback (most recent call last)",
      "\u001b[0;32m<ipython-input-38-6861f68a98d3>\u001b[0m in \u001b[0;36m<module>\u001b[0;34m()\u001b[0m\n\u001b[0;32m----> 1\u001b[0;31m \u001b[0mvis\u001b[0m\u001b[0;34m.\u001b[0m\u001b[0mdisplay_image_candidates\u001b[0m\u001b[0;34m(\u001b[0m\u001b[0;34m[\u001b[0m\u001b[0mtrue_pred\u001b[0m\u001b[0;34m[\u001b[0m\u001b[0;36m0\u001b[0m\u001b[0;34m]\u001b[0m\u001b[0;34m]\u001b[0m\u001b[0;34m)\u001b[0m\u001b[0;34m\u001b[0m\u001b[0m\n\u001b[0m",
      "\u001b[0;32m~/BoxSync/s2016/Dropbox/839_fonduer/fonduer/visualizer.py\u001b[0m in \u001b[0;36mdisplay_image_candidates\u001b[0;34m(self, candidates, pdf_file)\u001b[0m\n\u001b[1;32m     67\u001b[0m             \u001b[0mpdf_file\u001b[0m \u001b[0;34m=\u001b[0m \u001b[0mos\u001b[0m\u001b[0;34m.\u001b[0m\u001b[0mpath\u001b[0m\u001b[0;34m.\u001b[0m\u001b[0mjoin\u001b[0m\u001b[0;34m(\u001b[0m\u001b[0mself\u001b[0m\u001b[0;34m.\u001b[0m\u001b[0mpdf_path\u001b[0m\u001b[0;34m,\u001b[0m \u001b[0mcandidates\u001b[0m\u001b[0;34m[\u001b[0m\u001b[0;36m0\u001b[0m\u001b[0;34m]\u001b[0m\u001b[0;34m[\u001b[0m\u001b[0;36m0\u001b[0m\u001b[0;34m]\u001b[0m\u001b[0;34m.\u001b[0m\u001b[0msentence\u001b[0m\u001b[0;34m.\u001b[0m\u001b[0mdocument\u001b[0m\u001b[0;34m.\u001b[0m\u001b[0mname\u001b[0m \u001b[0;34m+\u001b[0m \u001b[0;34m'.pdf'\u001b[0m\u001b[0;34m)\u001b[0m\u001b[0;34m\u001b[0m\u001b[0m\n\u001b[1;32m     68\u001b[0m         \u001b[0mboxes\u001b[0m \u001b[0;34m=\u001b[0m \u001b[0;34m[\u001b[0m\u001b[0mbox\u001b[0m \u001b[0;32mfor\u001b[0m \u001b[0mbox\u001b[0m \u001b[0;32min\u001b[0m \u001b[0mget_org_fig_box\u001b[0m\u001b[0;34m(\u001b[0m\u001b[0mcandidates\u001b[0m\u001b[0;34m)\u001b[0m\u001b[0;34m]\u001b[0m\u001b[0;34m\u001b[0m\u001b[0m\n\u001b[0;32m---> 69\u001b[0;31m         \u001b[0mimgs\u001b[0m \u001b[0;34m=\u001b[0m \u001b[0mself\u001b[0m\u001b[0;34m.\u001b[0m\u001b[0mdisplay_boxes\u001b[0m\u001b[0;34m(\u001b[0m\u001b[0mpdf_file\u001b[0m\u001b[0;34m,\u001b[0m \u001b[0mboxes\u001b[0m\u001b[0;34m,\u001b[0m \u001b[0malternate_colors\u001b[0m\u001b[0;34m=\u001b[0m\u001b[0;32mTrue\u001b[0m\u001b[0;34m)\u001b[0m\u001b[0;34m\u001b[0m\u001b[0m\n\u001b[0m\u001b[1;32m     70\u001b[0m         \u001b[0;32mreturn\u001b[0m \u001b[0mdisplay\u001b[0m\u001b[0;34m(\u001b[0m\u001b[0;34m*\u001b[0m\u001b[0mimgs\u001b[0m\u001b[0;34m)\u001b[0m\u001b[0;34m\u001b[0m\u001b[0m\n\u001b[1;32m     71\u001b[0m \u001b[0;34m\u001b[0m\u001b[0m\n",
      "\u001b[0;32m~/BoxSync/s2016/Dropbox/839_fonduer/fonduer/visualizer.py\u001b[0m in \u001b[0;36mdisplay_boxes\u001b[0;34m(self, pdf_file, boxes, alternate_colors)\u001b[0m\n\u001b[1;32m     37\u001b[0m             \u001b[0mboxes_by_page\u001b[0m\u001b[0;34m[\u001b[0m\u001b[0mpage\u001b[0m\u001b[0;34m]\u001b[0m\u001b[0;34m.\u001b[0m\u001b[0mappend\u001b[0m\u001b[0;34m(\u001b[0m\u001b[0;34m(\u001b[0m\u001b[0mtop\u001b[0m\u001b[0;34m,\u001b[0m \u001b[0mleft\u001b[0m\u001b[0;34m,\u001b[0m \u001b[0mbottom\u001b[0m\u001b[0;34m,\u001b[0m \u001b[0mright\u001b[0m\u001b[0;34m)\u001b[0m\u001b[0;34m)\u001b[0m\u001b[0;34m\u001b[0m\u001b[0m\n\u001b[1;32m     38\u001b[0m         \u001b[0;32mfor\u001b[0m \u001b[0mi\u001b[0m\u001b[0;34m,\u001b[0m \u001b[0mpage_num\u001b[0m \u001b[0;32min\u001b[0m \u001b[0menumerate\u001b[0m\u001b[0;34m(\u001b[0m\u001b[0mboxes_per_page\u001b[0m\u001b[0;34m.\u001b[0m\u001b[0mkeys\u001b[0m\u001b[0;34m(\u001b[0m\u001b[0;34m)\u001b[0m\u001b[0;34m)\u001b[0m\u001b[0;34m:\u001b[0m\u001b[0;34m\u001b[0m\u001b[0m\n\u001b[0;32m---> 39\u001b[0;31m             \u001b[0mimg\u001b[0m \u001b[0;34m=\u001b[0m \u001b[0mpdf_to_img\u001b[0m\u001b[0;34m(\u001b[0m\u001b[0mpdf_file\u001b[0m\u001b[0;34m,\u001b[0m \u001b[0mpage_num\u001b[0m\u001b[0;34m)\u001b[0m\u001b[0;34m\u001b[0m\u001b[0m\n\u001b[0m\u001b[1;32m     40\u001b[0m             \u001b[0mdraw\u001b[0m \u001b[0;34m=\u001b[0m \u001b[0mDrawing\u001b[0m\u001b[0;34m(\u001b[0m\u001b[0;34m)\u001b[0m\u001b[0;34m\u001b[0m\u001b[0m\n\u001b[1;32m     41\u001b[0m             \u001b[0mdraw\u001b[0m\u001b[0;34m.\u001b[0m\u001b[0mfill_color\u001b[0m \u001b[0;34m=\u001b[0m \u001b[0mColor\u001b[0m\u001b[0;34m(\u001b[0m\u001b[0;34m'rgba(0, 0, 0, 0.0)'\u001b[0m\u001b[0;34m)\u001b[0m\u001b[0;34m\u001b[0m\u001b[0m\n",
      "\u001b[0;32m~/BoxSync/s2016/Dropbox/839_fonduer/fonduer/visualizer.py\u001b[0m in \u001b[0;36mpdf_to_img\u001b[0;34m(pdf_file, page_num, pdf_dim)\u001b[0m\n\u001b[1;32m    124\u001b[0m     \u001b[0mpage_width\u001b[0m\u001b[0;34m,\u001b[0m \u001b[0mpage_height\u001b[0m \u001b[0;34m=\u001b[0m \u001b[0mpdf_dim\u001b[0m\u001b[0;34m\u001b[0m\u001b[0m\n\u001b[1;32m    125\u001b[0m     \u001b[0mprint\u001b[0m\u001b[0;34m(\u001b[0m\u001b[0;34m'read pdf {}'\u001b[0m\u001b[0;34m.\u001b[0m\u001b[0mformat\u001b[0m\u001b[0;34m(\u001b[0m\u001b[0mpdf_file\u001b[0m\u001b[0;34m)\u001b[0m\u001b[0;34m)\u001b[0m\u001b[0;34m\u001b[0m\u001b[0m\n\u001b[0;32m--> 126\u001b[0;31m     \u001b[0mimg\u001b[0m \u001b[0;34m=\u001b[0m \u001b[0mImage\u001b[0m\u001b[0;34m(\u001b[0m\u001b[0mfilename\u001b[0m\u001b[0;34m=\u001b[0m\u001b[0;34m'{}[{}]'\u001b[0m\u001b[0;34m.\u001b[0m\u001b[0mformat\u001b[0m\u001b[0;34m(\u001b[0m\u001b[0mpdf_file\u001b[0m\u001b[0;34m,\u001b[0m \u001b[0mpage_num\u001b[0m \u001b[0;34m-\u001b[0m \u001b[0;36m1\u001b[0m\u001b[0;34m)\u001b[0m\u001b[0;34m)\u001b[0m\u001b[0;34m\u001b[0m\u001b[0m\n\u001b[0m\u001b[1;32m    127\u001b[0m     \u001b[0mimg\u001b[0m\u001b[0;34m.\u001b[0m\u001b[0mresize\u001b[0m\u001b[0;34m(\u001b[0m\u001b[0mpage_width\u001b[0m\u001b[0;34m,\u001b[0m \u001b[0mpage_height\u001b[0m\u001b[0;34m)\u001b[0m\u001b[0;34m\u001b[0m\u001b[0m\n\u001b[1;32m    128\u001b[0m     \u001b[0;32mreturn\u001b[0m \u001b[0mimg\u001b[0m\u001b[0;34m\u001b[0m\u001b[0m\n",
      "\u001b[0;32m~/anaconda3/envs/fonduer/lib/python3.6/site-packages/wand/image.py\u001b[0m in \u001b[0;36m__init__\u001b[0;34m(self, image, blob, file, filename, format, width, height, depth, background, resolution)\u001b[0m\n\u001b[1;32m   2742\u001b[0m                     \u001b[0mself\u001b[0m\u001b[0;34m.\u001b[0m\u001b[0mread\u001b[0m\u001b[0;34m(\u001b[0m\u001b[0mblob\u001b[0m\u001b[0;34m=\u001b[0m\u001b[0mblob\u001b[0m\u001b[0;34m,\u001b[0m \u001b[0mresolution\u001b[0m\u001b[0;34m=\u001b[0m\u001b[0mresolution\u001b[0m\u001b[0;34m)\u001b[0m\u001b[0;34m\u001b[0m\u001b[0m\n\u001b[1;32m   2743\u001b[0m                 \u001b[0;32melif\u001b[0m \u001b[0mfilename\u001b[0m \u001b[0;32mis\u001b[0m \u001b[0;32mnot\u001b[0m \u001b[0;32mNone\u001b[0m\u001b[0;34m:\u001b[0m\u001b[0;34m\u001b[0m\u001b[0m\n\u001b[0;32m-> 2744\u001b[0;31m                     \u001b[0mself\u001b[0m\u001b[0;34m.\u001b[0m\u001b[0mread\u001b[0m\u001b[0;34m(\u001b[0m\u001b[0mfilename\u001b[0m\u001b[0;34m=\u001b[0m\u001b[0mfilename\u001b[0m\u001b[0;34m,\u001b[0m \u001b[0mresolution\u001b[0m\u001b[0;34m=\u001b[0m\u001b[0mresolution\u001b[0m\u001b[0;34m)\u001b[0m\u001b[0;34m\u001b[0m\u001b[0m\n\u001b[0m\u001b[1;32m   2745\u001b[0m                 \u001b[0;31m# clear the wand format, otherwise any subsequent call to\u001b[0m\u001b[0;34m\u001b[0m\u001b[0;34m\u001b[0m\u001b[0m\n\u001b[1;32m   2746\u001b[0m                 \u001b[0;31m# MagickGetImageBlob will silently change the image to this\u001b[0m\u001b[0;34m\u001b[0m\u001b[0;34m\u001b[0m\u001b[0m\n",
      "\u001b[0;32m~/anaconda3/envs/fonduer/lib/python3.6/site-packages/wand/image.py\u001b[0m in \u001b[0;36mread\u001b[0;34m(self, file, filename, blob, resolution)\u001b[0m\n\u001b[1;32m   2820\u001b[0m             \u001b[0mr\u001b[0m \u001b[0;34m=\u001b[0m \u001b[0mlibrary\u001b[0m\u001b[0;34m.\u001b[0m\u001b[0mMagickReadImage\u001b[0m\u001b[0;34m(\u001b[0m\u001b[0mself\u001b[0m\u001b[0;34m.\u001b[0m\u001b[0mwand\u001b[0m\u001b[0;34m,\u001b[0m \u001b[0mfilename\u001b[0m\u001b[0;34m)\u001b[0m\u001b[0;34m\u001b[0m\u001b[0m\n\u001b[1;32m   2821\u001b[0m         \u001b[0;32mif\u001b[0m \u001b[0;32mnot\u001b[0m \u001b[0mr\u001b[0m\u001b[0;34m:\u001b[0m\u001b[0;34m\u001b[0m\u001b[0m\n\u001b[0;32m-> 2822\u001b[0;31m             \u001b[0mself\u001b[0m\u001b[0;34m.\u001b[0m\u001b[0mraise_exception\u001b[0m\u001b[0;34m(\u001b[0m\u001b[0;34m)\u001b[0m\u001b[0;34m\u001b[0m\u001b[0m\n\u001b[0m\u001b[1;32m   2823\u001b[0m \u001b[0;34m\u001b[0m\u001b[0m\n\u001b[1;32m   2824\u001b[0m     \u001b[0;32mdef\u001b[0m \u001b[0mclose\u001b[0m\u001b[0;34m(\u001b[0m\u001b[0mself\u001b[0m\u001b[0;34m)\u001b[0m\u001b[0;34m:\u001b[0m\u001b[0;34m\u001b[0m\u001b[0m\n",
      "\u001b[0;32m~/anaconda3/envs/fonduer/lib/python3.6/site-packages/wand/resource.py\u001b[0m in \u001b[0;36mraise_exception\u001b[0;34m(self, stacklevel)\u001b[0m\n\u001b[1;32m    220\u001b[0m             \u001b[0mwarnings\u001b[0m\u001b[0;34m.\u001b[0m\u001b[0mwarn\u001b[0m\u001b[0;34m(\u001b[0m\u001b[0me\u001b[0m\u001b[0;34m,\u001b[0m \u001b[0mstacklevel\u001b[0m\u001b[0;34m=\u001b[0m\u001b[0mstacklevel\u001b[0m \u001b[0;34m+\u001b[0m \u001b[0;36m1\u001b[0m\u001b[0;34m)\u001b[0m\u001b[0;34m\u001b[0m\u001b[0m\n\u001b[1;32m    221\u001b[0m         \u001b[0;32melif\u001b[0m \u001b[0misinstance\u001b[0m\u001b[0;34m(\u001b[0m\u001b[0me\u001b[0m\u001b[0;34m,\u001b[0m \u001b[0mException\u001b[0m\u001b[0;34m)\u001b[0m\u001b[0;34m:\u001b[0m\u001b[0;34m\u001b[0m\u001b[0m\n\u001b[0;32m--> 222\u001b[0;31m             \u001b[0;32mraise\u001b[0m \u001b[0me\u001b[0m\u001b[0;34m\u001b[0m\u001b[0m\n\u001b[0m\u001b[1;32m    223\u001b[0m \u001b[0;34m\u001b[0m\u001b[0m\n\u001b[1;32m    224\u001b[0m     \u001b[0;32mdef\u001b[0m \u001b[0m__enter__\u001b[0m\u001b[0;34m(\u001b[0m\u001b[0mself\u001b[0m\u001b[0;34m)\u001b[0m\u001b[0;34m:\u001b[0m\u001b[0;34m\u001b[0m\u001b[0m\n",
      "\u001b[0;31mCorruptImageError\u001b[0m: unable to read image data `/var/folders/95/p3kphc190fb4ptvxhh5wdzsh0000gn/T/magick-55965lParPjCnSpOV1' @ error/pnm.c/ReadPNMImage/1337"
     ]
    }
   ],
   "source": [
    "vis.display_image_candidates([true_pred[0]])"
   ]
  },
  {
   "cell_type": "code",
   "execution_count": 41,
   "metadata": {},
   "outputs": [],
   "source": [
    "from wand.image import Image"
   ]
  },
  {
   "cell_type": "code",
   "execution_count": 43,
   "metadata": {},
   "outputs": [
    {
     "ename": "CorruptImageError",
     "evalue": "unable to read image data `/var/folders/95/p3kphc190fb4ptvxhh5wdzsh0000gn/T/magick-55965PYT_VVFSFkAT1' @ error/pnm.c/ReadPNMImage/1337",
     "output_type": "error",
     "traceback": [
      "\u001b[0;31m---------------------------------------------------------------------------\u001b[0m",
      "\u001b[0;31mCorruptImageError\u001b[0m                         Traceback (most recent call last)",
      "\u001b[0;32m<ipython-input-43-a23cef1caa71>\u001b[0m in \u001b[0;36m<module>\u001b[0;34m()\u001b[0m\n\u001b[0;32m----> 1\u001b[0;31m \u001b[0mimg\u001b[0m \u001b[0;34m=\u001b[0m \u001b[0mImage\u001b[0m\u001b[0;34m(\u001b[0m\u001b[0mfilename\u001b[0m\u001b[0;34m=\u001b[0m\u001b[0;34m'./data/pdf/Syntheses and structures of [7]helicene and double helicene based on dithieno[2,3- b _2′,3′- d ]thiophene - Organic Chemistry Frontiers (RSC Publishing) DOI_10.1039_C7QO01049D.pdf'\u001b[0m\u001b[0;34m)\u001b[0m\u001b[0;34m\u001b[0m\u001b[0m\n\u001b[0m",
      "\u001b[0;32m~/anaconda3/envs/fonduer/lib/python3.6/site-packages/wand/image.py\u001b[0m in \u001b[0;36m__init__\u001b[0;34m(self, image, blob, file, filename, format, width, height, depth, background, resolution)\u001b[0m\n\u001b[1;32m   2742\u001b[0m                     \u001b[0mself\u001b[0m\u001b[0;34m.\u001b[0m\u001b[0mread\u001b[0m\u001b[0;34m(\u001b[0m\u001b[0mblob\u001b[0m\u001b[0;34m=\u001b[0m\u001b[0mblob\u001b[0m\u001b[0;34m,\u001b[0m \u001b[0mresolution\u001b[0m\u001b[0;34m=\u001b[0m\u001b[0mresolution\u001b[0m\u001b[0;34m)\u001b[0m\u001b[0;34m\u001b[0m\u001b[0m\n\u001b[1;32m   2743\u001b[0m                 \u001b[0;32melif\u001b[0m \u001b[0mfilename\u001b[0m \u001b[0;32mis\u001b[0m \u001b[0;32mnot\u001b[0m \u001b[0;32mNone\u001b[0m\u001b[0;34m:\u001b[0m\u001b[0;34m\u001b[0m\u001b[0m\n\u001b[0;32m-> 2744\u001b[0;31m                     \u001b[0mself\u001b[0m\u001b[0;34m.\u001b[0m\u001b[0mread\u001b[0m\u001b[0;34m(\u001b[0m\u001b[0mfilename\u001b[0m\u001b[0;34m=\u001b[0m\u001b[0mfilename\u001b[0m\u001b[0;34m,\u001b[0m \u001b[0mresolution\u001b[0m\u001b[0;34m=\u001b[0m\u001b[0mresolution\u001b[0m\u001b[0;34m)\u001b[0m\u001b[0;34m\u001b[0m\u001b[0m\n\u001b[0m\u001b[1;32m   2745\u001b[0m                 \u001b[0;31m# clear the wand format, otherwise any subsequent call to\u001b[0m\u001b[0;34m\u001b[0m\u001b[0;34m\u001b[0m\u001b[0m\n\u001b[1;32m   2746\u001b[0m                 \u001b[0;31m# MagickGetImageBlob will silently change the image to this\u001b[0m\u001b[0;34m\u001b[0m\u001b[0;34m\u001b[0m\u001b[0m\n",
      "\u001b[0;32m~/anaconda3/envs/fonduer/lib/python3.6/site-packages/wand/image.py\u001b[0m in \u001b[0;36mread\u001b[0;34m(self, file, filename, blob, resolution)\u001b[0m\n\u001b[1;32m   2820\u001b[0m             \u001b[0mr\u001b[0m \u001b[0;34m=\u001b[0m \u001b[0mlibrary\u001b[0m\u001b[0;34m.\u001b[0m\u001b[0mMagickReadImage\u001b[0m\u001b[0;34m(\u001b[0m\u001b[0mself\u001b[0m\u001b[0;34m.\u001b[0m\u001b[0mwand\u001b[0m\u001b[0;34m,\u001b[0m \u001b[0mfilename\u001b[0m\u001b[0;34m)\u001b[0m\u001b[0;34m\u001b[0m\u001b[0m\n\u001b[1;32m   2821\u001b[0m         \u001b[0;32mif\u001b[0m \u001b[0;32mnot\u001b[0m \u001b[0mr\u001b[0m\u001b[0;34m:\u001b[0m\u001b[0;34m\u001b[0m\u001b[0m\n\u001b[0;32m-> 2822\u001b[0;31m             \u001b[0mself\u001b[0m\u001b[0;34m.\u001b[0m\u001b[0mraise_exception\u001b[0m\u001b[0;34m(\u001b[0m\u001b[0;34m)\u001b[0m\u001b[0;34m\u001b[0m\u001b[0m\n\u001b[0m\u001b[1;32m   2823\u001b[0m \u001b[0;34m\u001b[0m\u001b[0m\n\u001b[1;32m   2824\u001b[0m     \u001b[0;32mdef\u001b[0m \u001b[0mclose\u001b[0m\u001b[0;34m(\u001b[0m\u001b[0mself\u001b[0m\u001b[0;34m)\u001b[0m\u001b[0;34m:\u001b[0m\u001b[0;34m\u001b[0m\u001b[0m\n",
      "\u001b[0;32m~/anaconda3/envs/fonduer/lib/python3.6/site-packages/wand/resource.py\u001b[0m in \u001b[0;36mraise_exception\u001b[0;34m(self, stacklevel)\u001b[0m\n\u001b[1;32m    220\u001b[0m             \u001b[0mwarnings\u001b[0m\u001b[0;34m.\u001b[0m\u001b[0mwarn\u001b[0m\u001b[0;34m(\u001b[0m\u001b[0me\u001b[0m\u001b[0;34m,\u001b[0m \u001b[0mstacklevel\u001b[0m\u001b[0;34m=\u001b[0m\u001b[0mstacklevel\u001b[0m \u001b[0;34m+\u001b[0m \u001b[0;36m1\u001b[0m\u001b[0;34m)\u001b[0m\u001b[0;34m\u001b[0m\u001b[0m\n\u001b[1;32m    221\u001b[0m         \u001b[0;32melif\u001b[0m \u001b[0misinstance\u001b[0m\u001b[0;34m(\u001b[0m\u001b[0me\u001b[0m\u001b[0;34m,\u001b[0m \u001b[0mException\u001b[0m\u001b[0;34m)\u001b[0m\u001b[0;34m:\u001b[0m\u001b[0;34m\u001b[0m\u001b[0m\n\u001b[0;32m--> 222\u001b[0;31m             \u001b[0;32mraise\u001b[0m \u001b[0me\u001b[0m\u001b[0;34m\u001b[0m\u001b[0m\n\u001b[0m\u001b[1;32m    223\u001b[0m \u001b[0;34m\u001b[0m\u001b[0m\n\u001b[1;32m    224\u001b[0m     \u001b[0;32mdef\u001b[0m \u001b[0m__enter__\u001b[0m\u001b[0;34m(\u001b[0m\u001b[0mself\u001b[0m\u001b[0;34m)\u001b[0m\u001b[0;34m:\u001b[0m\u001b[0;34m\u001b[0m\u001b[0m\n",
      "\u001b[0;31mCorruptImageError\u001b[0m: unable to read image data `/var/folders/95/p3kphc190fb4ptvxhh5wdzsh0000gn/T/magick-55965PYT_VVFSFkAT1' @ error/pnm.c/ReadPNMImage/1337"
     ]
    }
   ],
   "source": [
    "img = Image(filename='./data/pdf/Syntheses and structures of [7]helicene and double helicene based on dithieno[2,3- b _2′,3′- d ]thiophene - Organic Chemistry Frontiers (RSC Publishing) DOI_10.1039_C7QO01049D.pdf')"
   ]
  },
  {
   "cell_type": "code",
   "execution_count": 40,
   "metadata": {},
   "outputs": [
    {
     "name": "stdout",
     "output_type": "stream",
     "text": [
      "/Users/liwei/BoxSync/s2016/Dropbox/839_fonduer/tutorials/organic_synthesis_figures/data/pdf/Synthesis and characterization of a doubly spin-labelled electrochemically driven molecular shuttle - Organic Chemistry Frontiers (RSC Publishing) DOI_10.1039_C8QO00187A.pdf\r\n",
      "/Users/liwei/BoxSync/s2016/Dropbox/839_fonduer/tutorials/organic_synthesis_figures/data/pdf/Synthesis of trans -disubstituted-2,3-dihydrobenzofurans by a formal [4 + 1] annulation between para -quinone methides and sulfonium salts - Organic Chemistry Frontiers (RSC Publishing) DOI_10.1039_C8QO00008E.pdf\r\n"
     ]
    }
   ],
   "source": [
    "!ls /Users/liwei/BoxSync/s2016/Dropbox/839_fonduer/tutorials/organic_synthesis_figures/data/pdf/Synthesis*"
   ]
  },
  {
   "cell_type": "code",
   "execution_count": 98,
   "metadata": {},
   "outputs": [
    {
     "data": {
      "text/plain": [
       "Text(0.5,1,'2-aryl benzothiazoles')"
      ]
     },
     "execution_count": 98,
     "metadata": {},
     "output_type": "execute_result"
    },
    {
     "data": {
      "image/png": "[encoded data removed]",
      "text/plain": [
       "<Figure size 432x288 with 1 Axes>"
      ]
     },
     "metadata": {},
     "output_type": "display_data"
    }
   ],
   "source": [
    "im = plt.imread(docs_path+TP[0][2])\n",
    "plt.imshow(im, cmap='gray')\n",
    "plt.title(TP[0][1])"
   ]
  },
  {
   "cell_type": "code",
   "execution_count": 95,
   "metadata": {},
   "outputs": [
    {
     "data": {
      "text/plain": [
       "Text(0.5,1,'benzothiazole')"
      ]
     },
     "execution_count": 95,
     "metadata": {},
     "output_type": "execute_result"
    },
    {
     "data": {
      "image/png": "[encoded data removed]",
      "text/plain": [
       "<Figure size 432x288 with 1 Axes>"
      ]
     },
     "metadata": {},
     "output_type": "display_data"
    }
   ],
   "source": [
    "im = plt.imread(docs_path+TP2[1][2])\n",
    "plt.imshow(im, cmap='gray')\n",
    "plt.title(TP2[1][1])"
   ]
  },
  {
   "cell_type": "code",
   "execution_count": 92,
   "metadata": {},
   "outputs": [
    {
     "data": {
      "text/plain": [
       "Text(0.5,1,'2-substituted benzothiazoles')"
      ]
     },
     "execution_count": 92,
     "metadata": {},
     "output_type": "execute_result"
    },
    {
     "data": {
      "image/png": "[encoded data removed]",
      "text/plain": [
       "<Figure size 432x288 with 1 Axes>"
      ]
     },
     "metadata": {},
     "output_type": "display_data"
    }
   ],
   "source": [
    "im = plt.imread(docs_path+TP[1][2])\n",
    "plt.imshow(im, cmap='gray')\n",
    "plt.title(TP[1][1])"
   ]
  },
  {
   "cell_type": "code",
   "execution_count": 86,
   "metadata": {
    "scrolled": true
   },
   "outputs": [
    {
     "data": {
      "text/plain": [
       "[('SYNTHESIS OF TRANS -DISUBSTITUTED-2,3-DIHYDROBENZOFURANS BY A FORMAL [4 + 1] ANNULATION BETWEEN PARA -QUINONE METHIDES AND SULFONIUM SALTS - ORGANIC CHEMISTRY FRONTIERS (RSC PUBLISHING) DOI_10.1039_C8QO00008E',\n",
       "  'hydroxy-substituted',\n",
       "  './Synthesis of trans -disubstituted-2,3-dihydrobenzofurans by a formal [4 + 1] annulation between para -quinone methides and sulfonium salts - Organic Chemistry Frontiers (RSC Publishing) DOI_10.1039_C8QO00008E_files/c8qo00008e-s1.gif'),\n",
       " ('SYNTHESIS OF TRANS -DISUBSTITUTED-2,3-DIHYDROBENZOFURANS BY A FORMAL [4 + 1] ANNULATION BETWEEN PARA -QUINONE METHIDES AND SULFONIUM SALTS - ORGANIC CHEMISTRY FRONTIERS (RSC PUBLISHING) DOI_10.1039_C8QO00008E',\n",
       "  'hydroxy-substituted p-QMs',\n",
       "  './Synthesis of trans -disubstituted-2,3-dihydrobenzofurans by a formal [4 + 1] annulation between para -quinone methides and sulfonium salts - Organic Chemistry Frontiers (RSC Publishing) DOI_10.1039_C8QO00008E_files/c8qo00008e-s1.gif'),\n",
       " ('SYNTHESIS OF TRANS -DISUBSTITUTED-2,3-DIHYDROBENZOFURANS BY A FORMAL [4 + 1] ANNULATION BETWEEN PARA -QUINONE METHIDES AND SULFONIUM SALTS - ORGANIC CHEMISTRY FRONTIERS (RSC PUBLISHING) DOI_10.1039_C8QO00008E',\n",
       "  'or vinyl',\n",
       "  './Synthesis of trans -disubstituted-2,3-dihydrobenzofurans by a formal [4 + 1] annulation between para -quinone methides and sulfonium salts - Organic Chemistry Frontiers (RSC Publishing) DOI_10.1039_C8QO00008E_files/c8qo00008e-s1.gif'),\n",
       " ('SYNTHESIS OF TRANS -DISUBSTITUTED-2,3-DIHYDROBENZOFURANS BY A FORMAL [4 + 1] ANNULATION BETWEEN PARA -QUINONE METHIDES AND SULFONIUM SALTS - ORGANIC CHEMISTRY FRONTIERS (RSC PUBLISHING) DOI_10.1039_C8QO00008E',\n",
       "  'p-QMs',\n",
       "  './Synthesis of trans -disubstituted-2,3-dihydrobenzofurans by a formal [4 + 1] annulation between para -quinone methides and sulfonium salts - Organic Chemistry Frontiers (RSC Publishing) DOI_10.1039_C8QO00008E_files/c8qo00008e-s1.gif'),\n",
       " ('SYNTHESIS OF TRANS -DISUBSTITUTED-2,3-DIHYDROBENZOFURANS BY A FORMAL [4 + 1] ANNULATION BETWEEN PARA -QUINONE METHIDES AND SULFONIUM SALTS - ORGANIC CHEMISTRY FRONTIERS (RSC PUBLISHING) DOI_10.1039_C8QO00008E',\n",
       "  'p-QMs or vinyl',\n",
       "  './Synthesis of trans -disubstituted-2,3-dihydrobenzofurans by a formal [4 + 1] annulation between para -quinone methides and sulfonium salts - Organic Chemistry Frontiers (RSC Publishing) DOI_10.1039_C8QO00008E_files/c8qo00008e-s1.gif'),\n",
       " ('SYNTHESIS OF TRANS -DISUBSTITUTED-2,3-DIHYDROBENZOFURANS BY A FORMAL [4 + 1] ANNULATION BETWEEN PARA -QUINONE METHIDES AND SULFONIUM SALTS - ORGANIC CHEMISTRY FRONTIERS (RSC PUBLISHING) DOI_10.1039_C8QO00008E',\n",
       "  'vinyl',\n",
       "  './Synthesis of trans -disubstituted-2,3-dihydrobenzofurans by a formal [4 + 1] annulation between para -quinone methides and sulfonium salts - Organic Chemistry Frontiers (RSC Publishing) DOI_10.1039_C8QO00008E_files/c8qo00008e-s1.gif'),\n",
       " ('TOTAL SYNTHESIS OF TEIXOBACTIN AND ITS STEREOISOMERS - ORGANIC CHEMISTRY FRONTIERS (RSC PUBLISHING) DOI_10.1039_C8QO00145F',\n",
       "  'DCM',\n",
       "  './Total synthesis of teixobactin and its stereoisomers - Organic Chemistry Frontiers (RSC Publishing) DOI_10.1039_C8QO00145F_files/c8qo00145f-s2.gif'),\n",
       " ('TOTAL SYNTHESIS OF TEIXOBACTIN AND ITS STEREOISOMERS - ORGANIC CHEMISTRY FRONTIERS (RSC PUBLISHING) DOI_10.1039_C8QO00145F',\n",
       "  'DIPEA',\n",
       "  './Total synthesis of teixobactin and its stereoisomers - Organic Chemistry Frontiers (RSC Publishing) DOI_10.1039_C8QO00145F_files/c8qo00145f-s2.gif'),\n",
       " ('TOTAL SYNTHESIS OF TEIXOBACTIN AND ITS STEREOISOMERS - ORGANIC CHEMISTRY FRONTIERS (RSC PUBLISHING) DOI_10.1039_C8QO00145F',\n",
       "  'DIPEA',\n",
       "  './Total synthesis of teixobactin and its stereoisomers - Organic Chemistry Frontiers (RSC Publishing) DOI_10.1039_C8QO00145F_files/c8qo00145f-s5.gif'),\n",
       " ('TOTAL SYNTHESIS OF TEIXOBACTIN AND ITS STEREOISOMERS - ORGANIC CHEMISTRY FRONTIERS (RSC PUBLISHING) DOI_10.1039_C8QO00145F',\n",
       "  'HATU',\n",
       "  './Total synthesis of teixobactin and its stereoisomers - Organic Chemistry Frontiers (RSC Publishing) DOI_10.1039_C8QO00145F_files/c8qo00145f-s5.gif'),\n",
       " ('TOTAL SYNTHESIS OF TEIXOBACTIN AND ITS STEREOISOMERS - ORGANIC CHEMISTRY FRONTIERS (RSC PUBLISHING) DOI_10.1039_C8QO00145F',\n",
       "  'HPLC',\n",
       "  './Total synthesis of teixobactin and its stereoisomers - Organic Chemistry Frontiers (RSC Publishing) DOI_10.1039_C8QO00145F_files/c8qo00145f-s5.gif'),\n",
       " ('TOTAL SYNTHESIS OF TEIXOBACTIN AND ITS STEREOISOMERS - ORGANIC CHEMISTRY FRONTIERS (RSC PUBLISHING) DOI_10.1039_C8QO00145F',\n",
       "  'II',\n",
       "  './Total synthesis of teixobactin and its stereoisomers - Organic Chemistry Frontiers (RSC Publishing) DOI_10.1039_C8QO00145F_files/c8qo00145f-s1.gif'),\n",
       " ('TOTAL SYNTHESIS OF TEIXOBACTIN AND ITS STEREOISOMERS - ORGANIC CHEMISTRY FRONTIERS (RSC PUBLISHING) DOI_10.1039_C8QO00145F',\n",
       "  'II',\n",
       "  './Total synthesis of teixobactin and its stereoisomers - Organic Chemistry Frontiers (RSC Publishing) DOI_10.1039_C8QO00145F_files/c8qo00145f-s2.gif'),\n",
       " ('TOTAL SYNTHESIS OF TEIXOBACTIN AND ITS STEREOISOMERS - ORGANIC CHEMISTRY FRONTIERS (RSC PUBLISHING) DOI_10.1039_C8QO00145F',\n",
       "  'NaBH4',\n",
       "  './Total synthesis of teixobactin and its stereoisomers - Organic Chemistry Frontiers (RSC Publishing) DOI_10.1039_C8QO00145F_files/c8qo00145f-s2.gif'),\n",
       " ('TOTAL SYNTHESIS OF TEIXOBACTIN AND ITS STEREOISOMERS - ORGANIC CHEMISTRY FRONTIERS (RSC PUBLISHING) DOI_10.1039_C8QO00145F',\n",
       "  'OH',\n",
       "  './Total synthesis of teixobactin and its stereoisomers - Organic Chemistry Frontiers (RSC Publishing) DOI_10.1039_C8QO00145F_files/c8qo00145f-s1.gif'),\n",
       " ('TOTAL SYNTHESIS OF TEIXOBACTIN AND ITS STEREOISOMERS - ORGANIC CHEMISTRY FRONTIERS (RSC PUBLISHING) DOI_10.1039_C8QO00145F',\n",
       "  'OH',\n",
       "  './Total synthesis of teixobactin and its stereoisomers - Organic Chemistry Frontiers (RSC Publishing) DOI_10.1039_C8QO00145F_files/c8qo00145f-s2.gif'),\n",
       " ('TOTAL SYNTHESIS OF TEIXOBACTIN AND ITS STEREOISOMERS - ORGANIC CHEMISTRY FRONTIERS (RSC PUBLISHING) DOI_10.1039_C8QO00145F',\n",
       "  'TFA',\n",
       "  './Total synthesis of teixobactin and its stereoisomers - Organic Chemistry Frontiers (RSC Publishing) DOI_10.1039_C8QO00145F_files/c8qo00145f-s2.gif'),\n",
       " ('TOTAL SYNTHESIS OF TEIXOBACTIN AND ITS STEREOISOMERS - ORGANIC CHEMISTRY FRONTIERS (RSC PUBLISHING) DOI_10.1039_C8QO00145F',\n",
       "  'TFA',\n",
       "  './Total synthesis of teixobactin and its stereoisomers - Organic Chemistry Frontiers (RSC Publishing) DOI_10.1039_C8QO00145F_files/c8qo00145f-s5.gif'),\n",
       " ('VISIBLE LIGHT PHOTOREDOX CATALYSIS_ CONVERSION OF A MIXTURE OF THIOPHENOLS AND NITRILES INTO 2-SUBSTITUTED BENZOTHIAZOLES VIA CONSECUTIVE C–S AND C–N ... - ORGANIC CHEMISTRY FRONTIERS (RSC PUBLISHING) DOI_10.1039_C8QO00219C',\n",
       "  '2-aryl',\n",
       "  './Visible light photoredox catalysis_ conversion of a mixture of thiophenols and nitriles into 2-substituted benzothiazoles via consecutive C–S and C–N ... - Organic Chemistry Frontiers (RSC Publishing) DOI_10.1039_C8QO00219C_files/c8qo00219c-s1.gif'),\n",
       " ('VISIBLE LIGHT PHOTOREDOX CATALYSIS_ CONVERSION OF A MIXTURE OF THIOPHENOLS AND NITRILES INTO 2-SUBSTITUTED BENZOTHIAZOLES VIA CONSECUTIVE C–S AND C–N ... - ORGANIC CHEMISTRY FRONTIERS (RSC PUBLISHING) DOI_10.1039_C8QO00219C',\n",
       "  'BN',\n",
       "  './Visible light photoredox catalysis_ conversion of a mixture of thiophenols and nitriles into 2-substituted benzothiazoles via consecutive C–S and C–N ... - Organic Chemistry Frontiers (RSC Publishing) DOI_10.1039_C8QO00219C_files/c8qo00219c-s2.gif'),\n",
       " ('VISIBLE LIGHT PHOTOREDOX CATALYSIS_ CONVERSION OF A MIXTURE OF THIOPHENOLS AND NITRILES INTO 2-SUBSTITUTED BENZOTHIAZOLES VIA CONSECUTIVE C–S AND C–N ... - ORGANIC CHEMISTRY FRONTIERS (RSC PUBLISHING) DOI_10.1039_C8QO00219C',\n",
       "  'BN',\n",
       "  './Visible light photoredox catalysis_ conversion of a mixture of thiophenols and nitriles into 2-substituted benzothiazoles via consecutive C–S and C–N ... - Organic Chemistry Frontiers (RSC Publishing) DOI_10.1039_C8QO00219C_files/c8qo00219c-s3.gif'),\n",
       " ('VISIBLE LIGHT PHOTOREDOX CATALYSIS_ CONVERSION OF A MIXTURE OF THIOPHENOLS AND NITRILES INTO 2-SUBSTITUTED BENZOTHIAZOLES VIA CONSECUTIVE C–S AND C–N ... - ORGANIC CHEMISTRY FRONTIERS (RSC PUBLISHING) DOI_10.1039_C8QO00219C',\n",
       "  'BN1',\n",
       "  './Visible light photoredox catalysis_ conversion of a mixture of thiophenols and nitriles into 2-substituted benzothiazoles via consecutive C–S and C–N ... - Organic Chemistry Frontiers (RSC Publishing) DOI_10.1039_C8QO00219C_files/c8qo00219c-s3.gif'),\n",
       " ('VISIBLE LIGHT PHOTOREDOX CATALYSIS_ CONVERSION OF A MIXTURE OF THIOPHENOLS AND NITRILES INTO 2-SUBSTITUTED BENZOTHIAZOLES VIA CONSECUTIVE C–S AND C–N ... - ORGANIC CHEMISTRY FRONTIERS (RSC PUBLISHING) DOI_10.1039_C8QO00219C',\n",
       "  'BN12',\n",
       "  './Visible light photoredox catalysis_ conversion of a mixture of thiophenols and nitriles into 2-substituted benzothiazoles via consecutive C–S and C–N ... - Organic Chemistry Frontiers (RSC Publishing) DOI_10.1039_C8QO00219C_files/c8qo00219c-s3.gif'),\n",
       " ('VISIBLE LIGHT PHOTOREDOX CATALYSIS_ CONVERSION OF A MIXTURE OF THIOPHENOLS AND NITRILES INTO 2-SUBSTITUTED BENZOTHIAZOLES VIA CONSECUTIVE C–S AND C–N ... - ORGANIC CHEMISTRY FRONTIERS (RSC PUBLISHING) DOI_10.1039_C8QO00219C',\n",
       "  'BT23',\n",
       "  './Visible light photoredox catalysis_ conversion of a mixture of thiophenols and nitriles into 2-substituted benzothiazoles via consecutive C–S and C–N ... - Organic Chemistry Frontiers (RSC Publishing) DOI_10.1039_C8QO00219C_files/c8qo00219c-s3.gif'),\n",
       " ('VISIBLE LIGHT PHOTOREDOX CATALYSIS_ CONVERSION OF A MIXTURE OF THIOPHENOLS AND NITRILES INTO 2-SUBSTITUTED BENZOTHIAZOLES VIA CONSECUTIVE C–S AND C–N ... - ORGANIC CHEMISTRY FRONTIERS (RSC PUBLISHING) DOI_10.1039_C8QO00219C',\n",
       "  'DMSO',\n",
       "  './Visible light photoredox catalysis_ conversion of a mixture of thiophenols and nitriles into 2-substituted benzothiazoles via consecutive C–S and C–N ... - Organic Chemistry Frontiers (RSC Publishing) DOI_10.1039_C8QO00219C_files/c8qo00219c-s2.gif'),\n",
       " ('VISIBLE LIGHT PHOTOREDOX CATALYSIS_ CONVERSION OF A MIXTURE OF THIOPHENOLS AND NITRILES INTO 2-SUBSTITUTED BENZOTHIAZOLES VIA CONSECUTIVE C–S AND C–N ... - ORGANIC CHEMISTRY FRONTIERS (RSC PUBLISHING) DOI_10.1039_C8QO00219C',\n",
       "  'DMSO',\n",
       "  './Visible light photoredox catalysis_ conversion of a mixture of thiophenols and nitriles into 2-substituted benzothiazoles via consecutive C–S and C–N ... - Organic Chemistry Frontiers (RSC Publishing) DOI_10.1039_C8QO00219C_files/c8qo00219c-s3.gif'),\n",
       " ('VISIBLE LIGHT PHOTOREDOX CATALYSIS_ CONVERSION OF A MIXTURE OF THIOPHENOLS AND NITRILES INTO 2-SUBSTITUTED BENZOTHIAZOLES VIA CONSECUTIVE C–S AND C–N ... - ORGANIC CHEMISTRY FRONTIERS (RSC PUBLISHING) DOI_10.1039_C8QO00219C',\n",
       "  'LED',\n",
       "  './Visible light photoredox catalysis_ conversion of a mixture of thiophenols and nitriles into 2-substituted benzothiazoles via consecutive C–S and C–N ... - Organic Chemistry Frontiers (RSC Publishing) DOI_10.1039_C8QO00219C_files/c8qo00219c-s2.gif'),\n",
       " ('VISIBLE LIGHT PHOTOREDOX CATALYSIS_ CONVERSION OF A MIXTURE OF THIOPHENOLS AND NITRILES INTO 2-SUBSTITUTED BENZOTHIAZOLES VIA CONSECUTIVE C–S AND C–N ... - ORGANIC CHEMISTRY FRONTIERS (RSC PUBLISHING) DOI_10.1039_C8QO00219C',\n",
       "  'LED',\n",
       "  './Visible light photoredox catalysis_ conversion of a mixture of thiophenols and nitriles into 2-substituted benzothiazoles via consecutive C–S and C–N ... - Organic Chemistry Frontiers (RSC Publishing) DOI_10.1039_C8QO00219C_files/c8qo00219c-s3.gif'),\n",
       " ('VISIBLE LIGHT PHOTOREDOX CATALYSIS_ CONVERSION OF A MIXTURE OF THIOPHENOLS AND NITRILES INTO 2-SUBSTITUTED BENZOTHIAZOLES VIA CONSECUTIVE C–S AND C–N ... - ORGANIC CHEMISTRY FRONTIERS (RSC PUBLISHING) DOI_10.1039_C8QO00219C',\n",
       "  'LEDs',\n",
       "  './Visible light photoredox catalysis_ conversion of a mixture of thiophenols and nitriles into 2-substituted benzothiazoles via consecutive C–S and C–N ... - Organic Chemistry Frontiers (RSC Publishing) DOI_10.1039_C8QO00219C_files/c8qo00219c-s2.gif'),\n",
       " ('VISIBLE LIGHT PHOTOREDOX CATALYSIS_ CONVERSION OF A MIXTURE OF THIOPHENOLS AND NITRILES INTO 2-SUBSTITUTED BENZOTHIAZOLES VIA CONSECUTIVE C–S AND C–N ... - ORGANIC CHEMISTRY FRONTIERS (RSC PUBLISHING) DOI_10.1039_C8QO00219C',\n",
       "  'LEDs',\n",
       "  './Visible light photoredox catalysis_ conversion of a mixture of thiophenols and nitriles into 2-substituted benzothiazoles via consecutive C–S and C–N ... - Organic Chemistry Frontiers (RSC Publishing) DOI_10.1039_C8QO00219C_files/c8qo00219c-s3.gif'),\n",
       " ('VISIBLE LIGHT PHOTOREDOX CATALYSIS_ CONVERSION OF A MIXTURE OF THIOPHENOLS AND NITRILES INTO 2-SUBSTITUTED BENZOTHIAZOLES VIA CONSECUTIVE C–S AND C–N ... - ORGANIC CHEMISTRY FRONTIERS (RSC PUBLISHING) DOI_10.1039_C8QO00219C',\n",
       "  'TP',\n",
       "  './Visible light photoredox catalysis_ conversion of a mixture of thiophenols and nitriles into 2-substituted benzothiazoles via consecutive C–S and C–N ... - Organic Chemistry Frontiers (RSC Publishing) DOI_10.1039_C8QO00219C_files/c8qo00219c-s2.gif'),\n",
       " ('VISIBLE LIGHT PHOTOREDOX CATALYSIS_ CONVERSION OF A MIXTURE OF THIOPHENOLS AND NITRILES INTO 2-SUBSTITUTED BENZOTHIAZOLES VIA CONSECUTIVE C–S AND C–N ... - ORGANIC CHEMISTRY FRONTIERS (RSC PUBLISHING) DOI_10.1039_C8QO00219C',\n",
       "  'TP',\n",
       "  './Visible light photoredox catalysis_ conversion of a mixture of thiophenols and nitriles into 2-substituted benzothiazoles via consecutive C–S and C–N ... - Organic Chemistry Frontiers (RSC Publishing) DOI_10.1039_C8QO00219C_files/c8qo00219c-s3.gif'),\n",
       " ('VISIBLE LIGHT PHOTOREDOX CATALYSIS_ CONVERSION OF A MIXTURE OF THIOPHENOLS AND NITRILES INTO 2-SUBSTITUTED BENZOTHIAZOLES VIA CONSECUTIVE C–S AND C–N ... - ORGANIC CHEMISTRY FRONTIERS (RSC PUBLISHING) DOI_10.1039_C8QO00219C',\n",
       "  'TP1',\n",
       "  './Visible light photoredox catalysis_ conversion of a mixture of thiophenols and nitriles into 2-substituted benzothiazoles via consecutive C–S and C–N ... - Organic Chemistry Frontiers (RSC Publishing) DOI_10.1039_C8QO00219C_files/c8qo00219c-s3.gif'),\n",
       " ('VISIBLE LIGHT PHOTOREDOX CATALYSIS_ CONVERSION OF A MIXTURE OF THIOPHENOLS AND NITRILES INTO 2-SUBSTITUTED BENZOTHIAZOLES VIA CONSECUTIVE C–S AND C–N ... - ORGANIC CHEMISTRY FRONTIERS (RSC PUBLISHING) DOI_10.1039_C8QO00219C',\n",
       "  'benzothiazoles from the',\n",
       "  './Visible light photoredox catalysis_ conversion of a mixture of thiophenols and nitriles into 2-substituted benzothiazoles via consecutive C–S and C–N ... - Organic Chemistry Frontiers (RSC Publishing) DOI_10.1039_C8QO00219C_files/c8qo00219c-s2.gif'),\n",
       " ('VISIBLE LIGHT PHOTOREDOX CATALYSIS_ CONVERSION OF A MIXTURE OF THIOPHENOLS AND NITRILES INTO 2-SUBSTITUTED BENZOTHIAZOLES VIA CONSECUTIVE C–S AND C–N ... - ORGANIC CHEMISTRY FRONTIERS (RSC PUBLISHING) DOI_10.1039_C8QO00219C',\n",
       "  'benzothiazoles through conventional',\n",
       "  './Visible light photoredox catalysis_ conversion of a mixture of thiophenols and nitriles into 2-substituted benzothiazoles via consecutive C–S and C–N ... - Organic Chemistry Frontiers (RSC Publishing) DOI_10.1039_C8QO00219C_files/c8qo00219c-s1.gif'),\n",
       " ('VISIBLE LIGHT PHOTOREDOX CATALYSIS_ CONVERSION OF A MIXTURE OF THIOPHENOLS AND NITRILES INTO 2-SUBSTITUTED BENZOTHIAZOLES VIA CONSECUTIVE C–S AND C–N ... - ORGANIC CHEMISTRY FRONTIERS (RSC PUBLISHING) DOI_10.1039_C8QO00219C',\n",
       "  'of 2-aryl',\n",
       "  './Visible light photoredox catalysis_ conversion of a mixture of thiophenols and nitriles into 2-substituted benzothiazoles via consecutive C–S and C–N ... - Organic Chemistry Frontiers (RSC Publishing) DOI_10.1039_C8QO00219C_files/c8qo00219c-s1.gif'),\n",
       " ('VISIBLE LIGHT PHOTOREDOX CATALYSIS_ CONVERSION OF A MIXTURE OF THIOPHENOLS AND NITRILES INTO 2-SUBSTITUTED BENZOTHIAZOLES VIA CONSECUTIVE C–S AND C–N ... - ORGANIC CHEMISTRY FRONTIERS (RSC PUBLISHING) DOI_10.1039_C8QO00219C',\n",
       "  'synthesis of 2-aryl',\n",
       "  './Visible light photoredox catalysis_ conversion of a mixture of thiophenols and nitriles into 2-substituted benzothiazoles via consecutive C–S and C–N ... - Organic Chemistry Frontiers (RSC Publishing) DOI_10.1039_C8QO00219C_files/c8qo00219c-s1.gif')]"
      ]
     },
     "execution_count": 86,
     "metadata": {},
     "output_type": "execute_result"
    }
   ],
   "source": [
    "def vis_entity(entity):\n",
    "    plt.imread(entity[2])"
   ]
  },
  {
   "cell_type": "code",
   "execution_count": null,
   "metadata": {},
   "outputs": [],
   "source": []
  }
 ],
 "metadata": {
  "kernelspec": {
   "display_name": "Python 3",
   "language": "python",
   "name": "python3"
  },
  "language_info": {
   "codemirror_mode": {
    "name": "ipython",
    "version": 3
   },
   "file_extension": ".py",
   "mimetype": "text/x-python",
   "name": "python",
   "nbconvert_exporter": "python",
   "pygments_lexer": "ipython3",
   "version": "3.6.4"
  }
 },
 "nbformat": 4,
 "nbformat_minor": 2
}
