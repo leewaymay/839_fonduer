{
 "cells": [
  {
   "cell_type": "markdown",
   "metadata": {},
   "source": [
    "# Tutorial for iteratively develop knowledge base"
   ]
  },
  {
   "cell_type": "code",
   "execution_count": 1,
   "metadata": {},
   "outputs": [],
   "source": [
    "%load_ext autoreload\n",
    "%autoreload 2"
   ]
  },
  {
   "cell_type": "code",
   "execution_count": 5,
   "metadata": {},
   "outputs": [],
   "source": [
    "import matplotlib\n",
    "import matplotlib.pyplot as plt\n",
    "%matplotlib inline"
   ]
  },
  {
   "cell_type": "markdown",
   "metadata": {},
   "source": [
    "## Change fonduer home directory"
   ]
  },
  {
   "cell_type": "code",
   "execution_count": 6,
   "metadata": {},
   "outputs": [],
   "source": [
    "import os\n",
    "ATTRIBUTE = \"organic_figure\"\n",
    "os.environ['FONDUERHOME'] = '/Users/liwei/BoxSync/s2016/Dropbox/839_fonduer'\n",
    "os.environ['FONDUERDBNAME'] = ATTRIBUTE\n",
    "os.environ['SNORKELDB'] = 'postgres://localhost:5432/' + os.environ['FONDUERDBNAME']\n",
    "docs_path = os.environ['FONDUERHOME'] + '/tutorials/organic_synthesis_figures/data/html/'\n",
    "pdf_path = os.environ['FONDUERHOME'] + '/tutorials/organic_synthesis_figures/data/pdf/'"
   ]
  },
  {
   "cell_type": "code",
   "execution_count": 7,
   "metadata": {},
   "outputs": [],
   "source": [
    "from scipy import sparse\n",
    "from fonduer import SnorkelSession, candidate_subclass \n",
    "from fonduer import HTMLPreprocessor, OmniParser"
   ]
  },
  {
   "cell_type": "code",
   "execution_count": 8,
   "metadata": {},
   "outputs": [],
   "source": [
    "session = SnorkelSession()\n",
    "Org_Fig = candidate_subclass('Org_Fig', ['organic','figure'])"
   ]
  },
  {
   "cell_type": "markdown",
   "metadata": {},
   "source": [
    "## Parse the documents"
   ]
  },
  {
   "cell_type": "code",
   "execution_count": 9,
   "metadata": {},
   "outputs": [],
   "source": [
    "max_docs = 24\n",
    "doc_preprocessor = HTMLPreprocessor(docs_path, max_docs=max_docs)\n",
    "corpus_parser = OmniParser(structural=True, lingual=True, visual=True, \n",
    "                           pdf_path=pdf_path,\n",
    "                           blacklist=['style', 'script', 'meta', 'noscript'])"
   ]
  },
  {
   "cell_type": "markdown",
   "metadata": {},
   "source": [
    "Run this to get the document parsed"
   ]
  },
  {
   "cell_type": "code",
   "execution_count": null,
   "metadata": {},
   "outputs": [],
   "source": [
    "corpus_parser.apply(doc_preprocessor, parallelism=PARALLEL)"
   ]
  },
  {
   "cell_type": "markdown",
   "metadata": {},
   "source": [
    "## Split the documents"
   ]
  },
  {
   "cell_type": "code",
   "execution_count": 10,
   "metadata": {},
   "outputs": [],
   "source": [
    "from fonduer import Document\n",
    "\n",
    "docs = session.query(Document).order_by(Document.name).all()\n",
    "ld   = len(docs)"
   ]
  },
  {
   "cell_type": "code",
   "execution_count": 19,
   "metadata": {
    "collapsed": true
   },
   "outputs": [
    {
     "name": "stdout",
     "output_type": "stream",
     "text": [
      "['Organocatalytic asymmetric synthesis of cornolactones A and B, and formal synthesis of brasoside and littoralisone - Organic Chemistry Frontiers (RSC Publishing) DOI_10.1039_C7QO00843K', 'Domino cyclization_trifluoromethylation of 2-alkynylanilines using fluoroform-derived CuCF 3 _ synthesis of 3-(trifluoromethyl)indoles - Organic Chemistry Frontiers (RSC Publishing) DOI_10.1039_C8QO00191J', 'Bottom-up chemical synthesis of three-dimensional conjugated carbon nanostructures_ from carbon nanocages to carbon nanotubes - Organic Chemistry Frontiers (RSC Publishing) DOI_10.1039_C4QO00181H', 'Recent synthetic studies towards natural products via [5 + 2] cycloaddition reactions - Organic Chemistry Frontiers (RSC Publishing) DOI_10.1039_C7QO01123G', 'A problem solving approach for the diastereoselective synthesis of (5′ S )- and (5′ R )-5′,8-cyclopurine lesions - Organic Chemistry Frontiers (RSC Publishing) DOI_10.1039_C4QO00133H', 'Lewis acid catalyzed Nazarov type cyclization for the synthesis of a substituted indane framework_ total synthesis of (±)-mutisianthol - Organic Chemistry Frontiers (RSC Publishing) DOI_10.1039_C5QO00005J', 'Approach to the synthesis of the C1–C11 and C14–C18 portion of Leucascandrolide A - Organic Chemistry Frontiers (RSC Publishing) DOI_10.1039_C6QO00284F', 'Concise asymmetric total synthesis of bruceolline J - Organic Chemistry Frontiers (RSC Publishing) DOI_10.1039_C5QO00030K', 'Recent advances in the intramolecular Mannich reaction in natural products total synthesis - Organic Chemistry Frontiers (RSC Publishing) DOI_10.1039_C7QO01079F', 'Photoredox-catalyzed cascade annulation of methyl(2-(phenylethynyl)phenyl)sulfanes and methyl(2-(phenylethynyl)phenyl)selanes with sulfonyl chlorides_ ... - Organic Chemistry Frontiers (RSC Publishing) DOI_10.1039_C8QO00147B', 'Stereoconvergent synthesis of 1-deoxynojirimycin isomers by using the 3 component 4 centred Ugi reaction - Organic Chemistry Frontiers (RSC Publishing) DOI_10.1039_C5QO00019J', 'Silylative coupling of olefins with vinylsilanes in the synthesis of functionalized alkenes - Organic Chemistry Frontiers (RSC Publishing) DOI_10.1039_C5QO00018A', 'Synthesis and characterization of a doubly spin-labelled electrochemically driven molecular shuttle - Organic Chemistry Frontiers (RSC Publishing) DOI_10.1039_C8QO00187A', 'Brønsted acid-catalyzed synthesis of carbazoles from 2-substituted indoles - Organic Chemistry Frontiers (RSC Publishing) DOI_10.1039_C4QO00242C', 'Formal synthesis of (−)-platensimycin - Organic Chemistry Frontiers (RSC Publishing) DOI_10.1039_C5QO00109A', 'Annulation based on 8-aminoquinoline assisted C–H activation_ an emerging tool in N-heterocycle construction - Organic Chemistry Frontiers (RSC Publishing) DOI_10.1039_C6QO00077K', 'Efficient synthesis of 2-nitroimidazole derivatives and the bioreductive clinical candidate Evofosfamide (TH-302) - Organic Chemistry Frontiers (RSC Publishing) DOI_10.1039_C5QO00211G', 'Metal-mediated C–O bond forming reactions in natural product synthesis - Organic Chemistry Frontiers (RSC Publishing) DOI_10.1039_C7QO00671C', 'Syntheses and structures of [7]helicene and double helicene based on dithieno[2,3- b _2′,3′- d ]thiophene - Organic Chemistry Frontiers (RSC Publishing) DOI_10.1039_C7QO01049D', 'A room-temperature synthesis of 2,2′-bisoxazoles through palladium-catalyzed oxidative coupling of α-isocyanoacetamides - Organic Chemistry Frontiers (RSC Publishing) DOI_10.1039_C4QO00250D']\n"
     ]
    }
   ],
   "source": [
    "train_docs = set()\n",
    "test_docs  = set()\n",
    "splits = 5 / 6\n",
    "data = [(doc.name, doc) for doc in docs]\n",
    "data.sort(key=lambda x: x[0])\n",
    "for i, (doc_name, doc) in enumerate(data):\n",
    "    if i < splits * ld:\n",
    "        train_docs.add(doc)\n",
    "    else:\n",
    "        test_docs.add(doc)\n",
    "print([x.name for x in train_docs])"
   ]
  },
  {
   "cell_type": "code",
   "execution_count": 21,
   "metadata": {},
   "outputs": [],
   "source": [
    "from fonduer.snorkel.matchers import LambdaFunctionMatcher, Intersect, Union\n",
    "from fonduer.snorkel.matchers import RegexMatchSpan\n",
    "from regex_matcher import get_rgx_matcher"
   ]
  },
  {
   "cell_type": "code",
   "execution_count": 22,
   "metadata": {},
   "outputs": [],
   "source": [
    "org_rgx = get_rgx_matcher()\n",
    "\n",
    "rgx_matcher = RegexMatchSpan(rgx=org_rgx, longest_match_only=True, ignore_case=False)\n",
    "blacklist = ['CAS', 'PDF', 'RSC', 'SAR', 'TEM']\n",
    "prod_blacklist_lambda_matcher = LambdaFunctionMatcher(func=lambda x: x.text not in blacklist, ignore_case=False)\n",
    "blacklist_rgx = ['methods?.?']\n",
    "prod_blacklist_rgx_lambda_matcher = LambdaFunctionMatcher(\n",
    "    func=lambda x: all([re.match(r, x.text) is None for r in blacklist_rgx]), ignore_case=False)\n",
    "\n",
    "#prod_matcher = rgx_matcher\n",
    "prod_matcher = Intersect(rgx_matcher, prod_blacklist_lambda_matcher, prod_blacklist_rgx_lambda_matcher)"
   ]
  },
  {
   "cell_type": "code",
   "execution_count": 23,
   "metadata": {},
   "outputs": [],
   "source": [
    "from fonduer import CandidateExtractor\n",
    "from fonduer.lf_helpers import *\n",
    "import re\n",
    "\n",
    "def candidate_filter(c):\n",
    "    (organic, figure) = c\n",
    "    if same_file(organic, figure):\n",
    "        if mentionsFig(organic, figure) or mentionsOrg(figure, organic):\n",
    "            return True\n",
    "\n",
    "\n",
    "from organic_spaces import OmniNgramsProd\n",
    "prod_ngrams = OmniNgramsProd(parts_by_doc=None, n_max=3)\n",
    "\n",
    "from fonduer.matchers import LambdaFunctionFigureMatcher\n",
    "\n",
    "def white_black_list_matcher(fig):\n",
    "    white_list = ['synthesis', 'plausible']\n",
    "    black_list = ['spectra', 'x-ray', 'copyright', 'structur', 'application']\n",
    "\n",
    "    fig_desc = fig.figure.description.lower()\n",
    "    in_white = in_black = False\n",
    "    if any(fig_desc.find(v) >= 0 for v in white_list): in_white = True\n",
    "    if any(fig_desc.find(v) >= 0 for v in black_list): in_black = True\n",
    "    if in_black and (not in_white):\n",
    "        return False\n",
    "    return True\n",
    "\n",
    "def contain_organic_matcher(fig):\n",
    "    # filter 2\n",
    "    desc_wordlist = fig.figure.description.lower().split(' ')\n",
    "    if any(re.search(org_rgx, w) for w in desc_wordlist): return True\n",
    "    if not fig.figure.text == '':\n",
    "        orc_wordlist = fig.figure.text.lower().split('\\n')\n",
    "        orc_wordlist = [w for w in orc_wordlist if not w == '']\n",
    "        if any(re.search(org_rgx, w) for w in orc_wordlist): return True\n",
    "    return False\n",
    "\n",
    "fig_matcher1 = LambdaFunctionFigureMatcher(func=white_black_list_matcher)\n",
    "fig_matcher2 = LambdaFunctionFigureMatcher(func=contain_organic_matcher)\n",
    "fig_matcher = Union(fig_matcher1, fig_matcher2)"
   ]
  },
  {
   "cell_type": "code",
   "execution_count": null,
   "metadata": {},
   "outputs": [],
   "source": [
    "from fonduer.candidates import OmniDetailedFigures\n",
    "\n",
    "figs = OmniDetailedFigures()\n",
    "\n",
    "candidate_extractor = CandidateExtractor(Org_Fig,\n",
    "                        [prod_ngrams, figs],\n",
    "                        [prod_matcher, fig_matcher],\n",
    "                        candidate_filter=candidate_filter)\n",
    "\n",
    "candidate_extractor.apply(train_docs, split=0, parallelism=PARALLEL)\n",
    "candidate_extractor.apply(test_docs, split=1, parallelism=PARALLEL)"
   ]
  },
  {
   "cell_type": "markdown",
   "metadata": {},
   "source": [
    "## Run this to get the training and testing candidates"
   ]
  },
  {
   "cell_type": "code",
   "execution_count": 24,
   "metadata": {},
   "outputs": [
    {
     "name": "stdout",
     "output_type": "stream",
     "text": [
      "Number of train candidates: 3790\n",
      "Number of test candidates: 472\n"
     ]
    }
   ],
   "source": [
    "train_cands = session.query(Org_Fig).filter(Org_Fig.split == 0).all()\n",
    "test_cands = session.query(Org_Fig).filter(Org_Fig.split == 1).all()\n",
    "print(\"Number of train candidates: {}\\nNumber of test candidates: {}\".format(len(train_cands), len(test_cands)))"
   ]
  },
  {
   "cell_type": "markdown",
   "metadata": {},
   "source": [
    "## Generate features"
   ]
  },
  {
   "cell_type": "code",
   "execution_count": 25,
   "metadata": {},
   "outputs": [
    {
     "name": "stderr",
     "output_type": "stream",
     "text": [
      "Using TensorFlow backend.\n"
     ]
    }
   ],
   "source": [
    "from fonduer import BatchFeatureAnnotator\n",
    "from fonduer.features.features import get_organic_image_feats\n",
    "from fonduer.features.read_images import gen_image_features"
   ]
  },
  {
   "cell_type": "code",
   "execution_count": null,
   "metadata": {},
   "outputs": [],
   "source": [
    "# Only need to do this once\n",
    "print('Generating image features')\n",
    "# session.execute(\"delete from context where stable_id like '%feature%'\")\n",
    "gen_image_features(docs_path=docs_path)"
   ]
  },
  {
   "cell_type": "code",
   "execution_count": 28,
   "metadata": {},
   "outputs": [],
   "source": [
    "featurizer = BatchFeatureAnnotator(Org_Fig, f=get_organic_image_feats)"
   ]
  },
  {
   "cell_type": "markdown",
   "metadata": {},
   "source": [
    "### Run this to re-generate the features"
   ]
  },
  {
   "cell_type": "code",
   "execution_count": null,
   "metadata": {},
   "outputs": [],
   "source": [
    "print('Generating other features')\n",
    "F_train = featurizer.apply(split=0, replace_key_set=True, parallelism=PARALLEL) # generate sparse features\n",
    "F_test = featurizer.apply(split=1, replace_key_set=False, parallelism=PARALLEL) # generate sparse features\n",
    "print('Merging image features')"
   ]
  },
  {
   "cell_type": "markdown",
   "metadata": {},
   "source": [
    "### Run this to reload the features"
   ]
  },
  {
   "cell_type": "code",
   "execution_count": 29,
   "metadata": {},
   "outputs": [],
   "source": [
    "F_train = sparse.hstack(featurizer.load_matrix_and_image_features(split=0)).toarray()  # concatenate dense with sparse matrix\n",
    "F_test = sparse.hstack(featurizer.load_matrix_and_image_features(split=1), format=\"csr\").toarray()  # concatenate dense with sparse matrix"
   ]
  },
  {
   "cell_type": "code",
   "execution_count": 26,
   "metadata": {},
   "outputs": [],
   "source": [
    "from fonduer import BatchLabelAnnotator\n",
    "from organic_lfs import *"
   ]
  },
  {
   "cell_type": "markdown",
   "metadata": {},
   "source": [
    "put more labeling functions in ```organic_lfs```"
   ]
  },
  {
   "cell_type": "markdown",
   "metadata": {},
   "source": [
    "## Add more labeling functions here"
   ]
  },
  {
   "cell_type": "code",
   "execution_count": 34,
   "metadata": {},
   "outputs": [],
   "source": [
    "org_fig_lfs = [\n",
    "    LF_fig_name_match,\n",
    "    LF_text_desc_match,\n",
    "    LF_ocr_text_match,\n",
    "    LF_text_length_match,\n",
    "    LF_match_whitelist,\n",
    "    LF_match_blacklist,\n",
    "    LF_match_page,\n",
    "    LF_pos_near,\n",
    "    LF_organic_compound,\n",
    "    LF_synthesis_of,\n",
    "    LF_product_of,\n",
    "    LF_first_period,\n",
    "]"
   ]
  },
  {
   "cell_type": "code",
   "execution_count": 35,
   "metadata": {},
   "outputs": [],
   "source": [
    "labeler = BatchLabelAnnotator(Org_Fig, lfs=org_fig_lfs)"
   ]
  },
  {
   "cell_type": "code",
   "execution_count": null,
   "metadata": {},
   "outputs": [],
   "source": []
  },
  {
   "cell_type": "code",
   "execution_count": null,
   "metadata": {},
   "outputs": [],
   "source": [
    "L_train = labeler.apply(split=0, clear=True, parallelism=PARALLEL)"
   ]
  },
  {
   "cell_type": "code",
   "execution_count": 36,
   "metadata": {},
   "outputs": [],
   "source": [
    "L_train = labeler.load_matrix(split=0)"
   ]
  },
  {
   "cell_type": "code",
   "execution_count": 37,
   "metadata": {},
   "outputs": [
    {
     "data": {
      "text/plain": [
       "(3790, 13)"
      ]
     },
     "execution_count": 37,
     "metadata": {},
     "output_type": "execute_result"
    }
   ],
   "source": [
    "L_train.shape"
   ]
  },
  {
   "cell_type": "code",
   "execution_count": 38,
   "metadata": {},
   "outputs": [
    {
     "data": {
      "text/plain": [
       "Org_Fig(ImplicitSpan(\"b'trifluoroacetic'\", sentence=86309, words=[19,19], position=[0]), DetailedImage(Doc: b'Syntheses and structures of [7]helicene and double helicene based on dithieno[2,3- b _2\\xe2\\x80\\xb2,3\\xe2\\x80\\xb2- d ]thiophene - Organic Chemistry Frontiers (RSC Publishing) DOI_10.1039_C7QO01049D', Position: 3, Url: ./Syntheses and structures of [7]helicene and double helicene based on dithieno[2,3- b _2′,3′- d ]thiophene - Organic Chemistry Frontiers (RSC Publishing) DOI_10.1039_C7QO01049D_files/c7qo01049d-s2.gif, Figure_description: Synthetic route to rac-3 and 4. Reagents and conditions: (a) (i) n-BuLi (1.05 equiv.), THF, −78 °C; (ii) DMF (2.0 equiv.), −78 °C; (b) TiCl4 (5.0 equiv.), Zn (10.0 equiv.), pyridine (5.0 equiv.); (c) hv, iodine (0.5 equiv.), toluene; (d) trifluoroacetic acid, r.t.; (e) 2-(4,4,5,5-tetramethyl-1,3,2-dioxaborolane)-5-trimethylsilyl-thiophene (1.05 equiv.), K2CO3 (2.5 equiv.), Pd(PPh3)4 (0.06 equiv.), water (0.85 mL, 2 M), THF; (f) LDA (1.0 equiv.), THF, −78 °C; (ii) DMF (2.0 equiv.), −78 °C.))"
      ]
     },
     "execution_count": 38,
     "metadata": {},
     "output_type": "execute_result"
    }
   ],
   "source": [
    "L_train.get_candidate(session, 0)"
   ]
  },
  {
   "cell_type": "code",
   "execution_count": 46,
   "metadata": {},
   "outputs": [],
   "source": [
    "from fonduer import GenerativeModel"
   ]
  },
  {
   "cell_type": "code",
   "execution_count": 47,
   "metadata": {},
   "outputs": [
    {
     "name": "stdout",
     "output_type": "stream",
     "text": [
      "Inferred cardinality: 2\n"
     ]
    }
   ],
   "source": [
    "gen_model = GenerativeModel()\n",
    "gen_model.train(L_train, epochs=500, decay=0.9, step_size=0.001/L_train.shape[0], reg_param=0)\n",
    "train_marginals = gen_model.marginals(L_train)"
   ]
  },
  {
   "cell_type": "code",
   "execution_count": 50,
   "metadata": {},
   "outputs": [
    {
     "name": "stdout",
     "output_type": "stream",
     "text": [
      "[0.98873934 1.00105026 0.99423868 0.99357394 0.99136393 0.98849675\n",
      " 0.98902209 0.99090307 0.99299184 0.98845059 0.9928555  0.99598775\n",
      " 0.9881982 ]\n"
     ]
    }
   ],
   "source": [
    "print(gen_model.weights.lf_accuracy)"
   ]
  },
  {
   "cell_type": "code",
   "execution_count": 52,
   "metadata": {},
   "outputs": [
    {
     "name": "stdout",
     "output_type": "stream",
     "text": [
      "[========================================] 100%\n",
      "Copying org_fig_label_updates to postgres\n",
      "b'COPY 472\\n'\n"
     ]
    }
   ],
   "source": [
    "L_test = labeler.apply_existing(split = 1)"
   ]
  },
  {
   "cell_type": "code",
   "execution_count": 30,
   "metadata": {},
   "outputs": [
    {
     "data": {
      "text/plain": [
       "(3790, 54597)"
      ]
     },
     "execution_count": 30,
     "metadata": {},
     "output_type": "execute_result"
    }
   ],
   "source": [
    "F_train.shape"
   ]
  },
  {
   "cell_type": "code",
   "execution_count": 31,
   "metadata": {},
   "outputs": [
    {
     "data": {
      "text/plain": [
       "(472, 54597)"
      ]
     },
     "execution_count": 31,
     "metadata": {},
     "output_type": "execute_result"
    }
   ],
   "source": [
    "F_test.shape"
   ]
  },
  {
   "cell_type": "code",
   "execution_count": 168,
   "metadata": {},
   "outputs": [
    {
     "data": {
      "text/plain": [
       "(3790,)"
      ]
     },
     "execution_count": 168,
     "metadata": {},
     "output_type": "execute_result"
    }
   ],
   "source": [
    "train_marginals.shape"
   ]
  },
  {
   "cell_type": "code",
   "execution_count": 185,
   "metadata": {},
   "outputs": [
    {
     "data": {
      "text/plain": [
       "(array([4.92086946e-05, 3.51712216e-04, 3.55399591e-04, 3.56940346e-04,\n",
       "        2.56336404e-03, 2.57300060e-03, 1.83057980e-02, 1.84490232e-02,\n",
       "        1.84701174e-02, 1.85937157e-02, 1.87431540e-02, 1.92014017e-02,\n",
       "        1.92217948e-02, 1.18670202e-01, 1.19615286e-01, 1.20247710e-01,\n",
       "        1.20396139e-01, 1.20577299e-01, 1.21299737e-01, 1.21322942e-01,\n",
       "        1.22171869e-01, 1.22296781e-01, 1.22782728e-01, 1.22815924e-01,\n",
       "        1.23910886e-01, 1.24089876e-01, 1.25493216e-01, 1.25612040e-01,\n",
       "        4.95848520e-01, 4.97340025e-01, 4.99254213e-01, 4.99265344e-01,\n",
       "        4.99324873e-01, 4.99615926e-01, 5.01505539e-01, 5.01862499e-01,\n",
       "        5.03354033e-01, 5.05279230e-01, 5.05480110e-01, 5.05534528e-01,\n",
       "        5.06408937e-01, 5.07519060e-01, 5.07810045e-01, 5.07930908e-01,\n",
       "        5.08221885e-01, 5.09016606e-01, 5.09428412e-01, 5.11703318e-01,\n",
       "        8.77217272e-01, 8.77544221e-01, 8.77669273e-01, 8.78183919e-01,\n",
       "        8.78186650e-01, 8.78308408e-01, 8.79124425e-01, 8.79154457e-01,\n",
       "        8.79265631e-01, 8.79897567e-01, 8.80704376e-01, 8.80734068e-01,\n",
       "        8.80736749e-01, 8.80909723e-01, 8.81362025e-01, 8.81647274e-01,\n",
       "        8.81768700e-01, 8.81967826e-01, 8.82132903e-01, 8.82271065e-01,\n",
       "        8.82416645e-01, 8.82764546e-01, 8.83093231e-01, 8.83213370e-01,\n",
       "        8.83263240e-01, 8.83383228e-01, 8.83407756e-01, 8.84023489e-01,\n",
       "        9.81152027e-01, 9.81198086e-01, 9.81339172e-01, 9.81339639e-01,\n",
       "        9.81503025e-01, 9.81524149e-01, 9.81611032e-01, 9.81636788e-01,\n",
       "        9.81748735e-01, 9.81769584e-01, 9.81775099e-01, 9.81793364e-01,\n",
       "        9.81804559e-01, 9.81845418e-01, 9.81855334e-01, 9.81855789e-01,\n",
       "        9.81860823e-01, 9.81899707e-01, 9.81930065e-01, 9.81961773e-01,\n",
       "        9.81963949e-01, 9.81984556e-01, 9.81992029e-01, 9.82015524e-01,\n",
       "        9.82036074e-01, 9.82040274e-01, 9.82040724e-01, 9.82060796e-01,\n",
       "        9.82069313e-01, 9.82069763e-01, 9.82089803e-01, 9.82145648e-01,\n",
       "        9.82174520e-01, 9.82204426e-01, 9.82218495e-01, 9.82228921e-01,\n",
       "        9.82312992e-01, 9.82333208e-01, 9.97376972e-01, 9.97412372e-01,\n",
       "        9.97415375e-01, 9.97418800e-01, 9.97438486e-01, 9.97439160e-01,\n",
       "        9.97442132e-01, 9.97443365e-01, 9.97453636e-01, 9.97462929e-01,\n",
       "        9.97464290e-01, 9.97470186e-01, 9.97471655e-01, 9.97473058e-01,\n",
       "        9.97473122e-01, 9.97473835e-01, 9.97476407e-01, 9.97476471e-01,\n",
       "        9.97479336e-01, 9.97479998e-01, 9.97484137e-01, 9.97485197e-01,\n",
       "        9.97488116e-01, 9.97488423e-01, 9.97491445e-01, 9.97495719e-01,\n",
       "        9.97499219e-01, 9.97499283e-01, 9.97500489e-01, 9.97503326e-01,\n",
       "        9.97503390e-01, 9.97511233e-01, 9.97514122e-01, 9.97515320e-01,\n",
       "        9.97518204e-01, 9.97537782e-01, 9.99639604e-01, 9.99644951e-01,\n",
       "        9.99645364e-01, 9.99646602e-01, 9.99649559e-01, 9.99649753e-01,\n",
       "        9.99649861e-01, 9.99650438e-01, 9.99650626e-01, 9.99650844e-01,\n",
       "        9.99651643e-01, 9.99651845e-01, 9.99652237e-01, 9.99652440e-01,\n",
       "        9.99652901e-01, 9.99653296e-01, 9.99653305e-01, 9.99653387e-01,\n",
       "        9.99653791e-01, 9.99653958e-01, 9.99654360e-01, 9.99654506e-01,\n",
       "        9.99654965e-01, 9.99655367e-01, 9.99658091e-01, 9.99658654e-01,\n",
       "        9.99951313e-01, 9.99951944e-01, 9.99951945e-01, 9.99951972e-01,\n",
       "        9.99951986e-01, 9.99952035e-01, 9.99952065e-01, 9.99952203e-01,\n",
       "        9.99952231e-01, 9.99952259e-01, 9.99952322e-01, 9.99952403e-01,\n",
       "        9.99952470e-01, 9.99952548e-01, 9.99952687e-01, 9.99952777e-01,\n",
       "        9.99952832e-01, 9.99993393e-01, 9.99993404e-01, 9.99993444e-01,\n",
       "        9.99993447e-01, 9.99993456e-01, 9.99993464e-01, 9.99993526e-01,\n",
       "        9.99999093e-01, 9.99999094e-01, 9.99999103e-01, 9.99999876e-01]),\n",
       " array([  9, 210,  65,  22, 166, 174,  22,  10,  21,   1,  14,   1,   1,\n",
       "          5,   1,   1,  20,   3,   2,  27,   1,   1,   7,  84,  90,  22,\n",
       "          3,  15,  59,   2,   1,   1,  74,   2,   3,   9,   1,  51,   1,\n",
       "         74,   3,   9,   7,   2,   2, 109,  13,  15,   2,   2,  51,  16,\n",
       "          2,   2,   1,   7,  58,   2,   4,  11,  12,  14,   2,   5,   9,\n",
       "          6,  12, 397,  33,   2,   6,  47,   1,  49,   2,   4,   1,   5,\n",
       "          4,   7,   1,  18,  26,   2,   1,  14,  25,   6,  33,  16,  23,\n",
       "         36,   3,  13,   1,   2,   1,  30,   2,  20, 119, 130,   2,   6,\n",
       "          4,   6,   1,   9,   3,   2,   2,   2,   6,   2,   8,   2,   1,\n",
       "          6,   1,   2,   1,   1,   5,   1,   1,   8,  41,   3,  59,   1,\n",
       "         80,  49,   9,   2,   1,   4,   2,   1,  39,   4,  19,   7,   1,\n",
       "          9,  12,  22,   5,   8,  11,  11,   5,   8,   1,   1,  10,  12,\n",
       "          3,   1,   4,   2,   1,  11,   2,   6,   3,  14,  42,   8,   3,\n",
       "          1,   1,  13,  59,   5,   9,  15,   4,   2,  12,  10,   1,   8,\n",
       "          1,  20,   1,  23,  10,   4,   3,   3,  26,   4,   2,   3,   2,\n",
       "          4,  83,  30,  11,   6,   4,  11,  26,  20]))"
      ]
     },
     "execution_count": 185,
     "metadata": {},
     "output_type": "execute_result"
    }
   ],
   "source": [
    "np.unique(train_marginals, return_counts=True)"
   ]
  },
  {
   "cell_type": "code",
   "execution_count": 187,
   "metadata": {},
   "outputs": [
    {
     "data": {
      "text/plain": [
       "(array([0., 1.]), array([3681,  109]))"
      ]
     },
     "execution_count": 187,
     "metadata": {},
     "output_type": "execute_result"
    }
   ],
   "source": [
    "np.unique((L_gold_train.toarray().reshape(-1)+1)/2, return_counts=True)"
   ]
  },
  {
   "cell_type": "code",
   "execution_count": 188,
   "metadata": {},
   "outputs": [],
   "source": [
    "gold_margnals = (L_gold_train.toarray().reshape(-1)+1)/2"
   ]
  },
  {
   "cell_type": "code",
   "execution_count": 189,
   "metadata": {},
   "outputs": [
    {
     "name": "stdout",
     "output_type": "stream",
     "text": [
      "[LogisticRegression] Training model\n",
      "[LogisticRegression] n_train=3790  #epochs=200  batch size=256\n",
      "[LogisticRegression] Epoch 0 (4.14s)\tAverage loss=2299.949951\n",
      "[LogisticRegression] Epoch 5 (13.82s)\tAverage loss=60.394405\n",
      "[LogisticRegression] Epoch 10 (24.32s)\tAverage loss=27.820278\n",
      "[LogisticRegression] Epoch 15 (38.35s)\tAverage loss=25.518719\n",
      "[LogisticRegression] Epoch 20 (48.21s)\tAverage loss=23.550877\n",
      "[LogisticRegression] Epoch 25 (58.33s)\tAverage loss=21.006588\n",
      "[LogisticRegression] Epoch 30 (68.39s)\tAverage loss=18.556313\n",
      "[LogisticRegression] Epoch 35 (77.85s)\tAverage loss=15.623155\n",
      "[LogisticRegression] Epoch 40 (87.86s)\tAverage loss=13.075367\n",
      "[LogisticRegression] Epoch 45 (98.43s)\tAverage loss=10.884969\n",
      "[LogisticRegression] Epoch 50 (108.57s)\tAverage loss=8.544092\n",
      "[LogisticRegression] Epoch 55 (117.98s)\tAverage loss=6.570770\n",
      "[LogisticRegression] Epoch 60 (127.49s)\tAverage loss=5.020976\n",
      "[LogisticRegression] Epoch 65 (138.19s)\tAverage loss=3.701843\n",
      "[LogisticRegression] Epoch 70 (147.92s)\tAverage loss=2.630587\n",
      "[LogisticRegression] Epoch 75 (156.63s)\tAverage loss=2.045736\n",
      "[LogisticRegression] Epoch 80 (165.06s)\tAverage loss=1.739524\n",
      "[LogisticRegression] Epoch 85 (173.61s)\tAverage loss=1.421605\n",
      "[LogisticRegression] Epoch 90 (182.71s)\tAverage loss=1.209395\n",
      "[LogisticRegression] Epoch 95 (192.08s)\tAverage loss=1.068791\n",
      "[LogisticRegression] Epoch 100 (201.03s)\tAverage loss=0.917003\n",
      "[LogisticRegression] Epoch 105 (210.06s)\tAverage loss=0.821065\n",
      "[LogisticRegression] Epoch 110 (218.87s)\tAverage loss=0.726722\n",
      "[LogisticRegression] Epoch 115 (227.77s)\tAverage loss=0.629082\n",
      "[LogisticRegression] Epoch 120 (236.45s)\tAverage loss=0.545794\n",
      "[LogisticRegression] Epoch 125 (245.55s)\tAverage loss=0.481830\n",
      "[LogisticRegression] Epoch 130 (254.13s)\tAverage loss=0.437694\n",
      "[LogisticRegression] Epoch 135 (262.99s)\tAverage loss=0.394609\n",
      "[LogisticRegression] Epoch 140 (273.28s)\tAverage loss=0.351016\n",
      "[LogisticRegression] Epoch 145 (282.31s)\tAverage loss=0.302927\n",
      "[LogisticRegression] Epoch 150 (293.73s)\tAverage loss=0.275411\n",
      "[LogisticRegression] Epoch 155 (303.20s)\tAverage loss=0.255605\n",
      "[LogisticRegression] Epoch 160 (312.12s)\tAverage loss=0.236040\n",
      "[LogisticRegression] Epoch 165 (323.13s)\tAverage loss=0.244000\n",
      "[LogisticRegression] Epoch 170 (331.67s)\tAverage loss=0.210657\n",
      "[LogisticRegression] Epoch 175 (340.57s)\tAverage loss=0.196815\n",
      "[LogisticRegression] Epoch 180 (349.18s)\tAverage loss=0.188557\n",
      "[LogisticRegression] Epoch 185 (357.84s)\tAverage loss=0.181186\n",
      "[LogisticRegression] Epoch 190 (366.53s)\tAverage loss=0.179936\n",
      "[LogisticRegression] Epoch 195 (375.27s)\tAverage loss=0.172904\n",
      "[LogisticRegression] Epoch 199 (384.91s)\tAverage loss=0.168836\n",
      "[LogisticRegression] Training done (384.92s)\n"
     ]
    }
   ],
   "source": [
    "from fonduer import LogisticRegression\n",
    "\n",
    "disc_model = LogisticRegression()\n",
    "disc_model.train(F_train, gold_margnals, n_epochs=200, lr=0.001)"
   ]
  },
  {
   "cell_type": "code",
   "execution_count": 57,
   "metadata": {},
   "outputs": [
    {
     "name": "stdout",
     "output_type": "stream",
     "text": [
      "[LogisticRegression] Training model\n",
      "[LogisticRegression] n_train=3790  #epochs=200  batch size=256\n",
      "[LogisticRegression] Epoch 0 (4.69s)\tAverage loss=786.551453\n",
      "[LogisticRegression] Epoch 5 (16.63s)\tAverage loss=200.050262\n",
      "[LogisticRegression] Epoch 10 (30.37s)\tAverage loss=20.253096\n",
      "[LogisticRegression] Epoch 15 (41.90s)\tAverage loss=9.881211\n",
      "[LogisticRegression] Epoch 20 (52.79s)\tAverage loss=7.248130\n",
      "[LogisticRegression] Epoch 25 (63.44s)\tAverage loss=5.610738\n",
      "[LogisticRegression] Epoch 30 (73.28s)\tAverage loss=4.317004\n",
      "[LogisticRegression] Epoch 35 (83.19s)\tAverage loss=3.471728\n",
      "[LogisticRegression] Epoch 40 (92.91s)\tAverage loss=2.830765\n",
      "[LogisticRegression] Epoch 45 (102.57s)\tAverage loss=2.343040\n",
      "[LogisticRegression] Epoch 50 (112.67s)\tAverage loss=2.009864\n",
      "[LogisticRegression] Epoch 55 (123.48s)\tAverage loss=1.731251\n",
      "[LogisticRegression] Epoch 60 (134.00s)\tAverage loss=1.408390\n",
      "[LogisticRegression] Epoch 65 (143.95s)\tAverage loss=1.486427\n",
      "[LogisticRegression] Epoch 70 (154.07s)\tAverage loss=1.080916\n",
      "[LogisticRegression] Epoch 75 (164.27s)\tAverage loss=0.939021\n",
      "[LogisticRegression] Epoch 80 (174.42s)\tAverage loss=0.966209\n",
      "[LogisticRegression] Epoch 85 (184.32s)\tAverage loss=0.790232\n",
      "[LogisticRegression] Epoch 90 (194.45s)\tAverage loss=0.761401\n",
      "[LogisticRegression] Epoch 95 (204.58s)\tAverage loss=0.795551\n",
      "[LogisticRegression] Epoch 100 (214.97s)\tAverage loss=0.651511\n",
      "[LogisticRegression] Epoch 105 (225.35s)\tAverage loss=0.874286\n",
      "[LogisticRegression] Epoch 110 (234.98s)\tAverage loss=0.719709\n",
      "[LogisticRegression] Epoch 115 (245.21s)\tAverage loss=0.667980\n",
      "[LogisticRegression] Epoch 120 (255.24s)\tAverage loss=0.617659\n",
      "[LogisticRegression] Epoch 125 (265.36s)\tAverage loss=0.545332\n",
      "[LogisticRegression] Epoch 130 (275.76s)\tAverage loss=0.821103\n",
      "[LogisticRegression] Epoch 135 (285.18s)\tAverage loss=0.518049\n",
      "[LogisticRegression] Epoch 140 (295.02s)\tAverage loss=0.495644\n",
      "[LogisticRegression] Epoch 145 (304.52s)\tAverage loss=0.525235\n",
      "[LogisticRegression] Epoch 150 (313.68s)\tAverage loss=0.528080\n",
      "[LogisticRegression] Epoch 155 (322.95s)\tAverage loss=0.506687\n",
      "[LogisticRegression] Epoch 160 (332.13s)\tAverage loss=0.548568\n",
      "[LogisticRegression] Epoch 165 (341.47s)\tAverage loss=0.797008\n",
      "[LogisticRegression] Epoch 170 (350.97s)\tAverage loss=0.461504\n",
      "[LogisticRegression] Epoch 175 (360.83s)\tAverage loss=0.519936\n",
      "[LogisticRegression] Epoch 180 (370.32s)\tAverage loss=0.557829\n",
      "[LogisticRegression] Epoch 185 (380.25s)\tAverage loss=0.425665\n",
      "[LogisticRegression] Epoch 190 (389.46s)\tAverage loss=0.442214\n",
      "[LogisticRegression] Epoch 195 (398.85s)\tAverage loss=0.411240\n",
      "[LogisticRegression] Epoch 199 (406.17s)\tAverage loss=0.432803\n",
      "[LogisticRegression] Training done (406.17s)\n"
     ]
    },
    {
     "ename": "AttributeError",
     "evalue": "'numpy.ndarray' object has no attribute 'get_candidate'",
     "output_type": "error",
     "traceback": [
      "\u001b[0;31m---------------------------------------------------------------------------\u001b[0m",
      "\u001b[0;31mAttributeError\u001b[0m                            Traceback (most recent call last)",
      "\u001b[0;32m<ipython-input-57-649ad6f10748>\u001b[0m in \u001b[0;36m<module>\u001b[0;34m()\u001b[0m\n\u001b[1;32m      3\u001b[0m \u001b[0mdisc_model\u001b[0m \u001b[0;34m=\u001b[0m \u001b[0mLogisticRegression\u001b[0m\u001b[0;34m(\u001b[0m\u001b[0;34m)\u001b[0m\u001b[0;34m\u001b[0m\u001b[0m\n\u001b[1;32m      4\u001b[0m \u001b[0mdisc_model\u001b[0m\u001b[0;34m.\u001b[0m\u001b[0mtrain\u001b[0m\u001b[0;34m(\u001b[0m\u001b[0mF_train\u001b[0m\u001b[0;34m,\u001b[0m \u001b[0mtrain_marginals\u001b[0m\u001b[0;34m,\u001b[0m \u001b[0mn_epochs\u001b[0m\u001b[0;34m=\u001b[0m\u001b[0;36m200\u001b[0m\u001b[0;34m,\u001b[0m \u001b[0mlr\u001b[0m\u001b[0;34m=\u001b[0m\u001b[0;36m0.001\u001b[0m\u001b[0;34m)\u001b[0m\u001b[0;34m\u001b[0m\u001b[0m\n\u001b[0;32m----> 5\u001b[0;31m \u001b[0mtest_candidates\u001b[0m \u001b[0;34m=\u001b[0m \u001b[0;34m[\u001b[0m\u001b[0mF_test\u001b[0m\u001b[0;34m.\u001b[0m\u001b[0mget_candidate\u001b[0m\u001b[0;34m(\u001b[0m\u001b[0msession\u001b[0m\u001b[0;34m,\u001b[0m \u001b[0mi\u001b[0m\u001b[0;34m)\u001b[0m \u001b[0;32mfor\u001b[0m \u001b[0mi\u001b[0m \u001b[0;32min\u001b[0m \u001b[0mrange\u001b[0m\u001b[0;34m(\u001b[0m\u001b[0mF_test\u001b[0m\u001b[0;34m.\u001b[0m\u001b[0mshape\u001b[0m\u001b[0;34m[\u001b[0m\u001b[0;36m0\u001b[0m\u001b[0;34m]\u001b[0m\u001b[0;34m)\u001b[0m\u001b[0;34m]\u001b[0m\u001b[0;34m\u001b[0m\u001b[0m\n\u001b[0m\u001b[1;32m      6\u001b[0m \u001b[0mtest_score\u001b[0m \u001b[0;34m=\u001b[0m \u001b[0mdisc_model\u001b[0m\u001b[0;34m.\u001b[0m\u001b[0mpredictions\u001b[0m\u001b[0;34m(\u001b[0m\u001b[0mF_test\u001b[0m\u001b[0;34m)\u001b[0m\u001b[0;34m\u001b[0m\u001b[0m\n\u001b[1;32m      7\u001b[0m \u001b[0mtrue_pred\u001b[0m \u001b[0;34m=\u001b[0m \u001b[0;34m[\u001b[0m\u001b[0mtest_candidates\u001b[0m\u001b[0;34m[\u001b[0m\u001b[0m_\u001b[0m\u001b[0;34m]\u001b[0m \u001b[0;32mfor\u001b[0m \u001b[0m_\u001b[0m \u001b[0;32min\u001b[0m \u001b[0mnp\u001b[0m\u001b[0;34m.\u001b[0m\u001b[0mnditer\u001b[0m\u001b[0;34m(\u001b[0m\u001b[0mnp\u001b[0m\u001b[0;34m.\u001b[0m\u001b[0mwhere\u001b[0m\u001b[0;34m(\u001b[0m\u001b[0mtest_score\u001b[0m \u001b[0;34m>\u001b[0m \u001b[0;36m0\u001b[0m\u001b[0;34m)\u001b[0m\u001b[0;34m)\u001b[0m\u001b[0;34m]\u001b[0m\u001b[0;34m\u001b[0m\u001b[0m\n",
      "\u001b[0;32m<ipython-input-57-649ad6f10748>\u001b[0m in \u001b[0;36m<listcomp>\u001b[0;34m(.0)\u001b[0m\n\u001b[1;32m      3\u001b[0m \u001b[0mdisc_model\u001b[0m \u001b[0;34m=\u001b[0m \u001b[0mLogisticRegression\u001b[0m\u001b[0;34m(\u001b[0m\u001b[0;34m)\u001b[0m\u001b[0;34m\u001b[0m\u001b[0m\n\u001b[1;32m      4\u001b[0m \u001b[0mdisc_model\u001b[0m\u001b[0;34m.\u001b[0m\u001b[0mtrain\u001b[0m\u001b[0;34m(\u001b[0m\u001b[0mF_train\u001b[0m\u001b[0;34m,\u001b[0m \u001b[0mtrain_marginals\u001b[0m\u001b[0;34m,\u001b[0m \u001b[0mn_epochs\u001b[0m\u001b[0;34m=\u001b[0m\u001b[0;36m200\u001b[0m\u001b[0;34m,\u001b[0m \u001b[0mlr\u001b[0m\u001b[0;34m=\u001b[0m\u001b[0;36m0.001\u001b[0m\u001b[0;34m)\u001b[0m\u001b[0;34m\u001b[0m\u001b[0m\n\u001b[0;32m----> 5\u001b[0;31m \u001b[0mtest_candidates\u001b[0m \u001b[0;34m=\u001b[0m \u001b[0;34m[\u001b[0m\u001b[0mF_test\u001b[0m\u001b[0;34m.\u001b[0m\u001b[0mget_candidate\u001b[0m\u001b[0;34m(\u001b[0m\u001b[0msession\u001b[0m\u001b[0;34m,\u001b[0m \u001b[0mi\u001b[0m\u001b[0;34m)\u001b[0m \u001b[0;32mfor\u001b[0m \u001b[0mi\u001b[0m \u001b[0;32min\u001b[0m \u001b[0mrange\u001b[0m\u001b[0;34m(\u001b[0m\u001b[0mF_test\u001b[0m\u001b[0;34m.\u001b[0m\u001b[0mshape\u001b[0m\u001b[0;34m[\u001b[0m\u001b[0;36m0\u001b[0m\u001b[0;34m]\u001b[0m\u001b[0;34m)\u001b[0m\u001b[0;34m]\u001b[0m\u001b[0;34m\u001b[0m\u001b[0m\n\u001b[0m\u001b[1;32m      6\u001b[0m \u001b[0mtest_score\u001b[0m \u001b[0;34m=\u001b[0m \u001b[0mdisc_model\u001b[0m\u001b[0;34m.\u001b[0m\u001b[0mpredictions\u001b[0m\u001b[0;34m(\u001b[0m\u001b[0mF_test\u001b[0m\u001b[0;34m)\u001b[0m\u001b[0;34m\u001b[0m\u001b[0m\n\u001b[1;32m      7\u001b[0m \u001b[0mtrue_pred\u001b[0m \u001b[0;34m=\u001b[0m \u001b[0;34m[\u001b[0m\u001b[0mtest_candidates\u001b[0m\u001b[0;34m[\u001b[0m\u001b[0m_\u001b[0m\u001b[0;34m]\u001b[0m \u001b[0;32mfor\u001b[0m \u001b[0m_\u001b[0m \u001b[0;32min\u001b[0m \u001b[0mnp\u001b[0m\u001b[0;34m.\u001b[0m\u001b[0mnditer\u001b[0m\u001b[0;34m(\u001b[0m\u001b[0mnp\u001b[0m\u001b[0;34m.\u001b[0m\u001b[0mwhere\u001b[0m\u001b[0;34m(\u001b[0m\u001b[0mtest_score\u001b[0m \u001b[0;34m>\u001b[0m \u001b[0;36m0\u001b[0m\u001b[0;34m)\u001b[0m\u001b[0;34m)\u001b[0m\u001b[0;34m]\u001b[0m\u001b[0;34m\u001b[0m\u001b[0m\n",
      "\u001b[0;31mAttributeError\u001b[0m: 'numpy.ndarray' object has no attribute 'get_candidate'"
     ]
    }
   ],
   "source": [
    "from fonduer import LogisticRegression\n",
    "\n",
    "disc_model = LogisticRegression()\n",
    "disc_model.train(F_train, train_marginals, n_epochs=200, lr=0.001)"
   ]
  },
  {
   "cell_type": "code",
   "execution_count": 62,
   "metadata": {},
   "outputs": [
    {
     "data": {
      "text/plain": [
       "Org_Fig(ImplicitSpan(\"b'benzothiazoles'\", sentence=80303, words=[10,10], position=[0]), DetailedImage(Doc: b'Visible light photoredox catalysis_ conversion of a mixture of thiophenols and nitriles into 2-substituted benzothiazoles via consecutive C\\xe2\\x80\\x93S and C\\xe2\\x80\\x93N ... - Organic Chemistry Frontiers (RSC Publishing) DOI_10.1039_C8QO00219C', Position: 1, Url: ./Visible light photoredox catalysis_ conversion of a mixture of thiophenols and nitriles into 2-substituted benzothiazoles via consecutive C–S and C–N ... - Organic Chemistry Frontiers (RSC Publishing) DOI_10.1039_C8QO00219C_files/c8qo00219c-s2.gif, Figure_description: Visible-light-induced synthesis of 2-substituted benzothiazoles from the mixture of thiophenols and nitriles reported in this work.))"
      ]
     },
     "execution_count": 62,
     "metadata": {},
     "output_type": "execute_result"
    }
   ],
   "source": [
    "F_train_sparse = featurizer.load_matrix(split = 0)\n",
    "F_test_sparse = featurizer.load_matrix(split = 1)\n",
    "F_test_sparse.get_candidate(session,0)"
   ]
  },
  {
   "cell_type": "code",
   "execution_count": 58,
   "metadata": {},
   "outputs": [],
   "source": [
    "test_candidates = [F_test_sparse.get_candidate(session, i) for i in range(F_test_sparse.shape[0])]\n",
    "test_score = disc_model.predictions(F_test)\n",
    "true_pred = [test_candidates[_] for _ in np.nditer(np.where(test_score > 0))]\n",
    "train_score = disc_model.predictions(F_train)"
   ]
  },
  {
   "cell_type": "code",
   "execution_count": 39,
   "metadata": {},
   "outputs": [],
   "source": [
    "# load gold label\n",
    "from tutorials.organic_synthesis_figures.organic_utils import load_organic_labels"
   ]
  },
  {
   "cell_type": "code",
   "execution_count": 41,
   "metadata": {},
   "outputs": [
    {
     "name": "stdout",
     "output_type": "stream",
     "text": [
      "Loading 4262 candidate labels\n",
      "[========================================] 100%\n",
      "AnnotatorLabels created: 4262\n"
     ]
    }
   ],
   "source": [
    "gold_file = os.environ['FONDUERHOME'] + '/tutorials/organic_synthesis_figures/organic_gold.csv'\n",
    "\n",
    "load_organic_labels(session, Org_Fig, gold_file, ATTRIBUTE ,\n",
    "                    annotator_name='gold')"
   ]
  },
  {
   "cell_type": "code",
   "execution_count": 42,
   "metadata": {},
   "outputs": [],
   "source": [
    "from fonduer import load_gold_labels"
   ]
  },
  {
   "cell_type": "code",
   "execution_count": 43,
   "metadata": {},
   "outputs": [
    {
     "name": "stdout",
     "output_type": "stream",
     "text": [
      "                       j  Coverage  Overlaps  Conflicts   TP    FP  FN    TN  \\\n",
      "LF_match_blacklist     0  0.010290  0.010290   0.010290    0     0   0    39   \n",
      "LF_text_desc_match     1  0.884169  0.884169   0.751979  109  2260   0   982   \n",
      "LF_organic_compound    2  0.845119  0.845119   0.806596  101  3102   0     0   \n",
      "LF_match_whitelist     3  0.296570  0.296570   0.246174   74  1050   0     0   \n",
      "LF_ocr_text_match      4  1.000000  1.000000   0.861741   58   947  51  2734   \n",
      "LF_product_of          5  0.000528  0.000528   0.000528    0     0   0     2   \n",
      "LF_text_length_match   6  0.323219  0.323219   0.323219    0     0   0  1225   \n",
      "LF_fig_name_match      7  0.118734  0.118734   0.063325    0     0   0   450   \n",
      "LF_pos_near            8  0.262005  0.262005   0.202111   45   948   0     0   \n",
      "LF_match_keywords      9  0.000000  0.000000   0.000000    0     0   0     0   \n",
      "LF_match_page         10  1.000000  1.000000   0.861741   56  1118  53  2563   \n",
      "LF_first_period       11  0.502902  0.502902   0.436148  105  1801   0     0   \n",
      "LF_synthesis_of       12  0.121108  0.121108   0.111082   33    96  24   306   \n",
      "\n",
      "                      Empirical Acc.  \n",
      "LF_match_blacklist          1.000000  \n",
      "LF_text_desc_match          0.325574  \n",
      "LF_organic_compound         0.031533  \n",
      "LF_match_whitelist          0.065836  \n",
      "LF_ocr_text_match           0.736675  \n",
      "LF_product_of               1.000000  \n",
      "LF_text_length_match        1.000000  \n",
      "LF_fig_name_match           1.000000  \n",
      "LF_pos_near                 0.045317  \n",
      "LF_match_keywords                NaN  \n",
      "LF_match_page               0.691029  \n",
      "LF_first_period             0.055089  \n",
      "LF_synthesis_of             0.738562  \n"
     ]
    },
    {
     "name": "stderr",
     "output_type": "stream",
     "text": [
      "/Users/liwei/BoxSync/s2016/Dropbox/839_fonduer/fonduer/async_annotations.py:106: RuntimeWarning: invalid value encountered in true_divide\n",
      "  ac = (tp+tn) / (tp+tn+fp+fn)\n"
     ]
    }
   ],
   "source": [
    "L_gold_train = load_gold_labels(session, annotator_name=\"gold\", split=0)\n",
    "print(L_train.lf_stats(L_gold_train))"
   ]
  },
  {
   "cell_type": "code",
   "execution_count": 44,
   "metadata": {},
   "outputs": [],
   "source": [
    "L_gold_test = load_gold_labels(session, annotator_name=\"gold\", split=1)"
   ]
  },
  {
   "cell_type": "code",
   "execution_count": 53,
   "metadata": {},
   "outputs": [],
   "source": [
    "prec, rec, f1 = gen_model.score(L_test, L_gold_test)"
   ]
  },
  {
   "cell_type": "code",
   "execution_count": 54,
   "metadata": {},
   "outputs": [
    {
     "name": "stdout",
     "output_type": "stream",
     "text": [
      "precision  0.057971014492753624  recall  0.9090909090909091  f1  0.10899182561307902\n"
     ]
    }
   ],
   "source": [
    "print(\"precision \", prec, \" recall \", rec, \" f1 \", f1)"
   ]
  },
  {
   "cell_type": "code",
   "execution_count": 60,
   "metadata": {},
   "outputs": [
    {
     "data": {
      "text/plain": [
       "(472, 13)"
      ]
     },
     "execution_count": 60,
     "metadata": {},
     "output_type": "execute_result"
    }
   ],
   "source": [
    "L_test.shape"
   ]
  },
  {
   "cell_type": "code",
   "execution_count": 73,
   "metadata": {},
   "outputs": [
    {
     "data": {
      "text/plain": [
       "177"
      ]
     },
     "execution_count": 73,
     "metadata": {},
     "output_type": "execute_result"
    }
   ],
   "source": [
    "len(true_pred)"
   ]
  },
  {
   "cell_type": "code",
   "execution_count": 74,
   "metadata": {},
   "outputs": [
    {
     "data": {
      "text/plain": [
       "{Document b'Synthesis of trans -disubstituted-2,3-dihydrobenzofurans by a formal [4 + 1] annulation between para -quinone methides and sulfonium salts - Organic Chemistry Frontiers (RSC Publishing) DOI_10.1039_C8QO00008E',\n",
       " Document b'Total synthesis of strictamine_ a tutorial for novel and efficient synthesis - Organic Chemistry Frontiers (RSC Publishing) DOI_10.1039_C7QO00837F',\n",
       " Document b'Total synthesis of teixobactin and its stereoisomers - Organic Chemistry Frontiers (RSC Publishing) DOI_10.1039_C8QO00145F',\n",
       " Document b'Visible light photoredox catalysis_ conversion of a mixture of thiophenols and nitriles into 2-substituted benzothiazoles via consecutive C\\xe2\\x80\\x93S and C\\xe2\\x80\\x93N ... - Organic Chemistry Frontiers (RSC Publishing) DOI_10.1039_C8QO00219C'}"
      ]
     },
     "execution_count": 74,
     "metadata": {},
     "output_type": "execute_result"
    }
   ],
   "source": [
    "test_docs"
   ]
  },
  {
   "cell_type": "code",
   "execution_count": 61,
   "metadata": {},
   "outputs": [
    {
     "data": {
      "text/plain": [
       "<472x1 sparse matrix of type '<class 'numpy.int64'>'\n",
       "\twith 472 stored elements in Compressed Sparse Row format>"
      ]
     },
     "execution_count": 61,
     "metadata": {},
     "output_type": "execute_result"
    }
   ],
   "source": [
    "L_gold_test"
   ]
  },
  {
   "cell_type": "code",
   "execution_count": 65,
   "metadata": {},
   "outputs": [],
   "source": [
    "from organic_utils import entity_level_f1\n"
   ]
  },
  {
   "cell_type": "code",
   "execution_count": 190,
   "metadata": {},
   "outputs": [],
   "source": [
    "test_score = disc_model.predictions(F_test)\n",
    "true_pred = [test_candidates[_] for _ in np.nditer(np.where(test_score > 0))]"
   ]
  },
  {
   "cell_type": "code",
   "execution_count": 191,
   "metadata": {},
   "outputs": [
    {
     "name": "stdout",
     "output_type": "stream",
     "text": [
      "Preparing candidates...\n",
      "[========================================] 100%\n",
      "31\n",
      "========================================\n",
      "Scoring on Entity-Level Gold Data\n",
      "========================================\n",
      "Total Gold labels      9\n",
      "Total Predicted labels 31\n",
      "Corpus Precision 0.129\n",
      "Corpus Recall    0.111\n",
      "Corpus F1        0.119\n",
      "----------------------------------------\n",
      "TP: 1(gold),4(pred) | FP: 27 | FN: 8\n",
      "========================================\n",
      "\n",
      "CPU times: user 175 ms, sys: 57.9 ms, total: 233 ms\n",
      "Wall time: 228 ms\n"
     ]
    }
   ],
   "source": [
    "%time (TP, FP, FN) = entity_level_f1(true_pred, gold_file, ATTRIBUTE, test_docs)"
   ]
  },
  {
   "cell_type": "code",
   "execution_count": 192,
   "metadata": {},
   "outputs": [
    {
     "data": {
      "text/plain": [
       "{Document b'Synthesis of trans -disubstituted-2,3-dihydrobenzofurans by a formal [4 + 1] annulation between para -quinone methides and sulfonium salts - Organic Chemistry Frontiers (RSC Publishing) DOI_10.1039_C8QO00008E',\n",
       " Document b'Total synthesis of strictamine_ a tutorial for novel and efficient synthesis - Organic Chemistry Frontiers (RSC Publishing) DOI_10.1039_C7QO00837F',\n",
       " Document b'Total synthesis of teixobactin and its stereoisomers - Organic Chemistry Frontiers (RSC Publishing) DOI_10.1039_C8QO00145F',\n",
       " Document b'Visible light photoredox catalysis_ conversion of a mixture of thiophenols and nitriles into 2-substituted benzothiazoles via consecutive C\\xe2\\x80\\x93S and C\\xe2\\x80\\x93N ... - Organic Chemistry Frontiers (RSC Publishing) DOI_10.1039_C8QO00219C'}"
      ]
     },
     "execution_count": 192,
     "metadata": {},
     "output_type": "execute_result"
    }
   ],
   "source": [
    "test_docs"
   ]
  },
  {
   "cell_type": "code",
   "execution_count": 164,
   "metadata": {
    "scrolled": false
   },
   "outputs": [],
   "source": [
    "def plot_tp_entity(e):\n",
    "    fig = plt.Figure(figsize=(20,20))\n",
    "    im = plt.imread(docs_path+e[0])\n",
    "    plt.imshow(im, cmap='gray')\n",
    "    plt.title(\"Gold: {}, Extracted: {}\".format(e[2], e[1]))\n",
    "    print(e[0])"
   ]
  },
  {
   "cell_type": "code",
   "execution_count": 151,
   "metadata": {},
   "outputs": [
    {
     "data": {
      "image/png": "[encoded data removed]",
      "text/plain": [
       "<Figure size 432x288 with 1 Axes>"
      ]
     },
     "metadata": {},
     "output_type": "display_data"
    }
   ],
   "source": [
    "plot_tp_entity(TP[0])"
   ]
  },
  {
   "cell_type": "code",
   "execution_count": 88,
   "metadata": {},
   "outputs": [
    {
     "data": {
      "text/plain": [
       "'/Users/liwei/BoxSync/s2016/Dropbox/839_fonduer/tutorials/organic_synthesis_figures/data/html/'"
      ]
     },
     "execution_count": 88,
     "metadata": {},
     "output_type": "execute_result"
    }
   ],
   "source": [
    "docs_path"
   ]
  },
  {
   "cell_type": "code",
   "execution_count": 97,
   "metadata": {},
   "outputs": [
    {
     "data": {
      "text/plain": [
       "Text(0.5,1,'2-substituted')"
      ]
     },
     "execution_count": 97,
     "metadata": {},
     "output_type": "execute_result"
    },
    {
     "data": {
      "image/png": "[encoded data removed]",
      "text/plain": [
       "<Figure size 432x288 with 1 Axes>"
      ]
     },
     "metadata": {},
     "output_type": "display_data"
    }
   ],
   "source": [
    "im = plt.imread(docs_path+TP2[0][2])\n",
    "plt.imshow(im, cmap='gray')\n",
    "plt.title(TP2[0][1])"
   ]
  },
  {
   "cell_type": "code",
   "execution_count": 98,
   "metadata": {},
   "outputs": [
    {
     "data": {
      "text/plain": [
       "Text(0.5,1,'2-aryl benzothiazoles')"
      ]
     },
     "execution_count": 98,
     "metadata": {},
     "output_type": "execute_result"
    },
    {
     "data": {
      "image/png": "[encoded data removed]",
      "text/plain": [
       "<Figure size 432x288 with 1 Axes>"
      ]
     },
     "metadata": {},
     "output_type": "display_data"
    }
   ],
   "source": [
    "im = plt.imread(docs_path+TP[0][2])\n",
    "plt.imshow(im, cmap='gray')\n",
    "plt.title(TP[0][1])"
   ]
  },
  {
   "cell_type": "code",
   "execution_count": 95,
   "metadata": {},
   "outputs": [
    {
     "data": {
      "text/plain": [
       "Text(0.5,1,'benzothiazole')"
      ]
     },
     "execution_count": 95,
     "metadata": {},
     "output_type": "execute_result"
    },
    {
     "data": {
      "image/png": "[encoded data removed]",
      "text/plain": [
       "<Figure size 432x288 with 1 Axes>"
      ]
     },
     "metadata": {},
     "output_type": "display_data"
    }
   ],
   "source": [
    "im = plt.imread(docs_path+TP2[1][2])\n",
    "plt.imshow(im, cmap='gray')\n",
    "plt.title(TP2[1][1])"
   ]
  },
  {
   "cell_type": "code",
   "execution_count": 92,
   "metadata": {},
   "outputs": [
    {
     "data": {
      "text/plain": [
       "Text(0.5,1,'2-substituted benzothiazoles')"
      ]
     },
     "execution_count": 92,
     "metadata": {},
     "output_type": "execute_result"
    },
    {
     "data": {
      "image/png": "[encoded data removed]",
      "text/plain": [
       "<Figure size 432x288 with 1 Axes>"
      ]
     },
     "metadata": {},
     "output_type": "display_data"
    }
   ],
   "source": [
    "im = plt.imread(docs_path+TP[1][2])\n",
    "plt.imshow(im, cmap='gray')\n",
    "plt.title(TP[1][1])"
   ]
  },
  {
   "cell_type": "code",
   "execution_count": 86,
   "metadata": {},
   "outputs": [
    {
     "data": {
      "text/plain": [
       "[('SYNTHESIS OF TRANS -DISUBSTITUTED-2,3-DIHYDROBENZOFURANS BY A FORMAL [4 + 1] ANNULATION BETWEEN PARA -QUINONE METHIDES AND SULFONIUM SALTS - ORGANIC CHEMISTRY FRONTIERS (RSC PUBLISHING) DOI_10.1039_C8QO00008E',\n",
       "  'hydroxy-substituted',\n",
       "  './Synthesis of trans -disubstituted-2,3-dihydrobenzofurans by a formal [4 + 1] annulation between para -quinone methides and sulfonium salts - Organic Chemistry Frontiers (RSC Publishing) DOI_10.1039_C8QO00008E_files/c8qo00008e-s1.gif'),\n",
       " ('SYNTHESIS OF TRANS -DISUBSTITUTED-2,3-DIHYDROBENZOFURANS BY A FORMAL [4 + 1] ANNULATION BETWEEN PARA -QUINONE METHIDES AND SULFONIUM SALTS - ORGANIC CHEMISTRY FRONTIERS (RSC PUBLISHING) DOI_10.1039_C8QO00008E',\n",
       "  'hydroxy-substituted p-QMs',\n",
       "  './Synthesis of trans -disubstituted-2,3-dihydrobenzofurans by a formal [4 + 1] annulation between para -quinone methides and sulfonium salts - Organic Chemistry Frontiers (RSC Publishing) DOI_10.1039_C8QO00008E_files/c8qo00008e-s1.gif'),\n",
       " ('SYNTHESIS OF TRANS -DISUBSTITUTED-2,3-DIHYDROBENZOFURANS BY A FORMAL [4 + 1] ANNULATION BETWEEN PARA -QUINONE METHIDES AND SULFONIUM SALTS - ORGANIC CHEMISTRY FRONTIERS (RSC PUBLISHING) DOI_10.1039_C8QO00008E',\n",
       "  'or vinyl',\n",
       "  './Synthesis of trans -disubstituted-2,3-dihydrobenzofurans by a formal [4 + 1] annulation between para -quinone methides and sulfonium salts - Organic Chemistry Frontiers (RSC Publishing) DOI_10.1039_C8QO00008E_files/c8qo00008e-s1.gif'),\n",
       " ('SYNTHESIS OF TRANS -DISUBSTITUTED-2,3-DIHYDROBENZOFURANS BY A FORMAL [4 + 1] ANNULATION BETWEEN PARA -QUINONE METHIDES AND SULFONIUM SALTS - ORGANIC CHEMISTRY FRONTIERS (RSC PUBLISHING) DOI_10.1039_C8QO00008E',\n",
       "  'p-QMs',\n",
       "  './Synthesis of trans -disubstituted-2,3-dihydrobenzofurans by a formal [4 + 1] annulation between para -quinone methides and sulfonium salts - Organic Chemistry Frontiers (RSC Publishing) DOI_10.1039_C8QO00008E_files/c8qo00008e-s1.gif'),\n",
       " ('SYNTHESIS OF TRANS -DISUBSTITUTED-2,3-DIHYDROBENZOFURANS BY A FORMAL [4 + 1] ANNULATION BETWEEN PARA -QUINONE METHIDES AND SULFONIUM SALTS - ORGANIC CHEMISTRY FRONTIERS (RSC PUBLISHING) DOI_10.1039_C8QO00008E',\n",
       "  'p-QMs or vinyl',\n",
       "  './Synthesis of trans -disubstituted-2,3-dihydrobenzofurans by a formal [4 + 1] annulation between para -quinone methides and sulfonium salts - Organic Chemistry Frontiers (RSC Publishing) DOI_10.1039_C8QO00008E_files/c8qo00008e-s1.gif'),\n",
       " ('SYNTHESIS OF TRANS -DISUBSTITUTED-2,3-DIHYDROBENZOFURANS BY A FORMAL [4 + 1] ANNULATION BETWEEN PARA -QUINONE METHIDES AND SULFONIUM SALTS - ORGANIC CHEMISTRY FRONTIERS (RSC PUBLISHING) DOI_10.1039_C8QO00008E',\n",
       "  'vinyl',\n",
       "  './Synthesis of trans -disubstituted-2,3-dihydrobenzofurans by a formal [4 + 1] annulation between para -quinone methides and sulfonium salts - Organic Chemistry Frontiers (RSC Publishing) DOI_10.1039_C8QO00008E_files/c8qo00008e-s1.gif'),\n",
       " ('TOTAL SYNTHESIS OF TEIXOBACTIN AND ITS STEREOISOMERS - ORGANIC CHEMISTRY FRONTIERS (RSC PUBLISHING) DOI_10.1039_C8QO00145F',\n",
       "  'DCM',\n",
       "  './Total synthesis of teixobactin and its stereoisomers - Organic Chemistry Frontiers (RSC Publishing) DOI_10.1039_C8QO00145F_files/c8qo00145f-s2.gif'),\n",
       " ('TOTAL SYNTHESIS OF TEIXOBACTIN AND ITS STEREOISOMERS - ORGANIC CHEMISTRY FRONTIERS (RSC PUBLISHING) DOI_10.1039_C8QO00145F',\n",
       "  'DIPEA',\n",
       "  './Total synthesis of teixobactin and its stereoisomers - Organic Chemistry Frontiers (RSC Publishing) DOI_10.1039_C8QO00145F_files/c8qo00145f-s2.gif'),\n",
       " ('TOTAL SYNTHESIS OF TEIXOBACTIN AND ITS STEREOISOMERS - ORGANIC CHEMISTRY FRONTIERS (RSC PUBLISHING) DOI_10.1039_C8QO00145F',\n",
       "  'DIPEA',\n",
       "  './Total synthesis of teixobactin and its stereoisomers - Organic Chemistry Frontiers (RSC Publishing) DOI_10.1039_C8QO00145F_files/c8qo00145f-s5.gif'),\n",
       " ('TOTAL SYNTHESIS OF TEIXOBACTIN AND ITS STEREOISOMERS - ORGANIC CHEMISTRY FRONTIERS (RSC PUBLISHING) DOI_10.1039_C8QO00145F',\n",
       "  'HATU',\n",
       "  './Total synthesis of teixobactin and its stereoisomers - Organic Chemistry Frontiers (RSC Publishing) DOI_10.1039_C8QO00145F_files/c8qo00145f-s5.gif'),\n",
       " ('TOTAL SYNTHESIS OF TEIXOBACTIN AND ITS STEREOISOMERS - ORGANIC CHEMISTRY FRONTIERS (RSC PUBLISHING) DOI_10.1039_C8QO00145F',\n",
       "  'HPLC',\n",
       "  './Total synthesis of teixobactin and its stereoisomers - Organic Chemistry Frontiers (RSC Publishing) DOI_10.1039_C8QO00145F_files/c8qo00145f-s5.gif'),\n",
       " ('TOTAL SYNTHESIS OF TEIXOBACTIN AND ITS STEREOISOMERS - ORGANIC CHEMISTRY FRONTIERS (RSC PUBLISHING) DOI_10.1039_C8QO00145F',\n",
       "  'II',\n",
       "  './Total synthesis of teixobactin and its stereoisomers - Organic Chemistry Frontiers (RSC Publishing) DOI_10.1039_C8QO00145F_files/c8qo00145f-s1.gif'),\n",
       " ('TOTAL SYNTHESIS OF TEIXOBACTIN AND ITS STEREOISOMERS - ORGANIC CHEMISTRY FRONTIERS (RSC PUBLISHING) DOI_10.1039_C8QO00145F',\n",
       "  'II',\n",
       "  './Total synthesis of teixobactin and its stereoisomers - Organic Chemistry Frontiers (RSC Publishing) DOI_10.1039_C8QO00145F_files/c8qo00145f-s2.gif'),\n",
       " ('TOTAL SYNTHESIS OF TEIXOBACTIN AND ITS STEREOISOMERS - ORGANIC CHEMISTRY FRONTIERS (RSC PUBLISHING) DOI_10.1039_C8QO00145F',\n",
       "  'NaBH4',\n",
       "  './Total synthesis of teixobactin and its stereoisomers - Organic Chemistry Frontiers (RSC Publishing) DOI_10.1039_C8QO00145F_files/c8qo00145f-s2.gif'),\n",
       " ('TOTAL SYNTHESIS OF TEIXOBACTIN AND ITS STEREOISOMERS - ORGANIC CHEMISTRY FRONTIERS (RSC PUBLISHING) DOI_10.1039_C8QO00145F',\n",
       "  'OH',\n",
       "  './Total synthesis of teixobactin and its stereoisomers - Organic Chemistry Frontiers (RSC Publishing) DOI_10.1039_C8QO00145F_files/c8qo00145f-s1.gif'),\n",
       " ('TOTAL SYNTHESIS OF TEIXOBACTIN AND ITS STEREOISOMERS - ORGANIC CHEMISTRY FRONTIERS (RSC PUBLISHING) DOI_10.1039_C8QO00145F',\n",
       "  'OH',\n",
       "  './Total synthesis of teixobactin and its stereoisomers - Organic Chemistry Frontiers (RSC Publishing) DOI_10.1039_C8QO00145F_files/c8qo00145f-s2.gif'),\n",
       " ('TOTAL SYNTHESIS OF TEIXOBACTIN AND ITS STEREOISOMERS - ORGANIC CHEMISTRY FRONTIERS (RSC PUBLISHING) DOI_10.1039_C8QO00145F',\n",
       "  'TFA',\n",
       "  './Total synthesis of teixobactin and its stereoisomers - Organic Chemistry Frontiers (RSC Publishing) DOI_10.1039_C8QO00145F_files/c8qo00145f-s2.gif'),\n",
       " ('TOTAL SYNTHESIS OF TEIXOBACTIN AND ITS STEREOISOMERS - ORGANIC CHEMISTRY FRONTIERS (RSC PUBLISHING) DOI_10.1039_C8QO00145F',\n",
       "  'TFA',\n",
       "  './Total synthesis of teixobactin and its stereoisomers - Organic Chemistry Frontiers (RSC Publishing) DOI_10.1039_C8QO00145F_files/c8qo00145f-s5.gif'),\n",
       " ('VISIBLE LIGHT PHOTOREDOX CATALYSIS_ CONVERSION OF A MIXTURE OF THIOPHENOLS AND NITRILES INTO 2-SUBSTITUTED BENZOTHIAZOLES VIA CONSECUTIVE C–S AND C–N ... - ORGANIC CHEMISTRY FRONTIERS (RSC PUBLISHING) DOI_10.1039_C8QO00219C',\n",
       "  '2-aryl',\n",
       "  './Visible light photoredox catalysis_ conversion of a mixture of thiophenols and nitriles into 2-substituted benzothiazoles via consecutive C–S and C–N ... - Organic Chemistry Frontiers (RSC Publishing) DOI_10.1039_C8QO00219C_files/c8qo00219c-s1.gif'),\n",
       " ('VISIBLE LIGHT PHOTOREDOX CATALYSIS_ CONVERSION OF A MIXTURE OF THIOPHENOLS AND NITRILES INTO 2-SUBSTITUTED BENZOTHIAZOLES VIA CONSECUTIVE C–S AND C–N ... - ORGANIC CHEMISTRY FRONTIERS (RSC PUBLISHING) DOI_10.1039_C8QO00219C',\n",
       "  'BN',\n",
       "  './Visible light photoredox catalysis_ conversion of a mixture of thiophenols and nitriles into 2-substituted benzothiazoles via consecutive C–S and C–N ... - Organic Chemistry Frontiers (RSC Publishing) DOI_10.1039_C8QO00219C_files/c8qo00219c-s2.gif'),\n",
       " ('VISIBLE LIGHT PHOTOREDOX CATALYSIS_ CONVERSION OF A MIXTURE OF THIOPHENOLS AND NITRILES INTO 2-SUBSTITUTED BENZOTHIAZOLES VIA CONSECUTIVE C–S AND C–N ... - ORGANIC CHEMISTRY FRONTIERS (RSC PUBLISHING) DOI_10.1039_C8QO00219C',\n",
       "  'BN',\n",
       "  './Visible light photoredox catalysis_ conversion of a mixture of thiophenols and nitriles into 2-substituted benzothiazoles via consecutive C–S and C–N ... - Organic Chemistry Frontiers (RSC Publishing) DOI_10.1039_C8QO00219C_files/c8qo00219c-s3.gif'),\n",
       " ('VISIBLE LIGHT PHOTOREDOX CATALYSIS_ CONVERSION OF A MIXTURE OF THIOPHENOLS AND NITRILES INTO 2-SUBSTITUTED BENZOTHIAZOLES VIA CONSECUTIVE C–S AND C–N ... - ORGANIC CHEMISTRY FRONTIERS (RSC PUBLISHING) DOI_10.1039_C8QO00219C',\n",
       "  'BN1',\n",
       "  './Visible light photoredox catalysis_ conversion of a mixture of thiophenols and nitriles into 2-substituted benzothiazoles via consecutive C–S and C–N ... - Organic Chemistry Frontiers (RSC Publishing) DOI_10.1039_C8QO00219C_files/c8qo00219c-s3.gif'),\n",
       " ('VISIBLE LIGHT PHOTOREDOX CATALYSIS_ CONVERSION OF A MIXTURE OF THIOPHENOLS AND NITRILES INTO 2-SUBSTITUTED BENZOTHIAZOLES VIA CONSECUTIVE C–S AND C–N ... - ORGANIC CHEMISTRY FRONTIERS (RSC PUBLISHING) DOI_10.1039_C8QO00219C',\n",
       "  'BN12',\n",
       "  './Visible light photoredox catalysis_ conversion of a mixture of thiophenols and nitriles into 2-substituted benzothiazoles via consecutive C–S and C–N ... - Organic Chemistry Frontiers (RSC Publishing) DOI_10.1039_C8QO00219C_files/c8qo00219c-s3.gif'),\n",
       " ('VISIBLE LIGHT PHOTOREDOX CATALYSIS_ CONVERSION OF A MIXTURE OF THIOPHENOLS AND NITRILES INTO 2-SUBSTITUTED BENZOTHIAZOLES VIA CONSECUTIVE C–S AND C–N ... - ORGANIC CHEMISTRY FRONTIERS (RSC PUBLISHING) DOI_10.1039_C8QO00219C',\n",
       "  'BT23',\n",
       "  './Visible light photoredox catalysis_ conversion of a mixture of thiophenols and nitriles into 2-substituted benzothiazoles via consecutive C–S and C–N ... - Organic Chemistry Frontiers (RSC Publishing) DOI_10.1039_C8QO00219C_files/c8qo00219c-s3.gif'),\n",
       " ('VISIBLE LIGHT PHOTOREDOX CATALYSIS_ CONVERSION OF A MIXTURE OF THIOPHENOLS AND NITRILES INTO 2-SUBSTITUTED BENZOTHIAZOLES VIA CONSECUTIVE C–S AND C–N ... - ORGANIC CHEMISTRY FRONTIERS (RSC PUBLISHING) DOI_10.1039_C8QO00219C',\n",
       "  'DMSO',\n",
       "  './Visible light photoredox catalysis_ conversion of a mixture of thiophenols and nitriles into 2-substituted benzothiazoles via consecutive C–S and C–N ... - Organic Chemistry Frontiers (RSC Publishing) DOI_10.1039_C8QO00219C_files/c8qo00219c-s2.gif'),\n",
       " ('VISIBLE LIGHT PHOTOREDOX CATALYSIS_ CONVERSION OF A MIXTURE OF THIOPHENOLS AND NITRILES INTO 2-SUBSTITUTED BENZOTHIAZOLES VIA CONSECUTIVE C–S AND C–N ... - ORGANIC CHEMISTRY FRONTIERS (RSC PUBLISHING) DOI_10.1039_C8QO00219C',\n",
       "  'DMSO',\n",
       "  './Visible light photoredox catalysis_ conversion of a mixture of thiophenols and nitriles into 2-substituted benzothiazoles via consecutive C–S and C–N ... - Organic Chemistry Frontiers (RSC Publishing) DOI_10.1039_C8QO00219C_files/c8qo00219c-s3.gif'),\n",
       " ('VISIBLE LIGHT PHOTOREDOX CATALYSIS_ CONVERSION OF A MIXTURE OF THIOPHENOLS AND NITRILES INTO 2-SUBSTITUTED BENZOTHIAZOLES VIA CONSECUTIVE C–S AND C–N ... - ORGANIC CHEMISTRY FRONTIERS (RSC PUBLISHING) DOI_10.1039_C8QO00219C',\n",
       "  'LED',\n",
       "  './Visible light photoredox catalysis_ conversion of a mixture of thiophenols and nitriles into 2-substituted benzothiazoles via consecutive C–S and C–N ... - Organic Chemistry Frontiers (RSC Publishing) DOI_10.1039_C8QO00219C_files/c8qo00219c-s2.gif'),\n",
       " ('VISIBLE LIGHT PHOTOREDOX CATALYSIS_ CONVERSION OF A MIXTURE OF THIOPHENOLS AND NITRILES INTO 2-SUBSTITUTED BENZOTHIAZOLES VIA CONSECUTIVE C–S AND C–N ... - ORGANIC CHEMISTRY FRONTIERS (RSC PUBLISHING) DOI_10.1039_C8QO00219C',\n",
       "  'LED',\n",
       "  './Visible light photoredox catalysis_ conversion of a mixture of thiophenols and nitriles into 2-substituted benzothiazoles via consecutive C–S and C–N ... - Organic Chemistry Frontiers (RSC Publishing) DOI_10.1039_C8QO00219C_files/c8qo00219c-s3.gif'),\n",
       " ('VISIBLE LIGHT PHOTOREDOX CATALYSIS_ CONVERSION OF A MIXTURE OF THIOPHENOLS AND NITRILES INTO 2-SUBSTITUTED BENZOTHIAZOLES VIA CONSECUTIVE C–S AND C–N ... - ORGANIC CHEMISTRY FRONTIERS (RSC PUBLISHING) DOI_10.1039_C8QO00219C',\n",
       "  'LEDs',\n",
       "  './Visible light photoredox catalysis_ conversion of a mixture of thiophenols and nitriles into 2-substituted benzothiazoles via consecutive C–S and C–N ... - Organic Chemistry Frontiers (RSC Publishing) DOI_10.1039_C8QO00219C_files/c8qo00219c-s2.gif'),\n",
       " ('VISIBLE LIGHT PHOTOREDOX CATALYSIS_ CONVERSION OF A MIXTURE OF THIOPHENOLS AND NITRILES INTO 2-SUBSTITUTED BENZOTHIAZOLES VIA CONSECUTIVE C–S AND C–N ... - ORGANIC CHEMISTRY FRONTIERS (RSC PUBLISHING) DOI_10.1039_C8QO00219C',\n",
       "  'LEDs',\n",
       "  './Visible light photoredox catalysis_ conversion of a mixture of thiophenols and nitriles into 2-substituted benzothiazoles via consecutive C–S and C–N ... - Organic Chemistry Frontiers (RSC Publishing) DOI_10.1039_C8QO00219C_files/c8qo00219c-s3.gif'),\n",
       " ('VISIBLE LIGHT PHOTOREDOX CATALYSIS_ CONVERSION OF A MIXTURE OF THIOPHENOLS AND NITRILES INTO 2-SUBSTITUTED BENZOTHIAZOLES VIA CONSECUTIVE C–S AND C–N ... - ORGANIC CHEMISTRY FRONTIERS (RSC PUBLISHING) DOI_10.1039_C8QO00219C',\n",
       "  'TP',\n",
       "  './Visible light photoredox catalysis_ conversion of a mixture of thiophenols and nitriles into 2-substituted benzothiazoles via consecutive C–S and C–N ... - Organic Chemistry Frontiers (RSC Publishing) DOI_10.1039_C8QO00219C_files/c8qo00219c-s2.gif'),\n",
       " ('VISIBLE LIGHT PHOTOREDOX CATALYSIS_ CONVERSION OF A MIXTURE OF THIOPHENOLS AND NITRILES INTO 2-SUBSTITUTED BENZOTHIAZOLES VIA CONSECUTIVE C–S AND C–N ... - ORGANIC CHEMISTRY FRONTIERS (RSC PUBLISHING) DOI_10.1039_C8QO00219C',\n",
       "  'TP',\n",
       "  './Visible light photoredox catalysis_ conversion of a mixture of thiophenols and nitriles into 2-substituted benzothiazoles via consecutive C–S and C–N ... - Organic Chemistry Frontiers (RSC Publishing) DOI_10.1039_C8QO00219C_files/c8qo00219c-s3.gif'),\n",
       " ('VISIBLE LIGHT PHOTOREDOX CATALYSIS_ CONVERSION OF A MIXTURE OF THIOPHENOLS AND NITRILES INTO 2-SUBSTITUTED BENZOTHIAZOLES VIA CONSECUTIVE C–S AND C–N ... - ORGANIC CHEMISTRY FRONTIERS (RSC PUBLISHING) DOI_10.1039_C8QO00219C',\n",
       "  'TP1',\n",
       "  './Visible light photoredox catalysis_ conversion of a mixture of thiophenols and nitriles into 2-substituted benzothiazoles via consecutive C–S and C–N ... - Organic Chemistry Frontiers (RSC Publishing) DOI_10.1039_C8QO00219C_files/c8qo00219c-s3.gif'),\n",
       " ('VISIBLE LIGHT PHOTOREDOX CATALYSIS_ CONVERSION OF A MIXTURE OF THIOPHENOLS AND NITRILES INTO 2-SUBSTITUTED BENZOTHIAZOLES VIA CONSECUTIVE C–S AND C–N ... - ORGANIC CHEMISTRY FRONTIERS (RSC PUBLISHING) DOI_10.1039_C8QO00219C',\n",
       "  'benzothiazoles from the',\n",
       "  './Visible light photoredox catalysis_ conversion of a mixture of thiophenols and nitriles into 2-substituted benzothiazoles via consecutive C–S and C–N ... - Organic Chemistry Frontiers (RSC Publishing) DOI_10.1039_C8QO00219C_files/c8qo00219c-s2.gif'),\n",
       " ('VISIBLE LIGHT PHOTOREDOX CATALYSIS_ CONVERSION OF A MIXTURE OF THIOPHENOLS AND NITRILES INTO 2-SUBSTITUTED BENZOTHIAZOLES VIA CONSECUTIVE C–S AND C–N ... - ORGANIC CHEMISTRY FRONTIERS (RSC PUBLISHING) DOI_10.1039_C8QO00219C',\n",
       "  'benzothiazoles through conventional',\n",
       "  './Visible light photoredox catalysis_ conversion of a mixture of thiophenols and nitriles into 2-substituted benzothiazoles via consecutive C–S and C–N ... - Organic Chemistry Frontiers (RSC Publishing) DOI_10.1039_C8QO00219C_files/c8qo00219c-s1.gif'),\n",
       " ('VISIBLE LIGHT PHOTOREDOX CATALYSIS_ CONVERSION OF A MIXTURE OF THIOPHENOLS AND NITRILES INTO 2-SUBSTITUTED BENZOTHIAZOLES VIA CONSECUTIVE C–S AND C–N ... - ORGANIC CHEMISTRY FRONTIERS (RSC PUBLISHING) DOI_10.1039_C8QO00219C',\n",
       "  'of 2-aryl',\n",
       "  './Visible light photoredox catalysis_ conversion of a mixture of thiophenols and nitriles into 2-substituted benzothiazoles via consecutive C–S and C–N ... - Organic Chemistry Frontiers (RSC Publishing) DOI_10.1039_C8QO00219C_files/c8qo00219c-s1.gif'),\n",
       " ('VISIBLE LIGHT PHOTOREDOX CATALYSIS_ CONVERSION OF A MIXTURE OF THIOPHENOLS AND NITRILES INTO 2-SUBSTITUTED BENZOTHIAZOLES VIA CONSECUTIVE C–S AND C–N ... - ORGANIC CHEMISTRY FRONTIERS (RSC PUBLISHING) DOI_10.1039_C8QO00219C',\n",
       "  'synthesis of 2-aryl',\n",
       "  './Visible light photoredox catalysis_ conversion of a mixture of thiophenols and nitriles into 2-substituted benzothiazoles via consecutive C–S and C–N ... - Organic Chemistry Frontiers (RSC Publishing) DOI_10.1039_C8QO00219C_files/c8qo00219c-s1.gif')]"
      ]
     },
     "execution_count": 86,
     "metadata": {},
     "output_type": "execute_result"
    }
   ],
   "source": [
    "def vis_entity(entity):\n",
    "    plt.imread(entity[2])"
   ]
  },
  {
   "cell_type": "code",
   "execution_count": null,
   "metadata": {},
   "outputs": [],
   "source": []
  }
 ],
 "metadata": {
  "kernelspec": {
   "display_name": "Python 3",
   "language": "python",
   "name": "python3"
  },
  "language_info": {
   "codemirror_mode": {
    "name": "ipython",
    "version": 3
   },
   "file_extension": ".py",
   "mimetype": "text/x-python",
   "name": "python",
   "nbconvert_exporter": "python",
   "pygments_lexer": "ipython3",
   "version": "3.6.4"
  }
 },
 "nbformat": 4,
 "nbformat_minor": 2
}
